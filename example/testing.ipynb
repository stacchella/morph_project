{
 "cells": [
  {
   "cell_type": "markdown",
   "metadata": {},
   "source": [
    "This notebook give an example of SFR density profile."
   ]
  },
  {
   "cell_type": "markdown",
   "metadata": {},
   "source": [
    "# Import modules"
   ]
  },
  {
   "cell_type": "code",
   "execution_count": 1,
   "metadata": {
    "ExecuteTime": {
     "end_time": "2018-11-14T15:53:24.914845Z",
     "start_time": "2018-11-14T15:53:24.199606Z"
    },
    "collapsed": true
   },
   "outputs": [],
   "source": [
    "import numpy as np\n",
    "import matplotlib.pyplot as plt\n",
    "from astropy.cosmology import Planck15 as cosmo\n",
    "\n"
   ]
  },
  {
   "cell_type": "code",
   "execution_count": null,
   "metadata": {
    "collapsed": true
   },
   "outputs": [],
   "source": [
    "\n",
    "\n"
   ]
  },
  {
   "cell_type": "markdown",
   "metadata": {},
   "source": [
    "# Define functions"
   ]
  },
  {
   "cell_type": "code",
   "execution_count": 2,
   "metadata": {
    "ExecuteTime": {
     "end_time": "2018-11-14T15:53:27.227166Z",
     "start_time": "2018-11-14T15:53:27.206395Z"
    },
    "collapsed": true
   },
   "outputs": [],
   "source": [
    "def make_SFR_profile(radius, SFR_total, Rs):\n",
    "    '''\n",
    "    This function returns the SFR surface density profile,\n",
    "    which we assume to be an exponential disk.\n",
    "    Input:\n",
    "        radius    : in kpc\n",
    "        SFR_total : total SFR (in Msun/yr)\n",
    "        Rs        : scale radius (in kpc)\n",
    "    Output:\n",
    "        SFRD      : SFR surface density (in Msun/yr/kpc^2)\n",
    "    '''\n",
    "    normalization = SFR_total/(2.0*np.pi*Rs**2)\n",
    "    return(normalization*np.exp(-1.0*radius/Rs))\n",
    "\n",
    "\n",
    "def get_size_from_profile(radius, profile):\n",
    "    '''\n",
    "    This function returns the half-mass size of a \n",
    "    2d surface density profile.\n",
    "    Input:\n",
    "        radius     : radial coordinates of profile\n",
    "        profile    : surface density profile\n",
    "    Output:\n",
    "        size       : half-mass radius\n",
    "    '''\n",
    "    # calculate cumulative\n",
    "    cumulative_from_profile = []\n",
    "    for rii in radius:\n",
    "        idx = (radius <= rii)\n",
    "        cumulative_from_profile = np.append(cumulative_from_profile, np.trapz(2.0*np.pi*radius[idx]*profile[idx], radius[idx]))\n",
    "    # get half mass value\n",
    "    half_mass = 0.5*cumulative_from_profile[-1]\n",
    "    return(np.interp(half_mass, cumulative_from_profile, radius))\n",
    "\n",
    "\n",
    "def compute_profile(radius, list_time, list_SFRtot, list_Rs):\n",
    "    '''\n",
    "    This function produces a summed profile (stellar mass)\n",
    "    according to a list of time, total SFRs and scale radii.\n",
    "    Input:\n",
    "        radius      : radial coordintes\n",
    "        list_time   : list of times (in Gyr)\n",
    "        list_SFRtot : list of SFRs\n",
    "        list_Rs     : list of scale radii\n",
    "    Output:\n",
    "        profile_sum : summed profile\n",
    "        profile_age : age profile (mass-weighted)\n",
    "    Notes:\n",
    "    - keep mass profile at each step (2d cumulative: np.cumsum(a,axis=0))\n",
    "    - compute RM at each step\n",
    "    '''\n",
    "    age_bins = 0.5*np.array(list_time)[::-1] + np.append(0.0, np.cumsum(np.array(list_time)[::-1])[:-1])\n",
    "    profile_collection = []\n",
    "    for ii in np.arange(len(list_time)):\n",
    "        profile_now = list_time[ii]*make_SFR_profile(radius_kpc, list_SFRtot[ii], list_Rs[ii])\n",
    "        if (ii == 0):\n",
    "            profile_collection = profile_now\n",
    "        else:\n",
    "            profile_collection = np.vstack([profile_collection, profile_now])\n",
    "    profile_sum = np.sum(profile_collection, axis=0)\n",
    "    profile_age = np.sum((profile_collection.T*age_bins[::-1]).T, axis=0)/profile_sum\n",
    "    return(profile_collection, profile_sum, profile_age)\n",
    "    \n"
   ]
  },
  {
   "cell_type": "code",
   "execution_count": 33,
   "metadata": {
    "ExecuteTime": {
     "end_time": "2018-11-14T20:26:37.084285Z",
     "start_time": "2018-11-14T20:26:37.078262Z"
    },
    "collapsed": false
   },
   "outputs": [
    {
     "name": "stdout",
     "output_type": "stream",
     "text": [
      "2.17408050559\n"
     ]
    }
   ],
   "source": [
    "def Rs_function(SFR, mass, redshift, x):\n",
    "    '''\n",
    "    TBD\n",
    "    '''\n",
    "    alpha, beta, gamma, delta = x\n",
    "    return(alpha*(mass/10**10)**beta*((SFR/mass)/10**-10)**gamma*(1+redshift)**delta)\n",
    "    \n",
    "    \n",
    "print Rs_function(3, 10**10.7, 0.2, [1.0, 0.3, -0.5, 0.2])\n"
   ]
  },
  {
   "cell_type": "code",
   "execution_count": 38,
   "metadata": {
    "ExecuteTime": {
     "end_time": "2018-11-14T20:38:00.958043Z",
     "start_time": "2018-11-14T20:38:00.916845Z"
    },
    "collapsed": true
   },
   "outputs": [],
   "source": [
    "class galaxy(object):\n",
    "    \n",
    "    def __init__(self, radius, list_scale_factor, list_SFRtot, Rs_params):\n",
    "        self.radius = np.array(radius)\n",
    "        self.scale_factor = np.array(list_scale_factor)\n",
    "        self.redshift = 1.0/np.array(list_scale_factor)-1\n",
    "        self.time = cosmo.age(self.redshift).value\n",
    "        self.scale_factor_boundary = np.append(0.0, self.scale_factor+0.5*np.append(np.diff(self.scale_factor), np.diff(self.scale_factor)[-1]))\n",
    "        self.time_boundary = cosmo.age(1.0/self.scale_factor_boundary-1.0).value\n",
    "        self.time_dt = np.diff(cosmo.age(1.0/self.scale_factor_boundary-1.0).value)\n",
    "        self.SFR = np.array(list_SFRtot)\n",
    "        self.mass = np.cumsum(self.time_dt*10**9*self.SFR)\n",
    "        self.Rs_params = np.array(Rs_params)\n",
    "        self.Rs = self.Rs_params[0]*(self.mass/10**10)**self.Rs_params[1]*((self.SFR/self.mass)/10**-10)**self.Rs_params[2]*(1+self.redshift)**self.Rs_params[3]\n",
    "        self.age = 0.5*self.time_dt[::-1] + np.append(0.0, np.cumsum(self.time_dt[::-1])[:-1])\n",
    "    \n",
    "    def build_mass_profile(self):\n",
    "        profile_collection = np.zeros((len(self.time_dt), len(self.radius)))\n",
    "        for ii in np.arange(len(self.time_dt)):\n",
    "            profile_collection[ii] = self.time_dt[ii]*make_SFR_profile(self.radius, self.SFR[ii], self.Rs[ii])\n",
    "        return(profile_collection)\n",
    "    \n",
    "    def get_age_profile(self):\n",
    "        profile_collection = self.build_mass_profile()\n",
    "        profile_age = np.sum((profile_collection.T*self.age[::-1]).T, axis=0)/np.sum(profile_collection, axis=0)\n",
    "        return(profile_age)\n",
    "        \n",
    "    def get_mass_profile(self):\n",
    "        profile_collection = self.build_mass_profile()\n",
    "        return(np.sum(profile_collection, axis=0))\n",
    "    \n",
    "    def get_size(self):\n",
    "        profile_collection = self.build_mass_profile()\n",
    "        profile_collection_cumsum = np.cumsum(profile_collection, axis=0)\n",
    "        RM = []\n",
    "        for ii in range(len(self.time_dt)):\n",
    "            RM.append(get_size_from_profile(self.radius, profile_collection_cumsum[ii]))\n",
    "        return(np.array(RM))\n",
    "    \n",
    "    \n",
    "    "
   ]
  },
  {
   "cell_type": "code",
   "execution_count": null,
   "metadata": {
    "collapsed": true
   },
   "outputs": [],
   "source": []
  },
  {
   "cell_type": "code",
   "execution_count": null,
   "metadata": {
    "collapsed": true
   },
   "outputs": [],
   "source": []
  },
  {
   "cell_type": "code",
   "execution_count": null,
   "metadata": {
    "collapsed": true
   },
   "outputs": [],
   "source": []
  },
  {
   "cell_type": "code",
   "execution_count": 40,
   "metadata": {
    "ExecuteTime": {
     "end_time": "2018-11-14T20:38:20.429144Z",
     "start_time": "2018-11-14T20:38:20.420919Z"
    },
    "collapsed": false
   },
   "outputs": [
    {
     "name": "stderr",
     "output_type": "stream",
     "text": [
      "/Users/sandrotacchella/anaconda2/lib/python2.7/site-packages/ipykernel/__main__.py:9: RuntimeWarning: divide by zero encountered in divide\n",
      "/Users/sandrotacchella/anaconda2/lib/python2.7/site-packages/ipykernel/__main__.py:10: RuntimeWarning: divide by zero encountered in divide\n"
     ]
    }
   ],
   "source": [
    "a = [0.1, 0.4, 0.7]\n",
    "SFR = [20.0, 100.0, 5.0]\n",
    "Rs = [2.0, 0.8, 4.0]\n",
    "\n",
    "radius_kpc = np.linspace(0.0, 50.0, num=501)\n",
    "\n",
    "galaxy_a = galaxy(radius_kpc, a, SFR, [1.0, 0.3, -0.5, 0.2])\n",
    "\n"
   ]
  },
  {
   "cell_type": "code",
   "execution_count": 42,
   "metadata": {
    "ExecuteTime": {
     "end_time": "2018-11-14T20:38:37.554488Z",
     "start_time": "2018-11-14T20:38:37.502969Z"
    },
    "collapsed": false
   },
   "outputs": [
    {
     "name": "stdout",
     "output_type": "stream",
     "text": [
      "[0.   0.25 0.55 0.85]\n",
      "[4.29713904e+10 4.96103994e+11 5.20442821e+11]\n",
      "[ 1.13770201  2.72926798 11.33949745]\n",
      "[1.91110093 4.26798957 4.44254321]\n",
      "[8.30082885 8.26155865 8.2229021  8.18489292 8.14756195 8.11093712\n",
      " 8.0750434  8.0399028  8.0055344  7.97195436 7.93917603 7.90720996\n",
      " 7.87606402 7.84574352 7.81625126 7.78758772 7.75975116 7.73273774\n",
      " 7.70654168 7.68115538 7.65656959 7.63277353 7.60975504 7.5875007\n",
      " 7.56599598 7.54522537 7.52517251 7.50582029 7.48715096 7.46914628\n",
      " 7.45178756 7.43505581 7.41893177 7.40339606 7.3884292  7.37401167\n",
      " 7.36012405 7.34674698 7.33386126 7.3214479  7.30948815 7.2979635\n",
      " 7.28685578 7.27614711 7.26582    7.25585729 7.24624222 7.23695841\n",
      " 7.22798989 7.21932111 7.21093689 7.20282251 7.19496362 7.1873463\n",
      " 7.17995703 7.1727827  7.16581058 7.15902834 7.152424   7.14598598\n",
      " 7.13970306 7.13356435 7.12755931 7.12167773 7.11590971 7.11024567\n",
      " 7.10467631 7.09919263 7.0937859  7.08844764 7.08316962 7.07794386\n",
      " 7.07276261 7.06761833 7.06250368 7.05741154 7.05233495 7.04726714\n",
      " 7.0422015  7.0371316  7.03205112 7.02695391 7.02183395 7.01668532\n",
      " 7.01150224 7.00627902 7.00101008 6.99568993 6.99031316 6.98487446\n",
      " 6.97936857 6.97379029 6.96813452 6.96239618 6.95657026 6.95065178\n",
      " 6.94463582 6.93851748 6.9322919  6.92595425 6.91949973 6.91292354\n",
      " 6.90622093 6.89938714 6.89241743 6.88530708 6.87805137 6.87064558\n",
      " 6.86308501 6.85536495 6.8474807  6.83942756 6.83120083 6.8227958\n",
      " 6.81420778 6.80543207 6.79646395 6.78729874 6.77793174 6.76835823\n",
      " 6.75857354 6.74857297 6.73835185 6.72790549 6.71722925 6.70631846\n",
      " 6.69516851 6.68377479 6.6721327  6.66023769 6.64808524 6.63567085\n",
      " 6.62299006 6.61003848 6.59681175 6.58330556 6.56951567 6.55543792\n",
      " 6.54106819 6.52640248 6.51143684 6.49616743 6.48059051 6.46470244\n",
      " 6.44849972 6.43197893 6.41513682 6.39797027 6.38047629 6.36265206\n",
      " 6.34449493 6.32600241 6.30717222 6.28800223 6.26849054 6.24863547\n",
      " 6.22843552 6.20788946 6.18699627 6.16575519 6.14416571 6.12222759\n",
      " 6.09994085 6.0773058  6.05432306 6.0309935  6.00731834 5.9832991\n",
      " 5.9589376  5.93423601 5.90919682 5.88382286 5.85811731 5.83208369\n",
      " 5.80572587 5.77904807 5.75205489 5.72475126 5.69714248 5.66923423\n",
      " 5.64103252 5.61254375 5.58377465 5.55473232 5.5254242  5.49585809\n",
      " 5.46604213 5.43598478 5.40569484 5.37518144 5.34445399 5.31352222\n",
      " 5.28239616 5.25108611 5.21960262 5.18795652 5.15615886 5.12422093\n",
      " 5.09215422 5.05997042 5.02768138 4.99529914 4.96283586 4.93030383\n",
      " 4.89771545 4.8650832  4.83241964 4.79973736 4.76704901 4.73436721\n",
      " 4.70170461 4.66907379 4.63648733 4.6039577  4.5714973  4.53911842\n",
      " 4.50683324 4.47465378 4.4425919  4.4106593  4.37886747 4.3472277\n",
      " 4.31575105 4.28444834 4.25333015 4.22240677 4.19168824 4.16118428\n",
      " 4.13090435 4.10085756 4.07105271 4.0414983  4.01220247 3.98317302\n",
      " 3.95441741 3.92594276 3.89775582 3.86986299 3.84227033 3.8149835\n",
      " 3.78800784 3.76134832 3.73500954 3.70899576 3.68331087 3.65795844\n",
      " 3.63294166 3.6082634  3.5839262  3.55993224 3.53628342 3.51298129\n",
      " 3.49002711 3.46742181 3.44516606 3.42326022 3.40170438 3.38049836\n",
      " 3.35964173 3.33913379 3.3189736  3.29916    3.2796916  3.2605668\n",
      " 3.24178378 3.22334053 3.20523487 3.18746442 3.17002665 3.15291886\n",
      " 3.13613821 3.11968171 3.10354624 3.08772857 3.07222533 3.05703307\n",
      " 3.04214823 3.02756715 3.01328611 2.99930128 2.98560881 2.97220474\n",
      " 2.95908508 2.94624581 2.93368282 2.92139201 2.90936924 2.89761031\n",
      " 2.88611106 2.87486728 2.86387474 2.85312925 2.84262658 2.83236252\n",
      " 2.82233287 2.81253344 2.80296005 2.79360856 2.78447483 2.77555475\n",
      " 2.76684425 2.75833928 2.75003583 2.74192992 2.7340176  2.72629499\n",
      " 2.71875821 2.71140346 2.70422696 2.69722499 2.69039387 2.68372997\n",
      " 2.67722971 2.67088955 2.66470603 2.65867571 2.65279521 2.64706122\n",
      " 2.64147046 2.63601972 2.63070583 2.62552568 2.62047621 2.61555443\n",
      " 2.61075738 2.60608217 2.60152596 2.59708596 2.59275942 2.58854367\n",
      " 2.58443608 2.58043406 2.57653508 2.57273667 2.56903641 2.56543191\n",
      " 2.56192084 2.55850092 2.55516993 2.55192568 2.54876603 2.54568889\n",
      " 2.54269221 2.539774   2.53693229 2.53416519 2.5314708  2.52884732\n",
      " 2.52629294 2.52380594 2.52138459 2.51902724 2.51673225 2.51449805\n",
      " 2.51232307 2.5102058  2.50814476 2.50613851 2.50418563 2.50228476\n",
      " 2.50043454 2.49863367 2.49688087 2.49517489 2.49351451 2.49189855\n",
      " 2.49032585 2.48879528 2.48730573 2.48585613 2.48444545 2.48307264\n",
      " 2.48173673 2.48043673 2.4791717  2.47794073 2.4767429  2.47557735\n",
      " 2.47444322 2.47333968 2.47226591 2.47122113 2.47020457 2.46921547\n",
      " 2.46825311 2.46731678 2.46640577 2.46551942 2.46465707 2.46381807\n",
      " 2.4630018  2.46220765 2.46143504 2.46068338 2.45995211 2.45924068\n",
      " 2.45854857 2.45787525 2.45722022 2.45658298 2.45596307 2.45536\n",
      " 2.45477333 2.45420262 2.45364743 2.45310735 2.45258197 2.45207089\n",
      " 2.45157373 2.4510901  2.45061965 2.45016202 2.44971686 2.44928383\n",
      " 2.4488626  2.44845286 2.4480543  2.4476666  2.44728948 2.44692265\n",
      " 2.44656583 2.44621875 2.44588114 2.44555275 2.44523332 2.44492262\n",
      " 2.4446204  2.44432644 2.4440405  2.44376238 2.44349186 2.44322873\n",
      " 2.44297279 2.44272385 2.44248171 2.4422462  2.44201712 2.4417943\n",
      " 2.44157758 2.44136679 2.44116176 2.44096234 2.44076838 2.44057972\n",
      " 2.44039622 2.44021775 2.44004415 2.43987531 2.43971109 2.43955137\n",
      " 2.43939602 2.43924492 2.43909795 2.43895501 2.43881598 2.43868076\n",
      " 2.43854925 2.43842133 2.43829692 2.43817591 2.43805822 2.43794375\n",
      " 2.43783242 2.43772414 2.43761882 2.43751639 2.43741676 2.43731987\n",
      " 2.43722563 2.43713397 2.43704482 2.43695811 2.43687379 2.43679177\n",
      " 2.436712   2.43663441 2.43655896 2.43648557 2.43641419 2.43634476\n",
      " 2.43627725 2.43621158 2.43614771 2.43608559 2.43602518 2.43596642\n",
      " 2.43590927 2.43585369 2.43579963 2.43574705 2.43569592 2.43564619\n",
      " 2.43559782 2.43555078 2.43550502 2.43546053 2.43541725 2.43537516\n",
      " 2.43533422 2.4352944  2.43525568]\n"
     ]
    }
   ],
   "source": [
    "print galaxy_a.scale_factor_boundary\n",
    "print galaxy_a.mass\n",
    "print galaxy_a.Rs\n",
    "print galaxy_a.get_size()\n",
    "print galaxy_a.get_age_profile()\n",
    "\n"
   ]
  },
  {
   "cell_type": "code",
   "execution_count": 12,
   "metadata": {
    "ExecuteTime": {
     "end_time": "2018-11-11T21:47:22.390918Z",
     "start_time": "2018-11-11T21:47:22.387805Z"
    },
    "collapsed": false
   },
   "outputs": [],
   "source": [
    "scale_factor_boundary = 0.2, 0.3\n",
    "scale_factor = 0.25\n",
    "\n"
   ]
  },
  {
   "cell_type": "code",
   "execution_count": 20,
   "metadata": {
    "ExecuteTime": {
     "end_time": "2018-11-11T21:51:26.276417Z",
     "start_time": "2018-11-11T21:51:26.273403Z"
    },
    "collapsed": true
   },
   "outputs": [],
   "source": [
    "scale_factor_list = np.array([0.1, 0.2, 0.3, 0.4, 0.5, 0.6, 0.7, 0.8, 0.9, 1.0])"
   ]
  },
  {
   "cell_type": "code",
   "execution_count": 23,
   "metadata": {
    "ExecuteTime": {
     "end_time": "2018-11-11T21:52:06.993986Z",
     "start_time": "2018-11-11T21:52:06.985634Z"
    },
    "collapsed": false
   },
   "outputs": [
    {
     "name": "stdout",
     "output_type": "stream",
     "text": [
      "[9.         4.         2.33333333 1.5        1.         0.66666667\n",
      " 0.42857143 0.25       0.11111111 0.        ]\n",
      "[ 0.54526208  1.54110585  2.81352402  4.27775734  5.86254981  7.50429557\n",
      "  9.15045508 10.76254881 12.31600773 13.79761666]\n"
     ]
    }
   ],
   "source": [
    "redshift_list = 1.0/scale_factor_list-1\n",
    "time_list = cosmo.age(redshift_list).value\n",
    "\n",
    "print redshift_list\n",
    "print time_list\n"
   ]
  },
  {
   "cell_type": "code",
   "execution_count": 33,
   "metadata": {
    "ExecuteTime": {
     "end_time": "2018-11-11T21:58:57.012494Z",
     "start_time": "2018-11-11T21:58:57.000591Z"
    },
    "collapsed": false
   },
   "outputs": [
    {
     "name": "stdout",
     "output_type": "stream",
     "text": [
      "[1.00206489 1.14650463 1.37771225 1.53298505 1.62062874 1.64967656\n",
      " 1.63302724 1.58506158 1.51860639 1.44336522]\n"
     ]
    },
    {
     "name": "stderr",
     "output_type": "stream",
     "text": [
      "/Users/sandrotacchella/anaconda2/lib/python2.7/site-packages/ipykernel/__main__.py:2: RuntimeWarning: divide by zero encountered in divide\n",
      "  from ipykernel import kernelapp as app\n",
      "/Users/sandrotacchella/anaconda2/lib/python2.7/site-packages/ipykernel/__main__.py:3: RuntimeWarning: divide by zero encountered in divide\n",
      "  app.launch_new_instance()\n"
     ]
    }
   ],
   "source": [
    "scale_factor_boundary = np.append(0.0, scale_factor_list+0.5*np.append(np.diff(scale_factor_list), np.diff(scale_factor_list)[-1]))\n",
    "time_boundary = cosmo.age(1.0/scale_factor_boundary-1.0).value\n",
    "dt = np.diff(cosmo.age(1.0/scale_factor_boundary-1.0).value)\n",
    "print dt"
   ]
  },
  {
   "cell_type": "code",
   "execution_count": null,
   "metadata": {
    "collapsed": true
   },
   "outputs": [],
   "source": []
  },
  {
   "cell_type": "code",
   "execution_count": null,
   "metadata": {
    "collapsed": true
   },
   "outputs": [],
   "source": []
  },
  {
   "cell_type": "markdown",
   "metadata": {},
   "source": [
    "# Create an example"
   ]
  },
  {
   "cell_type": "code",
   "execution_count": 5,
   "metadata": {
    "ExecuteTime": {
     "end_time": "2018-11-11T22:36:12.806797Z",
     "start_time": "2018-11-11T22:36:12.796878Z"
    },
    "collapsed": false
   },
   "outputs": [
    {
     "name": "stdout",
     "output_type": "stream",
     "text": [
      "[ 0.   0.1  0.2  0.3  0.4  0.5  0.6  0.7  0.8  0.9  1.   1.1  1.2  1.3\n",
      "  1.4  1.5  1.6  1.7  1.8  1.9  2.   2.1  2.2  2.3  2.4  2.5  2.6  2.7\n",
      "  2.8  2.9  3.   3.1  3.2  3.3  3.4  3.5  3.6  3.7  3.8  3.9  4.   4.1\n",
      "  4.2  4.3  4.4  4.5  4.6  4.7  4.8  4.9  5.   5.1  5.2  5.3  5.4  5.5\n",
      "  5.6  5.7  5.8  5.9  6.   6.1  6.2  6.3  6.4  6.5  6.6  6.7  6.8  6.9\n",
      "  7.   7.1  7.2  7.3  7.4  7.5  7.6  7.7  7.8  7.9  8.   8.1  8.2  8.3\n",
      "  8.4  8.5  8.6  8.7  8.8  8.9  9.   9.1  9.2  9.3  9.4  9.5  9.6  9.7\n",
      "  9.8  9.9 10.  10.1 10.2 10.3 10.4 10.5 10.6 10.7 10.8 10.9 11.  11.1\n",
      " 11.2 11.3 11.4 11.5 11.6 11.7 11.8 11.9 12.  12.1 12.2 12.3 12.4 12.5\n",
      " 12.6 12.7 12.8 12.9 13.  13.1 13.2 13.3 13.4 13.5 13.6 13.7 13.8 13.9\n",
      " 14.  14.1 14.2 14.3 14.4 14.5 14.6 14.7 14.8 14.9 15.  15.1 15.2 15.3\n",
      " 15.4 15.5 15.6 15.7 15.8 15.9 16.  16.1 16.2 16.3 16.4 16.5 16.6 16.7\n",
      " 16.8 16.9 17.  17.1 17.2 17.3 17.4 17.5 17.6 17.7 17.8 17.9 18.  18.1\n",
      " 18.2 18.3 18.4 18.5 18.6 18.7 18.8 18.9 19.  19.1 19.2 19.3 19.4 19.5\n",
      " 19.6 19.7 19.8 19.9 20.  20.1 20.2 20.3 20.4 20.5 20.6 20.7 20.8 20.9\n",
      " 21.  21.1 21.2 21.3 21.4 21.5 21.6 21.7 21.8 21.9 22.  22.1 22.2 22.3\n",
      " 22.4 22.5 22.6 22.7 22.8 22.9 23.  23.1 23.2 23.3 23.4 23.5 23.6 23.7\n",
      " 23.8 23.9 24.  24.1 24.2 24.3 24.4 24.5 24.6 24.7 24.8 24.9 25.  25.1\n",
      " 25.2 25.3 25.4 25.5 25.6 25.7 25.8 25.9 26.  26.1 26.2 26.3 26.4 26.5\n",
      " 26.6 26.7 26.8 26.9 27.  27.1 27.2 27.3 27.4 27.5 27.6 27.7 27.8 27.9\n",
      " 28.  28.1 28.2 28.3 28.4 28.5 28.6 28.7 28.8 28.9 29.  29.1 29.2 29.3\n",
      " 29.4 29.5 29.6 29.7 29.8 29.9 30.  30.1 30.2 30.3 30.4 30.5 30.6 30.7\n",
      " 30.8 30.9 31.  31.1 31.2 31.3 31.4 31.5 31.6 31.7 31.8 31.9 32.  32.1\n",
      " 32.2 32.3 32.4 32.5 32.6 32.7 32.8 32.9 33.  33.1 33.2 33.3 33.4 33.5\n",
      " 33.6 33.7 33.8 33.9 34.  34.1 34.2 34.3 34.4 34.5 34.6 34.7 34.8 34.9\n",
      " 35.  35.1 35.2 35.3 35.4 35.5 35.6 35.7 35.8 35.9 36.  36.1 36.2 36.3\n",
      " 36.4 36.5 36.6 36.7 36.8 36.9 37.  37.1 37.2 37.3 37.4 37.5 37.6 37.7\n",
      " 37.8 37.9 38.  38.1 38.2 38.3 38.4 38.5 38.6 38.7 38.8 38.9 39.  39.1\n",
      " 39.2 39.3 39.4 39.5 39.6 39.7 39.8 39.9 40.  40.1 40.2 40.3 40.4 40.5\n",
      " 40.6 40.7 40.8 40.9 41.  41.1 41.2 41.3 41.4 41.5 41.6 41.7 41.8 41.9\n",
      " 42.  42.1 42.2 42.3 42.4 42.5 42.6 42.7 42.8 42.9 43.  43.1 43.2 43.3\n",
      " 43.4 43.5 43.6 43.7 43.8 43.9 44.  44.1 44.2 44.3 44.4 44.5 44.6 44.7\n",
      " 44.8 44.9 45.  45.1 45.2 45.3 45.4 45.5 45.6 45.7 45.8 45.9 46.  46.1\n",
      " 46.2 46.3 46.4 46.5 46.6 46.7 46.8 46.9 47.  47.1 47.2 47.3 47.4 47.5\n",
      " 47.6 47.7 47.8 47.9 48.  48.1 48.2 48.3 48.4 48.5 48.6 48.7 48.8 48.9\n",
      " 49.  49.1 49.2 49.3 49.4 49.5 49.6 49.7 49.8 49.9 50. ]\n"
     ]
    }
   ],
   "source": [
    "# radius in kpc\n",
    "\n",
    "radius_kpc = np.linspace(0.0, 50.0, num=501)\n",
    "print(radius_kpc)\n"
   ]
  },
  {
   "cell_type": "code",
   "execution_count": null,
   "metadata": {
    "ExecuteTime": {
     "end_time": "2018-11-10T21:23:00.929777Z",
     "start_time": "2018-11-10T21:23:00.926437Z"
    },
    "collapsed": false
   },
   "outputs": [],
   "source": [
    "# get the SFR surface density profile, assuming a scale radius of Rs=3.0 kpc\n",
    "# and a total SFR of 100.0 Msun/yr\n",
    "\n",
    "SFR_profile = make_SFR_profile(radius_kpc, 100.0, 3.0)\n"
   ]
  },
  {
   "cell_type": "code",
   "execution_count": null,
   "metadata": {
    "ExecuteTime": {
     "end_time": "2018-11-10T21:23:01.743541Z",
     "start_time": "2018-11-10T21:23:01.739330Z"
    },
    "collapsed": false
   },
   "outputs": [],
   "source": [
    "# proof that the intrated profile returns 100.0 Msun/yr\n",
    "SFR_total_from_profile = np.trapz(2.0*np.pi*radius_kpc*SFR_profile, radius_kpc)\n",
    "print(SFR_total_from_profile)\n"
   ]
  },
  {
   "cell_type": "code",
   "execution_count": null,
   "metadata": {
    "ExecuteTime": {
     "end_time": "2018-11-10T21:23:03.930820Z",
     "start_time": "2018-11-10T21:23:03.339391Z"
    },
    "collapsed": false
   },
   "outputs": [],
   "source": [
    "# plot star-formation rate density profile in log\n",
    "\n",
    "fig, ax = plt.subplots(nrows=1, ncols=1, figsize=(6, 5))\n",
    "\n",
    "ax.plot(radius_kpc, np.log10(SFR_profile), lw=2)\n",
    "\n",
    "ax.set_xlabel(r'$\\mathrm{r}\\/\\/\\/[\\mathrm{kpc}]$', fontsize=18)\n",
    "ax.set_ylabel(r'$\\log\\/\\/\\/\\Sigma_{\\rm SFR}\\/\\/\\/[\\mathrm{M}_{\\odot}\\/\\/\\mathrm{yr}^{-1}\\/\\/\\mathrm{kpc}^{-2}]$', fontsize=18)\n",
    "#ax.set_xlim([0.3, 1])\n",
    "#ax.set_ylim([-1.8, 0.3])\n",
    "\n",
    "plt.show()\n"
   ]
  },
  {
   "cell_type": "code",
   "execution_count": null,
   "metadata": {
    "ExecuteTime": {
     "end_time": "2018-11-10T21:23:04.931791Z",
     "start_time": "2018-11-10T21:23:04.598129Z"
    },
    "collapsed": false
   },
   "outputs": [],
   "source": [
    "# plot star-formation rate density profile in linear units\n",
    "\n",
    "fig, ax = plt.subplots(nrows=1, ncols=1, figsize=(6, 5))\n",
    "\n",
    "ax.plot(radius_kpc, SFR_profile, lw=2)\n",
    "\n",
    "ax.set_xlabel(r'$\\mathrm{r}\\/\\/\\/[\\mathrm{kpc}]$', fontsize=18)\n",
    "ax.set_ylabel(r'$\\Sigma_{\\rm SFR}\\/\\/\\/[\\mathrm{M}_{\\odot}\\/\\/\\mathrm{yr}^{-1}\\/\\/\\mathrm{kpc}^{-2}]$', fontsize=18)\n",
    "#ax.set_xlim([0.3, 1])\n",
    "#ax.set_ylim([-1.8, 0.3])\n",
    "\n",
    "plt.show()\n"
   ]
  },
  {
   "cell_type": "code",
   "execution_count": null,
   "metadata": {
    "ExecuteTime": {
     "end_time": "2018-11-10T21:27:30.823450Z",
     "start_time": "2018-11-10T21:27:30.805522Z"
    },
    "collapsed": false
   },
   "outputs": [],
   "source": [
    "half_SFR_radius = get_size_from_profile(radius_kpc, SFR_profile)\n",
    "print('half SFR radius (in kpc) = ' + str(half_SFR_radius))\n",
    "print('ratio R1/2 / Rs = ' + str(half_SFR_radius/3.0))\n"
   ]
  },
  {
   "cell_type": "code",
   "execution_count": null,
   "metadata": {
    "collapsed": true
   },
   "outputs": [],
   "source": []
  },
  {
   "cell_type": "code",
   "execution_count": null,
   "metadata": {
    "collapsed": true
   },
   "outputs": [],
   "source": []
  },
  {
   "cell_type": "markdown",
   "metadata": {},
   "source": [
    "# Stellar mass profile"
   ]
  },
  {
   "cell_type": "markdown",
   "metadata": {},
   "source": [
    "Let's assume the galaxy goes through the following three phases:\n",
    "\n",
    "(1) total SFR = 20.0 Msun/yr with Rs=2.0 kpc for 1 Gyr (i.e. 10^9 yr)\n",
    "\n",
    "(2) total SFR = 100.0 Msun/yr with Rs=0.8 kpc for 0.5 Gyr \n",
    "\n",
    "(3) total SFR = 5.0 Msun/yr with Rs=4.0 kpc for 3 Gyr\n",
    "\n",
    "Try to answer the following questions:\n",
    "\n",
    "What is the final stellar mass cumulative and surface density profile?\n",
    "\n",
    "What is the stellar half-mass size after each phase (the radius that encloses half of the total stellar mass)?\n"
   ]
  },
  {
   "cell_type": "code",
   "execution_count": 36,
   "metadata": {
    "ExecuteTime": {
     "end_time": "2018-11-11T22:30:19.244548Z",
     "start_time": "2018-11-11T22:30:19.240809Z"
    },
    "collapsed": true
   },
   "outputs": [],
   "source": [
    "time = [1.0*10**9, 0.5*10**9, 3.0*10**9]\n",
    "a = [0.1, 0.4, 0.8]\n",
    "SFR = [20.0, 100.0, 5.0]\n",
    "Rs = [2.0, 0.8, 4.0]"
   ]
  },
  {
   "cell_type": "code",
   "execution_count": 45,
   "metadata": {
    "ExecuteTime": {
     "end_time": "2018-11-11T22:33:43.136110Z",
     "start_time": "2018-11-11T22:33:43.125059Z"
    },
    "collapsed": false
   },
   "outputs": [
    {
     "ename": "ValueError",
     "evalue": "too many values to unpack",
     "output_type": "error",
     "traceback": [
      "\u001b[0;31m---------------------------------------------------------------------------\u001b[0m",
      "\u001b[0;31mValueError\u001b[0m                                Traceback (most recent call last)",
      "\u001b[0;32m<ipython-input-45-04d510d7d7bd>\u001b[0m in \u001b[0;36m<module>\u001b[0;34m()\u001b[0m\n\u001b[0;32m----> 1\u001b[0;31m \u001b[0mprofile_sum\u001b[0m\u001b[0;34m,\u001b[0m \u001b[0mprofile_age\u001b[0m \u001b[0;34m=\u001b[0m \u001b[0mcompute_profile\u001b[0m\u001b[0;34m(\u001b[0m\u001b[0mradius_kpc\u001b[0m\u001b[0;34m,\u001b[0m \u001b[0mtime\u001b[0m\u001b[0;34m,\u001b[0m \u001b[0mSFR\u001b[0m\u001b[0;34m,\u001b[0m \u001b[0mRs\u001b[0m\u001b[0;34m)\u001b[0m\u001b[0;34m\u001b[0m\u001b[0m\n\u001b[0m",
      "\u001b[0;31mValueError\u001b[0m: too many values to unpack"
     ]
    }
   ],
   "source": [
    "profile_sum, profile_age = compute_profile(radius_kpc, time, SFR, Rs)\n"
   ]
  },
  {
   "cell_type": "code",
   "execution_count": null,
   "metadata": {
    "ExecuteTime": {
     "end_time": "2018-11-10T21:41:32.998046Z",
     "start_time": "2018-11-10T21:41:32.986137Z"
    },
    "collapsed": false
   },
   "outputs": [],
   "source": [
    "profile_sum"
   ]
  },
  {
   "cell_type": "code",
   "execution_count": 42,
   "metadata": {
    "ExecuteTime": {
     "end_time": "2018-11-11T22:31:45.463593Z",
     "start_time": "2018-11-11T22:31:45.454868Z"
    },
    "collapsed": false
   },
   "outputs": [
    {
     "name": "stderr",
     "output_type": "stream",
     "text": [
      "/Users/sandrotacchella/anaconda2/lib/python2.7/site-packages/ipykernel/__main__.py:9: RuntimeWarning: divide by zero encountered in divide\n",
      "/Users/sandrotacchella/anaconda2/lib/python2.7/site-packages/ipykernel/__main__.py:10: RuntimeWarning: divide by zero encountered in divide\n"
     ]
    }
   ],
   "source": [
    "galaxy = galaxy(radius_kpc, a, SFR, Rs)"
   ]
  },
  {
   "cell_type": "code",
   "execution_count": 43,
   "metadata": {
    "ExecuteTime": {
     "end_time": "2018-11-11T22:31:50.613954Z",
     "start_time": "2018-11-11T22:31:50.597187Z"
    },
    "collapsed": false
   },
   "outputs": [
    {
     "ename": "IndexError",
     "evalue": "index 3 is out of bounds for axis 0 with size 3",
     "output_type": "error",
     "traceback": [
      "\u001b[0;31m---------------------------------------------------------------------------\u001b[0m",
      "\u001b[0;31mIndexError\u001b[0m                                Traceback (most recent call last)",
      "\u001b[0;32m<ipython-input-43-41b3b1d38445>\u001b[0m in \u001b[0;36m<module>\u001b[0;34m()\u001b[0m\n\u001b[0;32m----> 1\u001b[0;31m \u001b[0mgalaxy\u001b[0m\u001b[0;34m.\u001b[0m\u001b[0mget_size\u001b[0m\u001b[0;34m(\u001b[0m\u001b[0;34m)\u001b[0m\u001b[0;34m\u001b[0m\u001b[0m\n\u001b[0m",
      "\u001b[0;32m<ipython-input-41-5052a147ffb9>\u001b[0m in \u001b[0;36mget_size\u001b[0;34m(self)\u001b[0m\n\u001b[1;32m     33\u001b[0m \u001b[0;34m\u001b[0m\u001b[0m\n\u001b[1;32m     34\u001b[0m     \u001b[0;32mdef\u001b[0m \u001b[0mget_size\u001b[0m\u001b[0;34m(\u001b[0m\u001b[0mself\u001b[0m\u001b[0;34m)\u001b[0m\u001b[0;34m:\u001b[0m\u001b[0;34m\u001b[0m\u001b[0m\n\u001b[0;32m---> 35\u001b[0;31m         \u001b[0mprofile_collection\u001b[0m \u001b[0;34m=\u001b[0m \u001b[0mself\u001b[0m\u001b[0;34m.\u001b[0m\u001b[0mbuild_mass_profile\u001b[0m\u001b[0;34m(\u001b[0m\u001b[0;34m)\u001b[0m\u001b[0;34m\u001b[0m\u001b[0m\n\u001b[0m\u001b[1;32m     36\u001b[0m         \u001b[0mprofile_collection_cumsum\u001b[0m \u001b[0;34m=\u001b[0m \u001b[0mnp\u001b[0m\u001b[0;34m.\u001b[0m\u001b[0mcumsum\u001b[0m\u001b[0;34m(\u001b[0m\u001b[0mprofile_collection\u001b[0m\u001b[0;34m,\u001b[0m \u001b[0maxis\u001b[0m\u001b[0;34m=\u001b[0m\u001b[0;36m0\u001b[0m\u001b[0;34m)\u001b[0m\u001b[0;34m\u001b[0m\u001b[0m\n\u001b[1;32m     37\u001b[0m         \u001b[0mRM\u001b[0m \u001b[0;34m=\u001b[0m \u001b[0;34m[\u001b[0m\u001b[0;34m]\u001b[0m\u001b[0;34m\u001b[0m\u001b[0m\n",
      "\u001b[0;32m<ipython-input-41-5052a147ffb9>\u001b[0m in \u001b[0;36mbuild_mass_profile\u001b[0;34m(self)\u001b[0m\n\u001b[1;32m     16\u001b[0m         \u001b[0mprofile_collection\u001b[0m \u001b[0;34m=\u001b[0m \u001b[0;34m[\u001b[0m\u001b[0;34m]\u001b[0m\u001b[0;34m\u001b[0m\u001b[0m\n\u001b[1;32m     17\u001b[0m         \u001b[0;32mfor\u001b[0m \u001b[0mii\u001b[0m \u001b[0;32min\u001b[0m \u001b[0mrange\u001b[0m\u001b[0;34m(\u001b[0m\u001b[0mlen\u001b[0m\u001b[0;34m(\u001b[0m\u001b[0mself\u001b[0m\u001b[0;34m.\u001b[0m\u001b[0mtime_dt\u001b[0m\u001b[0;34m)\u001b[0m\u001b[0;34m)\u001b[0m\u001b[0;34m:\u001b[0m\u001b[0;34m\u001b[0m\u001b[0m\n\u001b[0;32m---> 18\u001b[0;31m             \u001b[0mprofile_now\u001b[0m \u001b[0;34m=\u001b[0m \u001b[0mself\u001b[0m\u001b[0;34m.\u001b[0m\u001b[0mtime_dt\u001b[0m\u001b[0;34m[\u001b[0m\u001b[0mii\u001b[0m\u001b[0;34m]\u001b[0m\u001b[0;34m*\u001b[0m\u001b[0mmake_SFR_profile\u001b[0m\u001b[0;34m(\u001b[0m\u001b[0mself\u001b[0m\u001b[0;34m.\u001b[0m\u001b[0mradius\u001b[0m\u001b[0;34m,\u001b[0m \u001b[0mself\u001b[0m\u001b[0;34m.\u001b[0m\u001b[0mSFR\u001b[0m\u001b[0;34m[\u001b[0m\u001b[0mii\u001b[0m\u001b[0;34m]\u001b[0m\u001b[0;34m,\u001b[0m \u001b[0mself\u001b[0m\u001b[0;34m.\u001b[0m\u001b[0mRs\u001b[0m\u001b[0;34m[\u001b[0m\u001b[0mii\u001b[0m\u001b[0;34m]\u001b[0m\u001b[0;34m)\u001b[0m\u001b[0;34m\u001b[0m\u001b[0m\n\u001b[0m\u001b[1;32m     19\u001b[0m             \u001b[0;32mif\u001b[0m \u001b[0;34m(\u001b[0m\u001b[0mii\u001b[0m \u001b[0;34m==\u001b[0m \u001b[0;36m0\u001b[0m\u001b[0;34m)\u001b[0m\u001b[0;34m:\u001b[0m\u001b[0;34m\u001b[0m\u001b[0m\n\u001b[1;32m     20\u001b[0m                 \u001b[0mprofile_collection\u001b[0m \u001b[0;34m=\u001b[0m \u001b[0mprofile_now\u001b[0m\u001b[0;34m\u001b[0m\u001b[0m\n",
      "\u001b[0;31mIndexError\u001b[0m: index 3 is out of bounds for axis 0 with size 3"
     ]
    }
   ],
   "source": [
    "galaxy.get_size()"
   ]
  },
  {
   "cell_type": "code",
   "execution_count": null,
   "metadata": {
    "collapsed": true
   },
   "outputs": [],
   "source": []
  },
  {
   "cell_type": "code",
   "execution_count": null,
   "metadata": {
    "ExecuteTime": {
     "end_time": "2018-11-10T21:44:50.672465Z",
     "start_time": "2018-11-10T21:44:50.667695Z"
    },
    "collapsed": true
   },
   "outputs": [],
   "source": [
    "# calculate stellar mass surface density profile\n",
    "\n",
    "profile_M_1 = 1.0*10**9*make_SFR_profile(radius_kpc, 20.0, 2.0)\n",
    "profile_M_2 = 0.5*10**9*make_SFR_profile(radius_kpc, 100.0, 0.8)\n",
    "profile_M_3 = 3.0*10**9*make_SFR_profile(radius_kpc, 5.0, 4.0)\n",
    "\n",
    "profile_M_tot = profile_M_1 + profile_M_2 + profile_M_3\n"
   ]
  },
  {
   "cell_type": "code",
   "execution_count": null,
   "metadata": {
    "ExecuteTime": {
     "end_time": "2018-11-10T21:44:57.321389Z",
     "start_time": "2018-11-10T21:44:57.313175Z"
    },
    "collapsed": false
   },
   "outputs": [],
   "source": [
    "profile_M_tot-profile_sum"
   ]
  },
  {
   "cell_type": "code",
   "execution_count": null,
   "metadata": {
    "collapsed": true
   },
   "outputs": [],
   "source": []
  },
  {
   "cell_type": "code",
   "execution_count": null,
   "metadata": {
    "ExecuteTime": {
     "end_time": "2018-10-31T16:24:45.934299Z",
     "start_time": "2018-10-31T16:24:45.627261Z"
    },
    "collapsed": false
   },
   "outputs": [],
   "source": [
    "# plot stellar mass surface density profile\n",
    "\n",
    "fig, ax = plt.subplots(nrows=1, ncols=1, figsize=(6, 5))\n",
    "\n",
    "ax.plot(radius_kpc, np.log10(profile_M_1), lw=1, color='black')\n",
    "ax.plot(radius_kpc, np.log10(profile_M_2), lw=1, color='black')\n",
    "ax.plot(radius_kpc, np.log10(profile_M_3), lw=1, color='black')\n",
    "ax.plot(radius_kpc, np.log10(profile_M_tot), lw=2, color='C3')\n",
    "\n",
    "ax.set_xlabel(r'$\\mathrm{r}\\/\\/\\/[\\mathrm{kpc}]$', fontsize=18)\n",
    "ax.set_ylabel(r'$\\log\\/\\/\\/\\Sigma_{\\rm M_{\\star}}\\/\\/\\/[\\mathrm{M}_{\\odot}\\/\\/\\mathrm{kpc}^{-2}]$', fontsize=18)\n",
    "ax.set_xlim([0.0, 10])\n",
    "ax.set_ylim([4.8, 10.2])\n",
    "\n",
    "plt.show()\n",
    "\n",
    "\n"
   ]
  },
  {
   "cell_type": "code",
   "execution_count": null,
   "metadata": {
    "collapsed": true
   },
   "outputs": [],
   "source": []
  },
  {
   "cell_type": "code",
   "execution_count": null,
   "metadata": {
    "collapsed": true
   },
   "outputs": [],
   "source": []
  },
  {
   "cell_type": "code",
   "execution_count": null,
   "metadata": {
    "ExecuteTime": {
     "end_time": "2018-10-31T16:22:25.628921Z",
     "start_time": "2018-10-31T16:22:25.609984Z"
    },
    "collapsed": false
   },
   "outputs": [],
   "source": [
    "# calculate cumulative\n",
    "\n",
    "M_cumulative_from_profile = []\n",
    "\n",
    "for rii in radius_kpc:\n",
    "    idx = (radius_kpc <= rii)\n",
    "    M_cumulative_from_profile = np.append(M_cumulative_from_profile, np.trapz(2.0*np.pi*radius_kpc[idx]*profile_M_tot[idx], radius_kpc[idx]))\n"
   ]
  },
  {
   "cell_type": "code",
   "execution_count": null,
   "metadata": {
    "ExecuteTime": {
     "end_time": "2018-10-31T16:24:12.303966Z",
     "start_time": "2018-10-31T16:24:12.003525Z"
    },
    "collapsed": false
   },
   "outputs": [],
   "source": [
    "# plot cumulative\n",
    "\n",
    "fig, ax = plt.subplots(nrows=1, ncols=1, figsize=(6, 5))\n",
    "\n",
    "ax.plot(radius_kpc, np.log10(M_cumulative_from_profile), lw=1, color='black')\n",
    "\n",
    "ax.set_xlabel(r'$\\mathrm{r}\\/\\/\\/[\\mathrm{kpc}]$', fontsize=18)\n",
    "ax.set_ylabel(r'$\\log\\/\\/\\/\\mathrm{M_{\\star}}(<r)\\/\\/\\/[\\mathrm{M}_{\\odot}]$', fontsize=18)\n",
    "ax.set_xlim([0.0, 10])\n",
    "ax.set_ylim([8.5, 11.0])\n",
    "\n",
    "plt.show()\n"
   ]
  },
  {
   "cell_type": "code",
   "execution_count": null,
   "metadata": {
    "ExecuteTime": {
     "end_time": "2018-10-31T16:26:36.694605Z",
     "start_time": "2018-10-31T16:26:36.690387Z"
    },
    "collapsed": false
   },
   "outputs": [],
   "source": [
    "# compute half-mass radius\n",
    "\n",
    "half_mass = 0.5*M_cumulative_from_profile[-1]\n",
    "half_mass_radius = np.interp(half_mass, M_cumulative_from_profile, radius_kpc)\n",
    "\n",
    "print('half-mass radius [kpc] = ' + str(np.round(half_mass_radius, 2)))\n",
    "print('half-mass radius [kpc] = ' + str(np.round(half_mass_radius, 2)))\n"
   ]
  },
  {
   "cell_type": "code",
   "execution_count": 18,
   "metadata": {
    "ExecuteTime": {
     "end_time": "2018-11-14T16:07:15.631111Z",
     "start_time": "2018-11-14T16:07:15.626557Z"
    },
    "collapsed": false
   },
   "outputs": [
    {
     "data": {
      "text/plain": [
       "array([0, 1, 2])"
      ]
     },
     "execution_count": 18,
     "metadata": {},
     "output_type": "execute_result"
    }
   ],
   "source": [
    "np.arange(3)\n",
    "\n"
   ]
  },
  {
   "cell_type": "code",
   "execution_count": null,
   "metadata": {
    "collapsed": true
   },
   "outputs": [],
   "source": []
  },
  {
   "cell_type": "code",
   "execution_count": null,
   "metadata": {
    "collapsed": true
   },
   "outputs": [],
   "source": []
  }
 ],
 "metadata": {
  "kernelspec": {
   "display_name": "Python 2",
   "language": "python",
   "name": "python2"
  },
  "language_info": {
   "codemirror_mode": {
    "name": "ipython",
    "version": 2
   },
   "file_extension": ".py",
   "mimetype": "text/x-python",
   "name": "python",
   "nbconvert_exporter": "python",
   "pygments_lexer": "ipython2",
   "version": "2.7.13"
  },
  "toc": {
   "nav_menu": {},
   "number_sections": true,
   "sideBar": true,
   "skip_h1_title": false,
   "toc_cell": false,
   "toc_position": {},
   "toc_section_display": "block",
   "toc_window_display": false
  },
  "varInspector": {
   "cols": {
    "lenName": 16,
    "lenType": 16,
    "lenVar": 40
   },
   "kernels_config": {
    "python": {
     "delete_cmd_postfix": "",
     "delete_cmd_prefix": "del ",
     "library": "var_list.py",
     "varRefreshCmd": "print(var_dic_list())"
    },
    "r": {
     "delete_cmd_postfix": ") ",
     "delete_cmd_prefix": "rm(",
     "library": "var_list.r",
     "varRefreshCmd": "cat(var_dic_list()) "
    }
   },
   "types_to_exclude": [
    "module",
    "function",
    "builtin_function_or_method",
    "instance",
    "_Feature"
   ],
   "window_display": false
  }
 },
 "nbformat": 4,
 "nbformat_minor": 2
}
