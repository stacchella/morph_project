{
 "cells": [
  {
   "cell_type": "code",
   "execution_count": 33,
   "metadata": {},
   "outputs": [],
   "source": [
    "import toolbox_morph\n",
    "import numpy as np\n",
    "import matplotlib.pyplot as plt\n",
    "from astropy.table import Table\n",
    "import glob"
   ]
  },
  {
   "cell_type": "code",
   "execution_count": 34,
   "metadata": {},
   "outputs": [],
   "source": [
    "path_main_directory = '/home/wolbach/Desktop/SRMP/morph_project/'\n",
    "path_SFH_table = path_main_directory + 'SFH/Behroozi+19/'"
   ]
  },
  {
   "cell_type": "code",
   "execution_count": null,
   "metadata": {},
   "outputs": [],
   "source": []
  },
  {
   "cell_type": "code",
   "execution_count": 35,
   "metadata": {},
   "outputs": [
    {
     "name": "stderr",
     "output_type": "stream",
     "text": [
      "/home/wolbach/Desktop/SRMP/morph_project/morph_tools/toolbox_morph.py:74: RuntimeWarning: divide by zero encountered in true_divide\n",
      "  self.time_boundary = cosmo.age(1.0/self.scale_factor_boundary-1.0).value\n",
      "/home/wolbach/Desktop/SRMP/morph_project/morph_tools/toolbox_morph.py:75: RuntimeWarning: divide by zero encountered in true_divide\n",
      "  self.time_dt = np.diff(cosmo.age(1.0/self.scale_factor_boundary-1.0).value)\n"
     ]
    }
   ],
   "source": [
    "#test\n",
    "a = [0.1, 0.4, 0.7]\n",
    "SFR = [20.0, 100.0, 5.0]\n",
    "Rs = [2.0, 0.8, 4.0]\n",
    "\n",
    "radius_kpc = np.linspace(0.0, 50.0, num=501)\n",
    "\n",
    "galaxy_test = toolbox_morph.galaxy(radius_kpc, a, SFR, [1.0, 0.3, -0.5, 0.2])"
   ]
  },
  {
   "cell_type": "code",
   "execution_count": 36,
   "metadata": {},
   "outputs": [
    {
     "data": {
      "text/plain": [
       "dict_keys(['radius', 'scale_factor', 'redshift', 'time', 'scale_factor_boundary', 'time_boundary', 'time_dt', 'SFR', 'mass', 'Rs_params', 'Rs', 'age'])"
      ]
     },
     "execution_count": 36,
     "metadata": {},
     "output_type": "execute_result"
    }
   ],
   "source": [
    "galaxy_test.__dict__.keys()"
   ]
  },
  {
   "cell_type": "code",
   "execution_count": null,
   "metadata": {},
   "outputs": [],
   "source": []
  },
  {
   "cell_type": "code",
   "execution_count": 37,
   "metadata": {},
   "outputs": [],
   "source": [
    "SFH_table = Table.read(path_SFH_table + 'sfh_sm10.50_a1.002310.dat', format='ascii', names=('scale_factor', 'SFH_all', 'SFH_all_up', 'SFH_all_dw', 'SFH_SF', 'SFH_SF_up', 'SFH_SF_dw', 'SFH_Q', 'SFH_Q_up', 'SFH_Q_dw', 'SFH_Cen', 'SFH_Cen_up', 'SFH_Cen_dw', 'SFH_Sat', 'SFH_Sat_up', 'SFH_Sat_dw', 'scale_factor_begin', 'scale_factor_end')) "
   ]
  },
  {
   "cell_type": "code",
   "execution_count": 38,
   "metadata": {},
   "outputs": [],
   "source": [
    "# test lists\n",
    "alpha_test_values_list = [0.3, 1.0, 3.0]\n",
    "beta_test_values_list = [0.7 ,0.8, 0.9]\n",
    "gamma_test_values_list = [-0.3, -0.4, -0.5]\n",
    "delta_test_values_list = [0.4, 0.5, 0.3]"
   ]
  },
  {
   "cell_type": "code",
   "execution_count": null,
   "metadata": {},
   "outputs": [],
   "source": []
  },
  {
   "cell_type": "code",
   "execution_count": 39,
   "metadata": {},
   "outputs": [],
   "source": [
    "list_SFH_tables = glob.glob(path_SFH_table + '*a1.002310.dat')"
   ]
  },
  {
   "cell_type": "code",
   "execution_count": null,
   "metadata": {},
   "outputs": [],
   "source": []
  },
  {
   "cell_type": "code",
   "execution_count": null,
   "metadata": {},
   "outputs": [],
   "source": []
  },
  {
   "cell_type": "code",
   "execution_count": 40,
   "metadata": {},
   "outputs": [],
   "source": [
    "def Mosleh2013_SF(mass):\n",
    "    alpha, beta, gamma, M0 = 0.109, 0.263, 10**-0.743, 10**10.204\n",
    "    return(gamma*mass**alpha*(1+mass/M0)**(beta-alpha))\n",
    "\n",
    "def Mosleh2013_Q(mass):\n",
    "    alpha, beta, gamma, M0 = 0.014, 0.912, 10**-0.058, 10**10.555\n",
    "    return(gamma*mass**alpha*(1+mass/M0)**(beta-alpha))\n"
   ]
  },
  {
   "cell_type": "code",
   "execution_count": 41,
   "metadata": {},
   "outputs": [],
   "source": [
    "log_mass_plot = np.linspace(9.0, 11.5)"
   ]
  },
  {
   "cell_type": "code",
   "execution_count": null,
   "metadata": {},
   "outputs": [],
   "source": []
  },
  {
   "cell_type": "code",
   "execution_count": 42,
   "metadata": {},
   "outputs": [],
   "source": [
    "def compute_sizes(SFH_table, alpha_test_values_list, beta_test_values_list, gamma_test_values_list, delta_test_values_list):    \n",
    "    \n",
    "    RM_Q_list = []\n",
    "    RM_SF_list = []\n",
    "\n",
    "    for ii_alpha in alpha_test_values_list:\n",
    "        for ii_beta in beta_test_values_list:\n",
    "            for ii_gamma in gamma_test_values_list:\n",
    "                for ii_delta in delta_test_values_list:\n",
    "                    gal_Q = toolbox_morph.galaxy(radius_kpc, SFH_table['scale_factor'], SFH_table['SFH_Q'], [ii_alpha,ii_beta,ii_gamma,ii_delta])\n",
    "                    RM_Q_list.append(gal_Q.get_size(redshift_in=0.0))\n",
    "                    gal_SF = toolbox_morph.galaxy(radius_kpc, SFH_table['scale_factor'], SFH_table['SFH_SF'], [ii_alpha,ii_beta,ii_gamma,ii_delta])\n",
    "                    RM_SF_list.append(gal_SF.get_size(redshift_in=0.0))\n",
    "\n",
    "    mass_Q = gal_Q.get_mass_after_mass_loss(redshift_in=0.0)\n",
    "    mass_SF = gal_SF.get_mass_after_mass_loss(redshift_in=0.0)\n",
    "    \n",
    "    return(mass_Q, mass_SF, RM_Q_list, RM_SF_list)"
   ]
  },
  {
   "cell_type": "code",
   "execution_count": 43,
   "metadata": {},
   "outputs": [
    {
     "name": "stderr",
     "output_type": "stream",
     "text": [
      "/home/wolbach/Desktop/SRMP/morph_project/morph_tools/toolbox_morph.py:74: RuntimeWarning: divide by zero encountered in true_divide\n",
      "  self.time_boundary = cosmo.age(1.0/self.scale_factor_boundary-1.0).value\n",
      "/home/wolbach/Desktop/SRMP/morph_project/morph_tools/toolbox_morph.py:75: RuntimeWarning: divide by zero encountered in true_divide\n",
      "  self.time_dt = np.diff(cosmo.age(1.0/self.scale_factor_boundary-1.0).value)\n"
     ]
    },
    {
     "data": {
      "text/plain": [
       "(37766974077.55003,\n",
       " 30461924637.09945,\n",
       " [0.9551695809949945,\n",
       "  1.0237188225249578,\n",
       "  0.8910946339865256,\n",
       "  0.8622367758765183,\n",
       "  0.9226479574557404,\n",
       "  0.8054517517143284,\n",
       "  0.7788390733512011,\n",
       "  0.8323104502568467,\n",
       "  0.7302457852955194,\n",
       "  1.0646083927719814,\n",
       "  1.1399990229892407,\n",
       "  0.9944529282246775,\n",
       "  0.9626940274932205,\n",
       "  1.0291618548876778,\n",
       "  0.9002842814486665,\n",
       "  0.8712883648901115,\n",
       "  0.9297865821031935,\n",
       "  0.8171145077040257,\n",
       "  1.1895183998199044,\n",
       "  1.2727651667487665,\n",
       "  1.1130905213363382,\n",
       "  1.0774037395627658,\n",
       "  1.1510692881724993,\n",
       "  1.0093517406623331,\n",
       "  0.9765982742284027,\n",
       "  1.0414710519764652,\n",
       "  0.9168575384407185,\n",
       "  3.109860018774035,\n",
       "  3.3476504151570032,\n",
       "  2.8901659219210574,\n",
       "  2.777789007959162,\n",
       "  2.9890143513523526,\n",
       "  2.582539463291177,\n",
       "  2.4738304004577465,\n",
       "  2.6604854786256875,\n",
       "  2.3013089346137274,\n",
       "  3.450565030492532,\n",
       "  3.7102197242428043,\n",
       "  3.209907725226157,\n",
       "  3.082134202326889,\n",
       "  3.3128657802196995,\n",
       "  2.8688671875002636,\n",
       "  2.744266807736344,\n",
       "  2.94761249028792,\n",
       "  2.5564161389044706,\n",
       "  3.833453456410631,\n",
       "  4.117611543346885,\n",
       "  3.5701038259693205,\n",
       "  3.4220574995840476,\n",
       "  3.6739415755492044,\n",
       "  3.188812266883752,\n",
       "  3.0440612317475386,\n",
       "  3.265415093908317,\n",
       "  2.8392248144755943,\n",
       "  8.85360412112094,\n",
       "  9.494117003051855,\n",
       "  8.25264379745209,\n",
       "  7.812746708395221,\n",
       "  8.38314469421585,\n",
       "  7.2793084630226765,\n",
       "  6.862661963979198,\n",
       "  7.366027641956621,\n",
       "  6.3928926269071615,\n",
       "  9.528984283459485,\n",
       "  10.187410107212699,\n",
       "  8.907465089520857,\n",
       "  8.407716314991706,\n",
       "  8.996920059837981,\n",
       "  7.853929391372979,\n",
       "  7.3864651853169345,\n",
       "  7.9085984634904625,\n",
       "  6.897170619866599,\n",
       "  10.1704906661177,\n",
       "  10.836036612940546,\n",
       "  9.538298562681316,\n",
       "  8.981875368097654,\n",
       "  9.581585274306375,\n",
       "  8.41499684446664,\n",
       "  7.899961815196948,\n",
       "  8.434732869043131,\n",
       "  7.396625499591265],\n",
       " [0.796809039728408,\n",
       "  0.8443010769722582,\n",
       "  0.7548020623257408,\n",
       "  0.725936101569255,\n",
       "  0.7673155959956072,\n",
       "  0.6872020972537835,\n",
       "  0.6615558426679573,\n",
       "  0.6964264271093363,\n",
       "  0.6275913939063735,\n",
       "  0.8707708181771561,\n",
       "  0.9200179501970567,\n",
       "  0.8244910016723718,\n",
       "  0.7930950942728399,\n",
       "  0.8380224686871706,\n",
       "  0.7531794000970085,\n",
       "  0.7241952027735179,\n",
       "  0.7633910702731289,\n",
       "  0.6876431054038031,\n",
       "  0.9535641449458,\n",
       "  1.0058319175948778,\n",
       "  0.9029731882540666,\n",
       "  0.8705736467473918,\n",
       "  0.9175130907046047,\n",
       "  0.8263708724664954,\n",
       "  0.7946867413694748,\n",
       "  0.8375443980033779,\n",
       "  0.7569166293376032,\n",
       "  2.5842906503928362,\n",
       "  2.746815288862662,\n",
       "  2.432464803185827,\n",
       "  2.327106115923785,\n",
       "  2.4729453436410003,\n",
       "  2.1905506490491855,\n",
       "  2.0904316263710774,\n",
       "  2.220748904801603,\n",
       "  1.9691800224767047,\n",
       "  2.8068223522836346,\n",
       "  2.98045453887596,\n",
       "  2.6446040280515426,\n",
       "  2.5299576902794825,\n",
       "  2.685600083809255,\n",
       "  2.384084581543233,\n",
       "  2.274988923639306,\n",
       "  2.413809062867291,\n",
       "  2.14524231604537,\n",
       "  3.0569411869460144,\n",
       "  3.2428759015411006,\n",
       "  2.882524168810878,\n",
       "  2.7569369016064385,\n",
       "  2.9236800433017374,\n",
       "  2.6003126858626966,\n",
       "  2.4801147418002567,\n",
       "  2.628865548160435,\n",
       "  2.3411696908671047,\n",
       "  7.5169864616562885,\n",
       "  7.981895311138406,\n",
       "  7.0785526935929335,\n",
       "  6.694845483018,\n",
       "  7.111206317801475,\n",
       "  6.302851545977577,\n",
       "  5.93066315430557,\n",
       "  6.300106136935227,\n",
       "  5.5831386607570375,\n",
       "  8.00662312408561,\n",
       "  8.486966277979402,\n",
       "  7.552260528758061,\n",
       "  7.117831134050699,\n",
       "  7.54802671280035,\n",
       "  6.711741498427081,\n",
       "  6.294110659068758,\n",
       "  6.6758296298358255,\n",
       "  5.934650512063289,\n",
       "  8.487652367788796,\n",
       "  8.978968471444968,\n",
       "  8.021161921447346,\n",
       "  7.533821340394052,\n",
       "  7.9742885750092185,\n",
       "  7.11671604500688,\n",
       "  6.653335984660535,\n",
       "  7.044375706071818,\n",
       "  6.283889030241738])"
      ]
     },
     "execution_count": 43,
     "metadata": {},
     "output_type": "execute_result"
    }
   ],
   "source": [
    "compute_sizes(SFH_table, alpha_test_values_list, beta_test_values_list, gamma_test_values_list, delta_test_values_list)\n",
    "\n"
   ]
  },
  {
   "cell_type": "code",
   "execution_count": 44,
   "metadata": {},
   "outputs": [
    {
     "name": "stdout",
     "output_type": "stream",
     "text": [
      "  SFH_SF \n",
      "---------\n",
      "      0.0\n",
      "      0.0\n",
      "      0.0\n",
      "0.0915107\n",
      " 0.189458\n",
      " 0.216959\n",
      " 0.243011\n",
      " 0.210793\n",
      " 0.341129\n",
      "  0.30795\n",
      "      ...\n",
      "  3.45593\n",
      "   3.6866\n",
      "  4.10693\n",
      "  2.66521\n",
      "  2.65289\n",
      "  2.27536\n",
      "  2.67384\n",
      "  1.82095\n",
      "  1.62569\n",
      "  1.94809\n",
      "  2.73335\n",
      "Length = 178 rows\n",
      "scale_factor  SFH_all   SFH_all_up ... scale_factor_begin scale_factor_end\n",
      "------------ --------- ----------- ... ------------------ ----------------\n",
      "    0.028936 0.0223615 -0.00183288 ...                0.0         0.057873\n",
      "    0.059561  0.449203    0.302213 ...           0.057873         0.061248\n",
      "    0.062373  0.999877     0.24765 ...           0.061248         0.063498\n",
      "    0.064623   1.20637    0.745244 ...           0.063498         0.065748\n",
      "    0.066873   1.96808     1.22318 ...           0.065748         0.067998\n",
      "    0.069123   2.64728      1.2896 ...           0.067998         0.070248\n",
      "    0.071373   3.32954      2.2663 ...           0.070248         0.072498\n",
      "    0.073623   4.83884     2.66008 ...           0.072498         0.074748\n",
      "    0.075873   6.13729     3.67733 ...           0.074748         0.076998\n",
      "    0.078123   7.86197     2.86659 ...           0.076998         0.079248\n",
      "         ...       ...         ... ...                ...              ...\n",
      "    0.926373   2.07258     0.97673 ...           0.922576          0.93017\n",
      "    0.933967   2.03767    0.928544 ...            0.93017         0.937763\n",
      "     0.94156   2.04865     1.01599 ...           0.937763         0.945357\n",
      "    0.949154    2.0243     1.01896 ...           0.945357         0.952951\n",
      "    0.956748   1.94303    0.954996 ...           0.952951         0.960545\n",
      "    0.964342   1.96818     1.04991 ...           0.960545         0.968138\n",
      "    0.971935   1.95894      1.2067 ...           0.968138         0.975732\n",
      "    0.979529   1.93336     1.09054 ...           0.975732         0.983326\n",
      "    0.987123   1.87262     1.25998 ...           0.983326          0.99092\n",
      "    0.994717   1.74893     1.15257 ...            0.99092         0.998514\n",
      "    1.000412   1.64181     1.24459 ...           0.998514          1.00231\n",
      "Length = 178 rows\n"
     ]
    }
   ],
   "source": [
    "SFH_file = list_SFH_tables[0]\n",
    "SFH_table = Table.read(SFH_file, format='ascii', names=('scale_factor', 'SFH_all', 'SFH_all_up', 'SFH_all_dw', 'SFH_SF', 'SFH_SF_up', 'SFH_SF_dw', 'SFH_Q', 'SFH_Q_up', 'SFH_Q_dw', 'SFH_Cen', 'SFH_Cen_up', 'SFH_Cen_dw', 'SFH_Sat', 'SFH_Sat_up', 'SFH_Sat_dw', 'scale_factor_begin', 'scale_factor_end')) \n",
    "print(SFH_table['SFH_SF'])\n",
    "print(SFH_table)"
   ]
  },
  {
   "cell_type": "code",
   "execution_count": null,
   "metadata": {},
   "outputs": [
    {
     "name": "stdout",
     "output_type": "stream",
     "text": [
      "reading in /home/wolbach/Desktop/SRMP/morph_project/SFH/Behroozi+19/sfh_sm11.90_a1.002310.dat\n"
     ]
    },
    {
     "name": "stderr",
     "output_type": "stream",
     "text": [
      "/home/wolbach/Desktop/SRMP/morph_project/morph_tools/toolbox_morph.py:74: RuntimeWarning: divide by zero encountered in true_divide\n",
      "  self.time_boundary = cosmo.age(1.0/self.scale_factor_boundary-1.0).value\n",
      "/home/wolbach/Desktop/SRMP/morph_project/morph_tools/toolbox_morph.py:75: RuntimeWarning: divide by zero encountered in true_divide\n",
      "  self.time_dt = np.diff(cosmo.age(1.0/self.scale_factor_boundary-1.0).value)\n",
      "/home/wolbach/Desktop/SRMP/morph_project/morph_tools/toolbox_morph.py:79: RuntimeWarning: invalid value encountered in true_divide\n",
      "  self.Rs = self.Rs_params[0]*(self.mass/10**10)**self.Rs_params[1]*((self.SFR/self.mass)/10**-10)**self.Rs_params[2]*(1+self.redshift)**self.Rs_params[3]\n"
     ]
    },
    {
     "name": "stdout",
     "output_type": "stream",
     "text": [
      "reading in /home/wolbach/Desktop/SRMP/morph_project/SFH/Behroozi+19/sfh_sm9.70_a1.002310.dat\n",
      "reading in /home/wolbach/Desktop/SRMP/morph_project/SFH/Behroozi+19/sfh_sm8.10_a1.002310.dat\n",
      "reading in /home/wolbach/Desktop/SRMP/morph_project/SFH/Behroozi+19/sfh_sm8.70_a1.002310.dat\n",
      "reading in /home/wolbach/Desktop/SRMP/morph_project/SFH/Behroozi+19/sfh_sm7.50_a1.002310.dat\n",
      "reading in /home/wolbach/Desktop/SRMP/morph_project/SFH/Behroozi+19/sfh_sm13.10_a1.002310.dat\n",
      "reading in /home/wolbach/Desktop/SRMP/morph_project/SFH/Behroozi+19/sfh_sm12.90_a1.002310.dat\n",
      "reading in /home/wolbach/Desktop/SRMP/morph_project/SFH/Behroozi+19/sfh_sm11.50_a1.002310.dat\n",
      "reading in /home/wolbach/Desktop/SRMP/morph_project/SFH/Behroozi+19/sfh_sm7.70_a1.002310.dat\n",
      "reading in /home/wolbach/Desktop/SRMP/morph_project/SFH/Behroozi+19/sfh_sm9.10_a1.002310.dat\n",
      "reading in /home/wolbach/Desktop/SRMP/morph_project/SFH/Behroozi+19/sfh_sm10.50_a1.002310.dat\n",
      "reading in /home/wolbach/Desktop/SRMP/morph_project/SFH/Behroozi+19/sfh_sm9.50_a1.002310.dat\n",
      "reading in /home/wolbach/Desktop/SRMP/morph_project/SFH/Behroozi+19/sfh_sm8.30_a1.002310.dat\n",
      "reading in /home/wolbach/Desktop/SRMP/morph_project/SFH/Behroozi+19/sfh_sm10.70_a1.002310.dat\n",
      "reading in /home/wolbach/Desktop/SRMP/morph_project/SFH/Behroozi+19/sfh_sm9.30_a1.002310.dat\n",
      "reading in /home/wolbach/Desktop/SRMP/morph_project/SFH/Behroozi+19/sfh_sm8.50_a1.002310.dat\n",
      "reading in /home/wolbach/Desktop/SRMP/morph_project/SFH/Behroozi+19/sfh_sm7.30_a1.002310.dat\n",
      "reading in /home/wolbach/Desktop/SRMP/morph_project/SFH/Behroozi+19/sfh_sm12.30_a1.002310.dat\n",
      "reading in /home/wolbach/Desktop/SRMP/morph_project/SFH/Behroozi+19/sfh_sm11.70_a1.002310.dat\n",
      "reading in /home/wolbach/Desktop/SRMP/morph_project/SFH/Behroozi+19/sfh_sm12.70_a1.002310.dat\n",
      "reading in /home/wolbach/Desktop/SRMP/morph_project/SFH/Behroozi+19/sfh_sm10.30_a1.002310.dat\n",
      "reading in /home/wolbach/Desktop/SRMP/morph_project/SFH/Behroozi+19/sfh_sm9.90_a1.002310.dat\n",
      "reading in /home/wolbach/Desktop/SRMP/morph_project/SFH/Behroozi+19/sfh_sm7.90_a1.002310.dat\n",
      "reading in /home/wolbach/Desktop/SRMP/morph_project/SFH/Behroozi+19/sfh_sm8.90_a1.002310.dat\n"
     ]
    }
   ],
   "source": [
    "mass_Q_list = []\n",
    "mass_SF_list = []\n",
    "RM_Q_stack = []\n",
    "RM_SF_stack = []\n",
    "index = 0;\n",
    "\n",
    "# for each SFH table, mass_Q, mass_SF, and RM_Q_list, RM_SF_list are found and added to lists initialized above\n",
    "for SFH_file in list_SFH_tables:\n",
    "    print('reading in', SFH_file)\n",
    "    SFH_table = Table.read(SFH_file, format='ascii', names=('scale_factor', 'SFH_all', 'SFH_all_up', 'SFH_all_dw', 'SFH_SF', 'SFH_SF_up', 'SFH_SF_dw', 'SFH_Q', 'SFH_Q_up', 'SFH_Q_dw', 'SFH_Cen', 'SFH_Cen_up', 'SFH_Cen_dw', 'SFH_Sat', 'SFH_Sat_up', 'SFH_Sat_dw', 'scale_factor_begin', 'scale_factor_end')) \n",
    "    mass_Q, mass_SF, RM_Q_list, RM_SF_list = compute_sizes(SFH_table, alpha_test_values_list, beta_test_values_list, gamma_test_values_list, delta_test_values_list)\n",
    "   \n",
    "    mass_Q_list.append(mass_Q)\n",
    "    mass_SF_list.append(mass_SF)\n",
    "    if (index == 0):\n",
    "        RM_Q_stack.append(RM_Q_list)\n",
    "        RM_SF_stack.append(RM_SF_list)\n",
    "    else:\n",
    "        np.vstack(RM_Q_list, RM_Q_stack)\n",
    "        np.vstack(RM_SF_list, RM_SF_stack)\n",
    "    "
   ]
  },
  {
   "cell_type": "code",
   "execution_count": null,
   "metadata": {},
   "outputs": [],
   "source": [
    "#speed improvement, develop algorithm to find best fit values from lists"
   ]
  },
  {
   "cell_type": "code",
   "execution_count": null,
   "metadata": {},
   "outputs": [],
   "source": []
  }
 ],
 "metadata": {
  "kernelspec": {
   "display_name": "Python 3",
   "language": "python",
   "name": "python3"
  },
  "language_info": {
   "codemirror_mode": {
    "name": "ipython",
    "version": 3
   },
   "file_extension": ".py",
   "mimetype": "text/x-python",
   "name": "python",
   "nbconvert_exporter": "python",
   "pygments_lexer": "ipython3",
   "version": "3.6.5"
  }
 },
 "nbformat": 4,
 "nbformat_minor": 2
}
