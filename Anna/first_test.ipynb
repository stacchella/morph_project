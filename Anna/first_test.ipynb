{
 "cells": [
  {
   "cell_type": "markdown",
   "metadata": {},
   "source": [
    "# Modules"
   ]
  },
  {
   "cell_type": "code",
   "execution_count": 1,
   "metadata": {
    "ExecuteTime": {
     "end_time": "2018-11-26T15:43:14.179487Z",
     "start_time": "2018-11-26T15:43:13.233299Z"
    }
   },
   "outputs": [],
   "source": [
    "import toolbox_morph\n",
    "import numpy as np\n",
    "import matplotlib.pyplot as plt\n",
    "from astropy.table import Table\n",
    "\n",
    "\n"
   ]
  },
  {
   "cell_type": "code",
   "execution_count": null,
   "metadata": {
    "ExecuteTime": {
     "end_time": "2018-11-26T16:12:16.382257Z",
     "start_time": "2018-11-26T16:12:16.378227Z"
    }
   },
   "outputs": [],
   "source": []
  },
  {
   "cell_type": "markdown",
   "metadata": {},
   "source": [
    "# Define paths"
   ]
  },
  {
   "cell_type": "code",
   "execution_count": 2,
   "metadata": {
    "ExecuteTime": {
     "end_time": "2018-11-26T15:43:15.080488Z",
     "start_time": "2018-11-26T15:43:15.077162Z"
    }
   },
   "outputs": [],
   "source": [
    "path_main_directory = '/home/wolbach/Desktop/SRMP/morph_project/'\n",
    "path_SFH_table = path_main_directory + 'SFH/'\n"
   ]
  },
  {
   "cell_type": "code",
   "execution_count": null,
   "metadata": {},
   "outputs": [],
   "source": []
  },
  {
   "cell_type": "markdown",
   "metadata": {},
   "source": [
    "# Basic test"
   ]
  },
  {
   "cell_type": "code",
   "execution_count": 3,
   "metadata": {
    "ExecuteTime": {
     "end_time": "2018-11-26T15:43:16.077619Z",
     "start_time": "2018-11-26T15:43:15.844894Z"
    }
   },
   "outputs": [
    {
     "name": "stderr",
     "output_type": "stream",
     "text": [
      "/home/wolbach/Desktop/SRMP/morph_project/morph_tools/toolbox_morph.py:74: RuntimeWarning: divide by zero encountered in true_divide\n",
      "  self.time_boundary = cosmo.age(1.0/self.scale_factor_boundary-1.0).value\n",
      "/home/wolbach/Desktop/SRMP/morph_project/morph_tools/toolbox_morph.py:75: RuntimeWarning: divide by zero encountered in true_divide\n",
      "  self.time_dt = np.diff(cosmo.age(1.0/self.scale_factor_boundary-1.0).value)\n"
     ]
    }
   ],
   "source": [
    "a = [0.1, 0.4, 0.7]\n",
    "SFR = [20.0, 100.0, 5.0]\n",
    "Rs = [2.0, 0.8, 4.0]\n",
    "\n",
    "radius_kpc = np.linspace(0.0, 50.0, num=501)\n",
    "\n",
    "galaxy_test = toolbox_morph.galaxy(radius_kpc, a, SFR, [1.0, 0.3, -0.5, 0.2])\n",
    "\n"
   ]
  },
  {
   "cell_type": "code",
   "execution_count": 4,
   "metadata": {
    "ExecuteTime": {
     "end_time": "2018-11-14T21:33:21.524639Z",
     "start_time": "2018-11-14T21:33:21.520122Z"
    }
   },
   "outputs": [
    {
     "data": {
      "text/plain": [
       "dict_keys(['radius', 'scale_factor', 'redshift', 'time', 'scale_factor_boundary', 'time_boundary', 'time_dt', 'SFR', 'mass', 'Rs_params', 'Rs', 'age'])"
      ]
     },
     "execution_count": 4,
     "metadata": {},
     "output_type": "execute_result"
    }
   ],
   "source": [
    "galaxy_test.__dict__.keys()"
   ]
  },
  {
   "cell_type": "code",
   "execution_count": 5,
   "metadata": {
    "ExecuteTime": {
     "end_time": "2018-11-14T21:33:21.864696Z",
     "start_time": "2018-11-14T21:33:21.851536Z"
    },
    "scrolled": false
   },
   "outputs": [
    {
     "data": {
      "text/plain": [
       "{'radius': array([ 0. ,  0.1,  0.2,  0.3,  0.4,  0.5,  0.6,  0.7,  0.8,  0.9,  1. ,\n",
       "         1.1,  1.2,  1.3,  1.4,  1.5,  1.6,  1.7,  1.8,  1.9,  2. ,  2.1,\n",
       "         2.2,  2.3,  2.4,  2.5,  2.6,  2.7,  2.8,  2.9,  3. ,  3.1,  3.2,\n",
       "         3.3,  3.4,  3.5,  3.6,  3.7,  3.8,  3.9,  4. ,  4.1,  4.2,  4.3,\n",
       "         4.4,  4.5,  4.6,  4.7,  4.8,  4.9,  5. ,  5.1,  5.2,  5.3,  5.4,\n",
       "         5.5,  5.6,  5.7,  5.8,  5.9,  6. ,  6.1,  6.2,  6.3,  6.4,  6.5,\n",
       "         6.6,  6.7,  6.8,  6.9,  7. ,  7.1,  7.2,  7.3,  7.4,  7.5,  7.6,\n",
       "         7.7,  7.8,  7.9,  8. ,  8.1,  8.2,  8.3,  8.4,  8.5,  8.6,  8.7,\n",
       "         8.8,  8.9,  9. ,  9.1,  9.2,  9.3,  9.4,  9.5,  9.6,  9.7,  9.8,\n",
       "         9.9, 10. , 10.1, 10.2, 10.3, 10.4, 10.5, 10.6, 10.7, 10.8, 10.9,\n",
       "        11. , 11.1, 11.2, 11.3, 11.4, 11.5, 11.6, 11.7, 11.8, 11.9, 12. ,\n",
       "        12.1, 12.2, 12.3, 12.4, 12.5, 12.6, 12.7, 12.8, 12.9, 13. , 13.1,\n",
       "        13.2, 13.3, 13.4, 13.5, 13.6, 13.7, 13.8, 13.9, 14. , 14.1, 14.2,\n",
       "        14.3, 14.4, 14.5, 14.6, 14.7, 14.8, 14.9, 15. , 15.1, 15.2, 15.3,\n",
       "        15.4, 15.5, 15.6, 15.7, 15.8, 15.9, 16. , 16.1, 16.2, 16.3, 16.4,\n",
       "        16.5, 16.6, 16.7, 16.8, 16.9, 17. , 17.1, 17.2, 17.3, 17.4, 17.5,\n",
       "        17.6, 17.7, 17.8, 17.9, 18. , 18.1, 18.2, 18.3, 18.4, 18.5, 18.6,\n",
       "        18.7, 18.8, 18.9, 19. , 19.1, 19.2, 19.3, 19.4, 19.5, 19.6, 19.7,\n",
       "        19.8, 19.9, 20. , 20.1, 20.2, 20.3, 20.4, 20.5, 20.6, 20.7, 20.8,\n",
       "        20.9, 21. , 21.1, 21.2, 21.3, 21.4, 21.5, 21.6, 21.7, 21.8, 21.9,\n",
       "        22. , 22.1, 22.2, 22.3, 22.4, 22.5, 22.6, 22.7, 22.8, 22.9, 23. ,\n",
       "        23.1, 23.2, 23.3, 23.4, 23.5, 23.6, 23.7, 23.8, 23.9, 24. , 24.1,\n",
       "        24.2, 24.3, 24.4, 24.5, 24.6, 24.7, 24.8, 24.9, 25. , 25.1, 25.2,\n",
       "        25.3, 25.4, 25.5, 25.6, 25.7, 25.8, 25.9, 26. , 26.1, 26.2, 26.3,\n",
       "        26.4, 26.5, 26.6, 26.7, 26.8, 26.9, 27. , 27.1, 27.2, 27.3, 27.4,\n",
       "        27.5, 27.6, 27.7, 27.8, 27.9, 28. , 28.1, 28.2, 28.3, 28.4, 28.5,\n",
       "        28.6, 28.7, 28.8, 28.9, 29. , 29.1, 29.2, 29.3, 29.4, 29.5, 29.6,\n",
       "        29.7, 29.8, 29.9, 30. , 30.1, 30.2, 30.3, 30.4, 30.5, 30.6, 30.7,\n",
       "        30.8, 30.9, 31. , 31.1, 31.2, 31.3, 31.4, 31.5, 31.6, 31.7, 31.8,\n",
       "        31.9, 32. , 32.1, 32.2, 32.3, 32.4, 32.5, 32.6, 32.7, 32.8, 32.9,\n",
       "        33. , 33.1, 33.2, 33.3, 33.4, 33.5, 33.6, 33.7, 33.8, 33.9, 34. ,\n",
       "        34.1, 34.2, 34.3, 34.4, 34.5, 34.6, 34.7, 34.8, 34.9, 35. , 35.1,\n",
       "        35.2, 35.3, 35.4, 35.5, 35.6, 35.7, 35.8, 35.9, 36. , 36.1, 36.2,\n",
       "        36.3, 36.4, 36.5, 36.6, 36.7, 36.8, 36.9, 37. , 37.1, 37.2, 37.3,\n",
       "        37.4, 37.5, 37.6, 37.7, 37.8, 37.9, 38. , 38.1, 38.2, 38.3, 38.4,\n",
       "        38.5, 38.6, 38.7, 38.8, 38.9, 39. , 39.1, 39.2, 39.3, 39.4, 39.5,\n",
       "        39.6, 39.7, 39.8, 39.9, 40. , 40.1, 40.2, 40.3, 40.4, 40.5, 40.6,\n",
       "        40.7, 40.8, 40.9, 41. , 41.1, 41.2, 41.3, 41.4, 41.5, 41.6, 41.7,\n",
       "        41.8, 41.9, 42. , 42.1, 42.2, 42.3, 42.4, 42.5, 42.6, 42.7, 42.8,\n",
       "        42.9, 43. , 43.1, 43.2, 43.3, 43.4, 43.5, 43.6, 43.7, 43.8, 43.9,\n",
       "        44. , 44.1, 44.2, 44.3, 44.4, 44.5, 44.6, 44.7, 44.8, 44.9, 45. ,\n",
       "        45.1, 45.2, 45.3, 45.4, 45.5, 45.6, 45.7, 45.8, 45.9, 46. , 46.1,\n",
       "        46.2, 46.3, 46.4, 46.5, 46.6, 46.7, 46.8, 46.9, 47. , 47.1, 47.2,\n",
       "        47.3, 47.4, 47.5, 47.6, 47.7, 47.8, 47.9, 48. , 48.1, 48.2, 48.3,\n",
       "        48.4, 48.5, 48.6, 48.7, 48.8, 48.9, 49. , 49.1, 49.2, 49.3, 49.4,\n",
       "        49.5, 49.6, 49.7, 49.8, 49.9, 50. ]),\n",
       " 'scale_factor': array([0.1, 0.4, 0.7]),\n",
       " 'redshift': array([9.        , 1.5       , 0.42857143]),\n",
       " 'time': array([0.54526208, 4.27775734, 9.15045508]),\n",
       " 'scale_factor_boundary': array([0.  , 0.25, 0.55, 0.85]),\n",
       " 'time_boundary': array([ 0.        ,  2.14856952,  6.67989556, 11.54766093]),\n",
       " 'time_dt': array([2.14856952, 4.53132604, 4.86776537]),\n",
       " 'SFR': array([ 20., 100.,   5.]),\n",
       " 'mass': array([4.29713904e+10, 4.96103994e+11, 5.20442821e+11]),\n",
       " 'Rs_params': array([ 1. ,  0.3, -0.5,  0.2]),\n",
       " 'Rs': array([ 1.13770201,  2.72926798, 11.33949745]),\n",
       " 'age': array([ 2.43388269,  7.13342839, 10.47337617])}"
      ]
     },
     "execution_count": 5,
     "metadata": {},
     "output_type": "execute_result"
    }
   ],
   "source": [
    "galaxy_test.__dict__"
   ]
  },
  {
   "cell_type": "code",
   "execution_count": null,
   "metadata": {},
   "outputs": [],
   "source": []
  },
  {
   "cell_type": "code",
   "execution_count": null,
   "metadata": {},
   "outputs": [],
   "source": []
  },
  {
   "cell_type": "markdown",
   "metadata": {},
   "source": [
    "# Test with SFH"
   ]
  },
  {
   "cell_type": "markdown",
   "metadata": {},
   "source": [
    "## Read in table"
   ]
  },
  {
   "cell_type": "code",
   "execution_count": 6,
   "metadata": {
    "ExecuteTime": {
     "end_time": "2018-11-26T16:44:23.009008Z",
     "start_time": "2018-11-26T16:44:22.976764Z"
    }
   },
   "outputs": [],
   "source": [
    "SFH_table = Table.read(path_SFH_table + 'sfh_sm10.50_a1.002310.dat', format='ascii', names=('scale_factor', 'SFH_all', 'SFH_all_up', 'SFH_all_dw', 'SFH_SF', 'SFH_SF_up', 'SFH_SF_dw', 'SFH_Q', 'SFH_Q_up', 'SFH_Q_dw', 'SFH_Cen', 'SFH_Cen_up', 'SFH_Cen_dw', 'SFH_Sat', 'SFH_Sat_up', 'SFH_Sat_dw', 'scale_factor_begin', 'scale_factor_end')) \n"
   ]
  },
  {
   "cell_type": "code",
   "execution_count": 7,
   "metadata": {
    "ExecuteTime": {
     "end_time": "2018-11-26T17:10:10.800529Z",
     "start_time": "2018-11-26T17:10:10.793463Z"
    }
   },
   "outputs": [
    {
     "name": "stdout",
     "output_type": "stream",
     "text": [
      "scale_factor   SFH_all    SFH_all_up  ... scale_factor_begin scale_factor_end\n",
      "------------ ----------- ------------ ... ------------------ ----------------\n",
      "    0.028936 7.57188e-05 -3.50351e-05 ...                0.0         0.057873\n",
      "    0.059561  0.00112787  8.33206e-05 ...           0.057873         0.061248\n",
      "    0.062373  0.00364916  0.000763607 ...           0.061248         0.063498\n",
      "    0.064623  0.00479807   0.00179845 ...           0.063498         0.065748\n",
      "    0.066873  0.00825626   0.00246062 ...           0.065748         0.067998\n",
      "    0.069123    0.011718   0.00284543 ...           0.067998         0.070248\n",
      "    0.071373   0.0142628   0.00683206 ...           0.070248         0.072498\n",
      "    0.073623   0.0209673    0.0091823 ...           0.072498         0.074748\n",
      "    0.075873   0.0296027    0.0124159 ...           0.074748         0.076998\n",
      "    0.078123   0.0407726    0.0155405 ...           0.076998         0.079248\n",
      "         ...         ...          ... ...                ...              ...\n",
      "    0.926373    0.821078      0.37057 ...           0.922576          0.93017\n",
      "    0.933967    0.797693     0.349379 ...            0.93017         0.937763\n",
      "     0.94156    0.769389     0.326947 ...           0.937763         0.945357\n",
      "    0.949154    0.744505     0.315384 ...           0.945357         0.952951\n",
      "    0.956748    0.726237     0.319031 ...           0.952951         0.960545\n",
      "    0.964342    0.704849     0.308941 ...           0.960545         0.968138\n",
      "    0.971935    0.681664     0.298943 ...           0.968138         0.975732\n",
      "    0.979529    0.664115     0.292557 ...           0.975732         0.983326\n",
      "    0.987123    0.641895     0.289016 ...           0.983326          0.99092\n",
      "    0.994717    0.622458     0.278378 ...            0.99092         0.998514\n",
      "    1.000412    0.600031     0.256596 ...           0.998514          1.00231\n",
      "Length = 178 rows\n"
     ]
    }
   ],
   "source": [
    "print(SFH_table)"
   ]
  },
  {
   "cell_type": "code",
   "execution_count": null,
   "metadata": {},
   "outputs": [],
   "source": []
  },
  {
   "cell_type": "markdown",
   "metadata": {},
   "source": [
    "# Look at galaxy"
   ]
  },
  {
   "cell_type": "code",
   "execution_count": 8,
   "metadata": {
    "ExecuteTime": {
     "end_time": "2018-11-26T16:44:26.165048Z",
     "start_time": "2018-11-26T16:44:25.814543Z"
    }
   },
   "outputs": [
    {
     "name": "stderr",
     "output_type": "stream",
     "text": [
      "/home/wolbach/Desktop/SRMP/morph_project/morph_tools/toolbox_morph.py:74: RuntimeWarning: divide by zero encountered in true_divide\n",
      "  self.time_boundary = cosmo.age(1.0/self.scale_factor_boundary-1.0).value\n",
      "/home/wolbach/Desktop/SRMP/morph_project/morph_tools/toolbox_morph.py:75: RuntimeWarning: divide by zero encountered in true_divide\n",
      "  self.time_dt = np.diff(cosmo.age(1.0/self.scale_factor_boundary-1.0).value)\n"
     ]
    }
   ],
   "source": [
    "galaxy_1 = toolbox_morph.galaxy(radius_kpc, SFH_table['scale_factor'], SFH_table['SFH_all'], [2.0, 0.3, -0.5, 0.3])\n",
    "galaxy_2 = toolbox_morph.galaxy(radius_kpc, SFH_table['scale_factor'], SFH_table['SFH_Q'], [2.0, 0.3, -0.5, 0.4])\n",
    "galaxy_3 = toolbox_morph.galaxy(radius_kpc, SFH_table['scale_factor'], SFH_table['SFH_SF'], [2.0, 0.3, -0.4, 0.3])"
   ]
  },
  {
   "cell_type": "code",
   "execution_count": 9,
   "metadata": {
    "ExecuteTime": {
     "end_time": "2018-11-26T17:10:21.498747Z",
     "start_time": "2018-11-26T17:10:21.492689Z"
    }
   },
   "outputs": [
    {
     "name": "stdout",
     "output_type": "stream",
     "text": [
      "[ 3.35590268e+01  1.57895099e+01  1.50325782e+01  1.44743667e+01\n",
      "  1.39537182e+01  1.34669647e+01  1.30109005e+01  1.25827119e+01\n",
      "  1.21799191e+01  1.18003277e+01  1.14419892e+01  1.10621442e+01\n",
      "  1.06281774e+01  1.01890616e+01  9.78190365e+00  9.40333739e+00\n",
      "  9.05045328e+00  8.72072361e+00  8.41194187e+00  8.12217327e+00\n",
      "  7.84971415e+00  7.59305853e+00  7.35087016e+00  7.12195934e+00\n",
      "  6.90526332e+00  6.69982983e+00  6.50480307e+00  6.29687329e+00\n",
      "  6.05791015e+00  5.81440292e+00  5.58718135e+00  5.37458326e+00\n",
      "  5.17531726e+00  4.98809567e+00  4.81192607e+00  4.64579417e+00\n",
      "  4.48892609e+00  4.34051098e+00  4.19993760e+00  4.06654912e+00\n",
      "  3.93985724e+00  3.81932356e+00  3.70455401e+00  3.59510254e+00\n",
      "  3.49064823e+00  3.39081792e+00  3.29534814e+00  3.20392394e+00\n",
      "  3.11632741e+00  3.03229058e+00  2.95163202e+00  2.87412203e+00\n",
      "  2.79960864e+00  2.72789359e+00  2.65884893e+00  2.59230241e+00\n",
      "  2.52814578e+00  2.46622854e+00  2.40645865e+00  2.34870388e+00\n",
      "  2.29288572e+00  2.23888738e+00  2.18664160e+00  2.13604476e+00\n",
      "  2.08703907e+00  2.03954139e+00  1.99347423e+00  1.94879129e+00\n",
      "  1.90541424e+00  1.86330305e+00  1.82238718e+00  1.78263192e+00\n",
      "  1.74397355e+00  1.70638192e+00  1.66979923e+00  1.63419928e+00\n",
      "  1.59952949e+00  1.56576702e+00  1.53286391e+00  1.50080026e+00\n",
      "  1.46953215e+00  1.43904224e+00  1.40929022e+00  1.38026097e+00\n",
      "  1.35191740e+00  1.32424631e+00  1.29721348e+00  1.27080741e+00\n",
      "  1.24499646e+00  1.21977061e+00  1.19510054e+00  1.17097750e+00\n",
      "  1.14737430e+00  1.12428332e+00  1.10167924e+00  1.07955547e+00\n",
      "  1.05788840e+00  1.03667232e+00  1.01588518e+00  9.95522049e-01\n",
      "  9.75562294e-01  9.56001698e-01  9.36820902e-01  9.18016311e-01\n",
      "  8.99569747e-01  8.81478165e-01  8.63724467e-01  8.46306095e-01\n",
      "  8.29206947e-01  8.12424898e-01  7.95944757e-01  7.79764786e-01\n",
      "  7.63870638e-01  7.48260917e-01  7.32922053e-01  7.17850008e-01\n",
      "  7.03040779e-01  6.88481852e-01  6.74172540e-01  6.60100967e-01\n",
      "  6.46266679e-01  6.32658392e-01  6.19275860e-01  6.06108351e-01\n",
      "  5.93155803e-01  5.80407998e-01  5.67865038e-01  5.55517186e-01\n",
      "  5.43364689e-01  5.31398258e-01  5.19618272e-01  5.08015858e-01\n",
      "  4.96591513e-01  4.85336756e-01  4.74252186e-01  4.61975480e-01\n",
      "  4.47247119e-01  4.31516262e-01  4.16121696e-01  4.01054714e-01\n",
      "  3.86304970e-01  3.71864432e-01  3.57719791e-01  3.43863850e-01\n",
      "  3.30287861e-01  3.16985158e-01  3.03944170e-01  2.91158918e-01\n",
      "  2.78621952e-01  2.66327713e-01  2.54266072e-01  2.42432036e-01\n",
      "  2.30819221e-01  2.19422969e-01  2.08234359e-01  1.97249200e-01\n",
      "  1.86461994e-01  1.75868820e-01  1.65461773e-01  1.55237326e-01\n",
      "  1.45190714e-01  1.35318627e-01  1.25614022e-01  1.16073920e-01\n",
      "  1.06694172e-01  9.74719733e-02  8.84010192e-02  7.94787845e-02\n",
      "  7.07016415e-02  6.20672076e-02  5.35698106e-02  4.52073064e-02\n",
      "  3.69765083e-02  2.88753878e-02  2.08988197e-02  1.30449802e-02\n",
      "  5.31105832e-03 -4.11830326e-04]\n"
     ]
    }
   ],
   "source": [
    "print(galaxy_1.redshift)\n"
   ]
  },
  {
   "cell_type": "code",
   "execution_count": 10,
   "metadata": {
    "ExecuteTime": {
     "end_time": "2018-11-26T17:10:44.069664Z",
     "start_time": "2018-11-26T17:10:37.129622Z"
    }
   },
   "outputs": [
    {
     "name": "stdout",
     "output_type": "stream",
     "text": [
      "[0.10005818 0.10045441 0.10041144 0.1003591  0.1003098  0.10036368\n",
      " 0.10071211 0.10114861 0.1018324  0.10285817 0.10475452 0.10829763\n",
      " 0.11179762 0.11623839 0.12117398 0.12649702 0.13209629 0.13791228\n",
      " 0.14389603 0.15006268 0.1564789  0.16316659 0.17004824 0.17716998\n",
      " 0.18450146 0.19206273 0.20062309 0.21538879 0.23173647 0.24812785\n",
      " 0.26402961 0.27966996 0.29520615 0.31361433 0.33260124 0.350952\n",
      " 0.36885533 0.38645817 0.40465594 0.42506913 0.44491337 0.46432568\n",
      " 0.48341586 0.50263612 0.52403187 0.54492988 0.56543656 0.58563156\n",
      " 0.60629704 0.62837158 0.65000628 0.67127681 0.69226781 0.71440855\n",
      " 0.73698226 0.75918613 0.78108862 0.80299961 0.82636721 0.84936975\n",
      " 0.87205457 0.89447326 0.91802714 0.94169205 0.96504614 0.98814144\n",
      " 1.0118258  1.03607913 1.06003846 1.08374562 1.1077196  1.13249824\n",
      " 1.1569903  1.18123468 1.20558891 1.23082159 1.25578626 1.28050824\n",
      " 1.30530659 1.33095299 1.35633615 1.38149356 1.40677981 1.43277868\n",
      " 1.45852052 1.4840289  1.50977744 1.53604491 1.56205516 1.58782404\n",
      " 1.6139712  1.64039975 1.66655531 1.69245705 1.71888427 1.74533716\n",
      " 1.77150135 1.79737998 1.82389281 1.85017814 1.8761382  1.90184344\n",
      " 1.92810561 1.95398006 1.97947332 2.00476179 2.03040057 2.05565102\n",
      " 2.08047679 2.1050541  2.12989286 2.15427518 2.17819889 2.20174262\n",
      " 2.22555786 2.24884919 2.27164516 2.29393284 2.31621989 2.33817478\n",
      " 2.35957261 2.38040282 2.40072627 2.42097529 2.44052743 2.45940747\n",
      " 2.47762986 2.49521655 2.51254329 2.52938386 2.54563493 2.56126525\n",
      " 2.57631911 2.59079661 2.6058026  2.6230908  2.64201532 2.6606796\n",
      " 2.67824759 2.69492755 2.71107184 2.72651334 2.74117604 2.75505921\n",
      " 2.76827477 2.78086201 2.79290032 2.80455288 2.81588158 2.82677042\n",
      " 2.83717249 2.84712254 2.8566688  2.86583696 2.874662   2.88313401\n",
      " 2.89129533 2.89913845 2.90689125 2.9143742  2.92156086 2.92848899\n",
      " 2.93516985 2.94161431 2.94782899 2.9538057  2.95958689 2.96514584\n",
      " 2.97052598 2.97569592 2.98067912 2.98551961 2.9901971  2.99470065\n",
      " 2.99906851 3.00336968 3.00702612 3.0100338 ]\n",
      "[0.10202514 0.10470299 0.10406592 0.10383484 0.10370049 0.10396383\n",
      " 0.10489266 0.10601577 0.10777009 0.11017009 0.11393548 0.1194199\n",
      " 0.12532671 0.13217264 0.13935608 0.14687278 0.15467515 0.16277209\n",
      " 0.17120958 0.18003205 0.1892798  0.19894015 0.21273943 0.22632823\n",
      " 0.23939136 0.252093   0.26542317 0.28126391 0.29964919 0.32362408\n",
      " 0.34646494 0.36849886 0.39002614 0.41343554 0.43791943 0.46160644\n",
      " 0.48471447 0.50856167 0.5340436  0.55878881 0.5829928  0.60766208\n",
      " 0.63386966 0.65944599 0.68452514 0.7102026  0.73696818 0.7631826\n",
      " 0.78894354 0.81564422 0.8428128  0.8694697  0.8957038  0.92331752\n",
      " 0.95076589 0.97776551 1.00471457 1.0328696  1.06056048 1.08785832\n",
      " 1.11581062 1.1441373  1.17205012 1.19960759 1.22845146 1.25690382\n",
      " 1.28498589 1.31346524 1.34241041 1.37099732 1.39926234 1.42861123\n",
      " 1.45761377 1.48628462 1.5153803  1.54477084 1.57383785 1.60271419\n",
      " 1.6324674  1.66189423 1.69101283 1.7206978  1.75043028 1.77983894\n",
      " 1.80931092 1.83926165 1.86887976 1.89818384 1.92821166 1.957951\n",
      " 1.98734302 2.01700183 2.04674313 2.07611225 2.10528202 2.13488361\n",
      " 2.16408391 2.19287364 2.22194523 2.25080379 2.27920086 2.30737039\n",
      " 2.33568213 2.36346458 2.39072392 2.41801732 2.44504082 2.47156724\n",
      " 2.49753204 2.52364131 2.54924094 2.57426098 2.59870644 2.62326405\n",
      " 2.64724924 2.67058351 2.69331141 2.71584544 2.73785907 2.75921679\n",
      " 2.7798909  2.79987024 2.81975261 2.83883583 2.8571679  2.8747982\n",
      " 2.89173768 2.90822396 2.92426249 2.9396466  2.95443651 2.96859624\n",
      " 2.98219589 2.99517597 3.0086696  3.02396525 3.04063488 3.05701767\n",
      " 3.07235254 3.08681049 3.10052821 3.11379036 3.12627753 3.13807458\n",
      " 3.14923268 3.15984528 3.16996508 3.1795936  3.18873394 3.19752845\n",
      " 3.20602072 3.21408719 3.22173678 3.22901429 3.23598347 3.24257645\n",
      " 3.24885896 3.25484781 3.26056269 3.26597746 3.27109772 3.27591193\n",
      " 3.28045346 3.284734   3.28875732 3.29249308 3.29603251 3.29936117\n",
      " 3.3025107  3.3054453  3.30817334 3.31069944 3.31302408 3.31511432\n",
      " 3.31699127 3.31859378 3.31972618 3.32031413]\n",
      "[0.10000057 0.10009812 0.10008674 0.1000594  0.10017838 0.10084795\n",
      " 0.1023086  0.10392903 0.10576895 0.10810615 0.1114467  0.11688257\n",
      " 0.12284554 0.12952398 0.13659153 0.14395068 0.1515341  0.1592764\n",
      " 0.16715343 0.17522077 0.18354057 0.19213839 0.20154861 0.21446025\n",
      " 0.22678444 0.23868718 0.25108895 0.2656132  0.28228393 0.29956818\n",
      " 0.32099946 0.34153712 0.36121135 0.38028907 0.3990327  0.42072357\n",
      " 0.44181354 0.46227718 0.48226987 0.50220254 0.52443442 0.54603859\n",
      " 0.56714298 0.58785108 0.60921136 0.63165467 0.65358671 0.67508386\n",
      " 0.69626075 0.71888897 0.74145129 0.76357096 0.7853955  0.80756697\n",
      " 0.83071747 0.85346055 0.87588006 0.89799559 0.92145281 0.94469016\n",
      " 0.96755918 0.99014732 1.01341843 1.03709838 1.06046825 1.08360301\n",
      " 1.10696776 1.13116624 1.15509556 1.17879119 1.20242019 1.22710376\n",
      " 1.25152255 1.27571137 1.29970246 1.32481106 1.3496931  1.37436298\n",
      " 1.39884789 1.42434663 1.44968161 1.47482129 1.49978612 1.52575359\n",
      " 1.55151384 1.57707907 1.60258057 1.62891869 1.6550398  1.68095905\n",
      " 1.70697858 1.73359103 1.7599752  1.78615119 1.81262023 1.83940755\n",
      " 1.86595342 1.89226389 1.91902995 1.94580615 1.97230946 1.99853823\n",
      " 2.0253629  2.05190659 2.07811968 2.10413893 2.13055286 2.15660596\n",
      " 2.1822778  2.20781101 2.23354    2.25884715 2.28372547 2.30845291\n",
      " 2.33325114 2.35756532 2.38141346 2.40494185 2.42856017 2.45168222\n",
      " 2.47429366 2.49638631 2.51852161 2.54008562 2.56097284 2.58119261\n",
      " 2.60078468 2.62028137 2.63909988 2.65728237 2.67486969 2.69183787\n",
      " 2.70844843 2.72472119 2.7414151  2.7603675  2.78118011 2.80181561\n",
      " 2.82182012 2.84089197 2.8589838  2.87618886 2.89261508 2.90843135\n",
      " 2.9237442  2.93834854 2.95234387 2.96577934 2.97864928 2.99101905\n",
      " 3.00297796 3.01475413 3.0261265  3.03710717 3.04771017 3.05797018\n",
      " 3.06791199 3.07751139 3.08679598 3.09579834 3.10463845 3.11337278\n",
      " 3.12188079 3.13017263 3.13825721 3.14614408 3.15383732 3.16130363\n",
      " 3.16864183 3.17578595 3.18275745 3.18962652 3.19635988 3.20304444\n",
      " 3.20974473 3.2163563  3.22211712 3.22713327]\n"
     ]
    }
   ],
   "source": [
    "print(galaxy_1.get_size())\n",
    "print(galaxy_2.get_size())\n",
    "print(galaxy_3.get_size())\n",
    "\n"
   ]
  },
  {
   "cell_type": "code",
   "execution_count": 11,
   "metadata": {
    "ExecuteTime": {
     "end_time": "2018-11-26T17:10:44.091447Z",
     "start_time": "2018-11-26T17:10:44.084750Z"
    }
   },
   "outputs": [
    {
     "data": {
      "text/plain": [
       "55467978612.94292"
      ]
     },
     "execution_count": 11,
     "metadata": {},
     "output_type": "execute_result"
    }
   ],
   "source": [
    "galaxy_1.mass[-1]"
   ]
  },
  {
   "cell_type": "code",
   "execution_count": null,
   "metadata": {},
   "outputs": [],
   "source": []
  },
  {
   "cell_type": "markdown",
   "metadata": {},
   "source": [
    "# Observations"
   ]
  },
  {
   "cell_type": "code",
   "execution_count": 12,
   "metadata": {
    "ExecuteTime": {
     "end_time": "2018-11-26T21:34:17.047850Z",
     "start_time": "2018-11-26T21:34:17.042142Z"
    }
   },
   "outputs": [],
   "source": [
    "def Mosleh2013_SF(mass):\n",
    "    alpha, beta, gamma, M0 = 0.109, 0.263, 10**-0.743, 10**10.204\n",
    "    return(gamma*mass**alpha*(1+mass/M0)**(beta-alpha))\n",
    "\n",
    "def Mosleh2013_Q(mass):\n",
    "    alpha, beta, gamma, M0 = 0.014, 0.912, 10**-0.058, 10**10.555\n",
    "    return(gamma*mass**alpha*(1+mass/M0)**(beta-alpha))\n",
    "\n"
   ]
  },
  {
   "cell_type": "code",
   "execution_count": 13,
   "metadata": {
    "ExecuteTime": {
     "end_time": "2018-11-26T21:38:59.668197Z",
     "start_time": "2018-11-26T21:38:59.664796Z"
    }
   },
   "outputs": [],
   "source": [
    "log_mass_plot = np.linspace(9.0, 11.5)"
   ]
  },
  {
   "cell_type": "code",
   "execution_count": 14,
   "metadata": {},
   "outputs": [
    {
     "data": {
      "image/png": "[encoded data removed]",
      "text/plain": [
       "<Figure size 396x324 with 1 Axes>"
      ]
     },
     "metadata": {},
     "output_type": "display_data"
    }
   ],
   "source": [
    "\n",
    "fig, ax = plt.subplots(nrows=1, ncols=1, figsize=(5.5, 4.5))\n",
    "\n",
    "# plot model\n",
    "sc = ax.plot(np.log10(galaxy_1.mass[-1]), np.log10(galaxy_1.get_size()[-1]), 'o', color='orange', label='Galaxy_1')\n",
    "sc = ax.plot(np.log10(galaxy_2.mass[-1]), np.log10(galaxy_2.get_size()[-1]), 'o', color='orange', label='Galaxy_2')\n",
    "sc = ax.plot(np.log10(galaxy_3.mass[-1]), np.log10(galaxy_3.get_size()[-1]), 'o', color='orange', label='Galaxy_3')\n",
    "\n",
    "\n",
    "# plot observations\n",
    "sc = ax.plot(log_mass_plot, np.log10(Mosleh2013_SF(10**log_mass_plot)), '-', lw=3, color='C0', label='SF')\n",
    "sc = ax.plot(log_mass_plot, np.log10(Mosleh2013_Q(10**log_mass_plot)), '-', lw=3, color='C3', label='Q')\n",
    "\n",
    "\n",
    "# set axes\n",
    "\n",
    "ax.set_xlabel(r'$\\log\\/\\/\\/\\mathrm{M_{\\star}}\\/\\/\\/[\\mathrm{M_{\\odot}}]$', fontsize=18)\n",
    "ax.set_ylabel(r'$\\log\\/\\/\\/R_{\\rm e}\\/\\/\\/[\\mathrm{kpc}]$', fontsize=18)\n",
    "\n",
    "ax.set_xlim([9.0, 11.5])\n",
    "ax.set_ylim([-0.3, 1.5])\n",
    "\n",
    "ax.legend(frameon=False, fontsize=14)\n",
    "\n",
    "plt.show()"
   ]
  },
  {
   "cell_type": "code",
   "execution_count": null,
   "metadata": {},
   "outputs": [],
   "source": [
    "# test lists\n",
    "alpha_test_list = [0.5, 2.0, 3.0]\n",
    "beta_test_list = [0.2 ,1.0, 2.0]\n",
    "gamma_test_list = [-1.0, -0.5, -0.2]\n",
    "delta_test_list = [0.2, 1.0, 1.5]"
   ]
  },
  {
   "cell_type": "code",
   "execution_count": null,
   "metadata": {},
   "outputs": [],
   "source": [
    "RM_Q_list = []\n",
    "RM_SF_list = []\n",
    "alpha_list = []\n",
    "beta_list = []\n",
    "gamma_list = []\n",
    "delta_list = []\n",
    "\n",
    "for ii_alpha in alpha_test_list:\n",
    "    for ii_beta in beta_test_list:\n",
    "        for ii_gamma in gamma_test_list:\n",
    "            for ii_delta in delta_test_list:\n",
    "                print(ii_alpha,ii_beta,ii_gamma,ii_delta)\n",
    "                gal_Q = toolbox_morph.galaxy(radius_kpc, SFH_table['scale_factor'], SFH_table['SFH_Q'], [ii_alpha,ii_beta,ii_gamma,ii_delta])\n",
    "                RM_Q_list.append(gal.get_size()[-1])\n",
    "                \n",
    "                gal_SF = toolbox_morph.galaxy(radius_kpc, SFH_table['scale_factor'], SFH_table['SFH_SF'], [ii_alpha,ii_beta,ii_gamma,ii_delta])\n",
    "                RM_SF_list.append(gal.get_size()[-1])\n",
    "                \n",
    "                alpha_list.append(ii_alpha)\n",
    "                beta_list.append(ii_beta)\n",
    "                gamma_list.append(ii_gamma)\n",
    "                delta_list.append(ii_delta)"
   ]
  },
  {
   "cell_type": "code",
   "execution_count": null,
   "metadata": {},
   "outputs": [],
   "source": [
    "fig, ax = plt.subplots(nrows=1, ncols=1, figsize=(5.5, 4.5))\n",
    "\n",
    "# plot model\n",
    "sc = ax.plot(np.log10(gal_Q.mass[-1])*np.ones(len(RM_Q_list)), np.log10(RM_Q_list), 'o', color='orange', label='Q Test Galaxies')\n",
    "sc = ax.plot(np.log10(gal_SF.mass[-1])*np.ones(len(RM_SF_list)), np.log10(RM_SF_list), 'o', color='orange', label='SF Test Galaxies')\n",
    "\n",
    "# plot observations\n",
    "sc = ax.plot(log_mass_plot, np.log10(Mosleh2013_SF(10**log_mass_plot)), '-', lw=3, color='C0', label='SF')\n",
    "sc = ax.plot(log_mass_plot, np.log10(Mosleh2013_Q(10**log_mass_plot)), '-', lw=3, color='C3', label='Q')\n",
    "\n",
    "\n",
    "# set axes\n",
    "\n",
    "ax.set_xlabel(r'$\\log\\/\\/\\/\\mathrm{M_{\\star}}\\/\\/\\/[\\mathrm{M_{\\odot}}]$', fontsize=18)\n",
    "ax.set_ylabel(r'$\\log\\/\\/\\/R_{\\rm e}\\/\\/\\/[\\mathrm{kpc}]$', fontsize=18)\n",
    "\n",
    "ax.set_xlim([9.0, 11.5])\n",
    "ax.set_ylim([-0.3, 1.5])\n",
    "\n",
    "ax.legend(frameon=False, fontsize=14)\n",
    "\n",
    "plt.show()"
   ]
  },
  {
   "cell_type": "code",
   "execution_count": 38,
   "metadata": {},
   "outputs": [
    {
     "name": "stdout",
     "output_type": "stream",
     "text": [
      "27\n"
     ]
    }
   ],
   "source": [
    "idx_min = np.abs(np.log10(Mosleh2013_Q(gal.mass[-1]))-np.log10(RM_list)).argmin()\n",
    "\n",
    "print (idx_min)"
   ]
  },
  {
   "cell_type": "code",
   "execution_count": 40,
   "metadata": {},
   "outputs": [
    {
     "name": "stdout",
     "output_type": "stream",
     "text": [
      "2.0\n",
      "0.2\n",
      "-0.3\n",
      "0.2\n"
     ]
    }
   ],
   "source": [
    "print (alpha_list[idx_min])\n",
    "print (beta_list[idx_min])\n",
    "print (gamma_list[idx_min])\n",
    "print (delta_list[idx_min])"
   ]
  },
  {
   "cell_type": "code",
   "execution_count": null,
   "metadata": {},
   "outputs": [],
   "source": []
  }
 ],
 "metadata": {
  "kernelspec": {
   "display_name": "Python 3",
   "language": "python",
   "name": "python3"
  },
  "language_info": {
   "codemirror_mode": {
    "name": "ipython",
    "version": 3
   },
   "file_extension": ".py",
   "mimetype": "text/x-python",
   "name": "python",
   "nbconvert_exporter": "python",
   "pygments_lexer": "ipython3",
   "version": "3.6.5"
  },
  "toc": {
   "nav_menu": {},
   "number_sections": true,
   "sideBar": true,
   "skip_h1_title": false,
   "toc_cell": false,
   "toc_position": {},
   "toc_section_display": "block",
   "toc_window_display": false
  },
  "varInspector": {
   "cols": {
    "lenName": 16,
    "lenType": 16,
    "lenVar": 40
   },
   "kernels_config": {
    "python": {
     "delete_cmd_postfix": "",
     "delete_cmd_prefix": "del ",
     "library": "var_list.py",
     "varRefreshCmd": "print(var_dic_list())"
    },
    "r": {
     "delete_cmd_postfix": ") ",
     "delete_cmd_prefix": "rm(",
     "library": "var_list.r",
     "varRefreshCmd": "cat(var_dic_list()) "
    }
   },
   "types_to_exclude": [
    "module",
    "function",
    "builtin_function_or_method",
    "instance",
    "_Feature"
   ],
   "window_display": false
  }
 },
 "nbformat": 4,
 "nbformat_minor": 2
}
