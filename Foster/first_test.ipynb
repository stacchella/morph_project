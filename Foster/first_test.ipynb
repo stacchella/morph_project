{
 "cells": [
  {
   "cell_type": "markdown",
   "metadata": {},
   "source": [
    "# Modules"
   ]
  },
  {
   "cell_type": "code",
   "execution_count": 1,
   "metadata": {
    "ExecuteTime": {
     "end_time": "2018-11-26T15:43:14.179487Z",
     "start_time": "2018-11-26T15:43:13.233299Z"
    }
   },
   "outputs": [],
   "source": [
    "import toolbox_morph\n",
    "import numpy as np\n",
    "import matplotlib.pyplot as plt\n",
    "from astropy.table import Table\n",
    "\n",
    "\n"
   ]
  },
  {
   "cell_type": "code",
   "execution_count": null,
   "metadata": {
    "ExecuteTime": {
     "end_time": "2018-11-26T16:12:16.382257Z",
     "start_time": "2018-11-26T16:12:16.378227Z"
    }
   },
   "outputs": [],
   "source": []
  },
  {
   "cell_type": "markdown",
   "metadata": {},
   "source": [
    "# Define paths"
   ]
  },
  {
   "cell_type": "code",
   "execution_count": 2,
   "metadata": {
    "ExecuteTime": {
     "end_time": "2018-11-26T15:43:15.080488Z",
     "start_time": "2018-11-26T15:43:15.077162Z"
    }
   },
   "outputs": [],
   "source": [
    "path_main_directory = '/home/wolbach/Desktop/SRMP/morph_project/'\n",
    "path_SFH_table = path_main_directory + 'SFH/'\n"
   ]
  },
  {
   "cell_type": "code",
   "execution_count": null,
   "metadata": {},
   "outputs": [],
   "source": []
  },
  {
   "cell_type": "markdown",
   "metadata": {},
   "source": [
    "# Basic test"
   ]
  },
  {
   "cell_type": "code",
   "execution_count": 3,
   "metadata": {
    "ExecuteTime": {
     "end_time": "2018-11-26T15:43:16.077619Z",
     "start_time": "2018-11-26T15:43:15.844894Z"
    }
   },
   "outputs": [
    {
     "name": "stderr",
     "output_type": "stream",
     "text": [
      "/home/wolbach/Desktop/SRMP/morph_project/morph_tools/toolbox_morph.py:74: RuntimeWarning: divide by zero encountered in true_divide\n",
      "  self.time_boundary = cosmo.age(1.0/self.scale_factor_boundary-1.0).value\n",
      "/home/wolbach/Desktop/SRMP/morph_project/morph_tools/toolbox_morph.py:75: RuntimeWarning: divide by zero encountered in true_divide\n",
      "  self.time_dt = np.diff(cosmo.age(1.0/self.scale_factor_boundary-1.0).value)\n"
     ]
    }
   ],
   "source": [
    "a = [0.1, 0.4, 0.7]\n",
    "SFR = [20.0, 100.0, 5.0]\n",
    "\n",
    "radius_kpc = np.linspace(0.0, 50.0, num=501)\n",
    "\n",
    "galaxy_test = toolbox_morph.galaxy(radius_kpc, a, SFR, [1.0, 0.3, -0.5, 0.2])\n",
    "\n"
   ]
  },
  {
   "cell_type": "code",
   "execution_count": 4,
   "metadata": {
    "ExecuteTime": {
     "end_time": "2018-11-14T21:33:21.524639Z",
     "start_time": "2018-11-14T21:33:21.520122Z"
    }
   },
   "outputs": [
    {
     "data": {
      "text/plain": [
       "dict_keys(['radius', 'scale_factor', 'redshift', 'time', 'scale_factor_boundary', 'time_boundary', 'time_dt', 'SFR', 'mass', 'Rs_params', 'Rs', 'age'])"
      ]
     },
     "execution_count": 4,
     "metadata": {},
     "output_type": "execute_result"
    }
   ],
   "source": [
    "galaxy_test.__dict__.keys()"
   ]
  },
  {
   "cell_type": "code",
   "execution_count": 5,
   "metadata": {
    "ExecuteTime": {
     "end_time": "2018-11-14T21:33:21.864696Z",
     "start_time": "2018-11-14T21:33:21.851536Z"
    },
    "scrolled": false
   },
   "outputs": [
    {
     "data": {
      "text/plain": [
       "{'radius': array([ 0. ,  0.1,  0.2,  0.3,  0.4,  0.5,  0.6,  0.7,  0.8,  0.9,  1. ,\n",
       "         1.1,  1.2,  1.3,  1.4,  1.5,  1.6,  1.7,  1.8,  1.9,  2. ,  2.1,\n",
       "         2.2,  2.3,  2.4,  2.5,  2.6,  2.7,  2.8,  2.9,  3. ,  3.1,  3.2,\n",
       "         3.3,  3.4,  3.5,  3.6,  3.7,  3.8,  3.9,  4. ,  4.1,  4.2,  4.3,\n",
       "         4.4,  4.5,  4.6,  4.7,  4.8,  4.9,  5. ,  5.1,  5.2,  5.3,  5.4,\n",
       "         5.5,  5.6,  5.7,  5.8,  5.9,  6. ,  6.1,  6.2,  6.3,  6.4,  6.5,\n",
       "         6.6,  6.7,  6.8,  6.9,  7. ,  7.1,  7.2,  7.3,  7.4,  7.5,  7.6,\n",
       "         7.7,  7.8,  7.9,  8. ,  8.1,  8.2,  8.3,  8.4,  8.5,  8.6,  8.7,\n",
       "         8.8,  8.9,  9. ,  9.1,  9.2,  9.3,  9.4,  9.5,  9.6,  9.7,  9.8,\n",
       "         9.9, 10. , 10.1, 10.2, 10.3, 10.4, 10.5, 10.6, 10.7, 10.8, 10.9,\n",
       "        11. , 11.1, 11.2, 11.3, 11.4, 11.5, 11.6, 11.7, 11.8, 11.9, 12. ,\n",
       "        12.1, 12.2, 12.3, 12.4, 12.5, 12.6, 12.7, 12.8, 12.9, 13. , 13.1,\n",
       "        13.2, 13.3, 13.4, 13.5, 13.6, 13.7, 13.8, 13.9, 14. , 14.1, 14.2,\n",
       "        14.3, 14.4, 14.5, 14.6, 14.7, 14.8, 14.9, 15. , 15.1, 15.2, 15.3,\n",
       "        15.4, 15.5, 15.6, 15.7, 15.8, 15.9, 16. , 16.1, 16.2, 16.3, 16.4,\n",
       "        16.5, 16.6, 16.7, 16.8, 16.9, 17. , 17.1, 17.2, 17.3, 17.4, 17.5,\n",
       "        17.6, 17.7, 17.8, 17.9, 18. , 18.1, 18.2, 18.3, 18.4, 18.5, 18.6,\n",
       "        18.7, 18.8, 18.9, 19. , 19.1, 19.2, 19.3, 19.4, 19.5, 19.6, 19.7,\n",
       "        19.8, 19.9, 20. , 20.1, 20.2, 20.3, 20.4, 20.5, 20.6, 20.7, 20.8,\n",
       "        20.9, 21. , 21.1, 21.2, 21.3, 21.4, 21.5, 21.6, 21.7, 21.8, 21.9,\n",
       "        22. , 22.1, 22.2, 22.3, 22.4, 22.5, 22.6, 22.7, 22.8, 22.9, 23. ,\n",
       "        23.1, 23.2, 23.3, 23.4, 23.5, 23.6, 23.7, 23.8, 23.9, 24. , 24.1,\n",
       "        24.2, 24.3, 24.4, 24.5, 24.6, 24.7, 24.8, 24.9, 25. , 25.1, 25.2,\n",
       "        25.3, 25.4, 25.5, 25.6, 25.7, 25.8, 25.9, 26. , 26.1, 26.2, 26.3,\n",
       "        26.4, 26.5, 26.6, 26.7, 26.8, 26.9, 27. , 27.1, 27.2, 27.3, 27.4,\n",
       "        27.5, 27.6, 27.7, 27.8, 27.9, 28. , 28.1, 28.2, 28.3, 28.4, 28.5,\n",
       "        28.6, 28.7, 28.8, 28.9, 29. , 29.1, 29.2, 29.3, 29.4, 29.5, 29.6,\n",
       "        29.7, 29.8, 29.9, 30. , 30.1, 30.2, 30.3, 30.4, 30.5, 30.6, 30.7,\n",
       "        30.8, 30.9, 31. , 31.1, 31.2, 31.3, 31.4, 31.5, 31.6, 31.7, 31.8,\n",
       "        31.9, 32. , 32.1, 32.2, 32.3, 32.4, 32.5, 32.6, 32.7, 32.8, 32.9,\n",
       "        33. , 33.1, 33.2, 33.3, 33.4, 33.5, 33.6, 33.7, 33.8, 33.9, 34. ,\n",
       "        34.1, 34.2, 34.3, 34.4, 34.5, 34.6, 34.7, 34.8, 34.9, 35. , 35.1,\n",
       "        35.2, 35.3, 35.4, 35.5, 35.6, 35.7, 35.8, 35.9, 36. , 36.1, 36.2,\n",
       "        36.3, 36.4, 36.5, 36.6, 36.7, 36.8, 36.9, 37. , 37.1, 37.2, 37.3,\n",
       "        37.4, 37.5, 37.6, 37.7, 37.8, 37.9, 38. , 38.1, 38.2, 38.3, 38.4,\n",
       "        38.5, 38.6, 38.7, 38.8, 38.9, 39. , 39.1, 39.2, 39.3, 39.4, 39.5,\n",
       "        39.6, 39.7, 39.8, 39.9, 40. , 40.1, 40.2, 40.3, 40.4, 40.5, 40.6,\n",
       "        40.7, 40.8, 40.9, 41. , 41.1, 41.2, 41.3, 41.4, 41.5, 41.6, 41.7,\n",
       "        41.8, 41.9, 42. , 42.1, 42.2, 42.3, 42.4, 42.5, 42.6, 42.7, 42.8,\n",
       "        42.9, 43. , 43.1, 43.2, 43.3, 43.4, 43.5, 43.6, 43.7, 43.8, 43.9,\n",
       "        44. , 44.1, 44.2, 44.3, 44.4, 44.5, 44.6, 44.7, 44.8, 44.9, 45. ,\n",
       "        45.1, 45.2, 45.3, 45.4, 45.5, 45.6, 45.7, 45.8, 45.9, 46. , 46.1,\n",
       "        46.2, 46.3, 46.4, 46.5, 46.6, 46.7, 46.8, 46.9, 47. , 47.1, 47.2,\n",
       "        47.3, 47.4, 47.5, 47.6, 47.7, 47.8, 47.9, 48. , 48.1, 48.2, 48.3,\n",
       "        48.4, 48.5, 48.6, 48.7, 48.8, 48.9, 49. , 49.1, 49.2, 49.3, 49.4,\n",
       "        49.5, 49.6, 49.7, 49.8, 49.9, 50. ]),\n",
       " 'scale_factor': array([0.1, 0.4, 0.7]),\n",
       " 'redshift': array([9.        , 1.5       , 0.42857143]),\n",
       " 'time': array([0.54526208, 4.27775734, 9.15045508]),\n",
       " 'scale_factor_boundary': array([0.  , 0.25, 0.55, 0.85]),\n",
       " 'time_boundary': array([ 0.        ,  2.14856952,  6.67989556, 11.54766093]),\n",
       " 'time_dt': array([2.14856952, 4.53132604, 4.86776537]),\n",
       " 'SFR': array([ 20., 100.,   5.]),\n",
       " 'mass': array([4.29713904e+10, 4.96103994e+11, 5.20442821e+11]),\n",
       " 'Rs_params': array([ 1. ,  0.3, -0.5,  0.2]),\n",
       " 'Rs': array([ 1.13770201,  2.72926798, 11.33949745]),\n",
       " 'age': array([ 2.43388269,  7.13342839, 10.47337617])}"
      ]
     },
     "execution_count": 5,
     "metadata": {},
     "output_type": "execute_result"
    }
   ],
   "source": [
    "galaxy_test.__dict__"
   ]
  },
  {
   "cell_type": "code",
   "execution_count": 6,
   "metadata": {},
   "outputs": [
    {
     "data": {
      "text/plain": [
       "array([1.91110093, 4.26798957, 4.44254321])"
      ]
     },
     "execution_count": 6,
     "metadata": {},
     "output_type": "execute_result"
    }
   ],
   "source": [
    "galaxy_test.get_size()"
   ]
  },
  {
   "cell_type": "code",
   "execution_count": 7,
   "metadata": {},
   "outputs": [
    {
     "data": {
      "text/plain": [
       "array([8.30082885, 8.26155865, 8.2229021 , 8.18489292, 8.14756195,\n",
       "       8.11093712, 8.0750434 , 8.0399028 , 8.0055344 , 7.97195436,\n",
       "       7.93917603, 7.90720996, 7.87606402, 7.84574352, 7.81625126,\n",
       "       7.78758772, 7.75975116, 7.73273774, 7.70654168, 7.68115538,\n",
       "       7.65656959, 7.63277353, 7.60975504, 7.5875007 , 7.56599598,\n",
       "       7.54522537, 7.52517251, 7.50582029, 7.48715096, 7.46914628,\n",
       "       7.45178756, 7.43505581, 7.41893177, 7.40339606, 7.3884292 ,\n",
       "       7.37401167, 7.36012405, 7.34674698, 7.33386126, 7.3214479 ,\n",
       "       7.30948815, 7.2979635 , 7.28685578, 7.27614711, 7.26582   ,\n",
       "       7.25585729, 7.24624222, 7.23695841, 7.22798989, 7.21932111,\n",
       "       7.21093689, 7.20282251, 7.19496362, 7.1873463 , 7.17995703,\n",
       "       7.1727827 , 7.16581058, 7.15902834, 7.152424  , 7.14598598,\n",
       "       7.13970306, 7.13356435, 7.12755931, 7.12167773, 7.11590971,\n",
       "       7.11024567, 7.10467631, 7.09919263, 7.0937859 , 7.08844764,\n",
       "       7.08316962, 7.07794386, 7.07276261, 7.06761833, 7.06250368,\n",
       "       7.05741154, 7.05233495, 7.04726714, 7.0422015 , 7.0371316 ,\n",
       "       7.03205112, 7.02695391, 7.02183395, 7.01668532, 7.01150224,\n",
       "       7.00627902, 7.00101008, 6.99568993, 6.99031316, 6.98487446,\n",
       "       6.97936857, 6.97379029, 6.96813452, 6.96239618, 6.95657026,\n",
       "       6.95065178, 6.94463582, 6.93851748, 6.9322919 , 6.92595425,\n",
       "       6.91949973, 6.91292354, 6.90622093, 6.89938714, 6.89241743,\n",
       "       6.88530708, 6.87805137, 6.87064558, 6.86308501, 6.85536495,\n",
       "       6.8474807 , 6.83942756, 6.83120083, 6.8227958 , 6.81420778,\n",
       "       6.80543207, 6.79646395, 6.78729874, 6.77793174, 6.76835823,\n",
       "       6.75857354, 6.74857297, 6.73835185, 6.72790549, 6.71722925,\n",
       "       6.70631846, 6.69516851, 6.68377479, 6.6721327 , 6.66023769,\n",
       "       6.64808524, 6.63567085, 6.62299006, 6.61003848, 6.59681175,\n",
       "       6.58330556, 6.56951567, 6.55543792, 6.54106819, 6.52640248,\n",
       "       6.51143684, 6.49616743, 6.48059051, 6.46470244, 6.44849972,\n",
       "       6.43197893, 6.41513682, 6.39797027, 6.38047629, 6.36265206,\n",
       "       6.34449493, 6.32600241, 6.30717222, 6.28800223, 6.26849054,\n",
       "       6.24863547, 6.22843552, 6.20788946, 6.18699627, 6.16575519,\n",
       "       6.14416571, 6.12222759, 6.09994085, 6.0773058 , 6.05432306,\n",
       "       6.0309935 , 6.00731834, 5.9832991 , 5.9589376 , 5.93423601,\n",
       "       5.90919682, 5.88382286, 5.85811731, 5.83208369, 5.80572587,\n",
       "       5.77904807, 5.75205489, 5.72475126, 5.69714248, 5.66923423,\n",
       "       5.64103252, 5.61254375, 5.58377465, 5.55473232, 5.5254242 ,\n",
       "       5.49585809, 5.46604213, 5.43598478, 5.40569484, 5.37518144,\n",
       "       5.34445399, 5.31352222, 5.28239616, 5.25108611, 5.21960262,\n",
       "       5.18795652, 5.15615886, 5.12422093, 5.09215422, 5.05997042,\n",
       "       5.02768138, 4.99529914, 4.96283586, 4.93030383, 4.89771545,\n",
       "       4.8650832 , 4.83241964, 4.79973736, 4.76704901, 4.73436721,\n",
       "       4.70170461, 4.66907379, 4.63648733, 4.6039577 , 4.5714973 ,\n",
       "       4.53911842, 4.50683324, 4.47465378, 4.4425919 , 4.4106593 ,\n",
       "       4.37886747, 4.3472277 , 4.31575105, 4.28444834, 4.25333015,\n",
       "       4.22240677, 4.19168824, 4.16118428, 4.13090435, 4.10085756,\n",
       "       4.07105271, 4.0414983 , 4.01220247, 3.98317302, 3.95441741,\n",
       "       3.92594276, 3.89775582, 3.86986299, 3.84227033, 3.8149835 ,\n",
       "       3.78800784, 3.76134832, 3.73500954, 3.70899576, 3.68331087,\n",
       "       3.65795844, 3.63294166, 3.6082634 , 3.5839262 , 3.55993224,\n",
       "       3.53628342, 3.51298129, 3.49002711, 3.46742181, 3.44516606,\n",
       "       3.42326022, 3.40170438, 3.38049836, 3.35964173, 3.33913379,\n",
       "       3.3189736 , 3.29916   , 3.2796916 , 3.2605668 , 3.24178378,\n",
       "       3.22334053, 3.20523487, 3.18746442, 3.17002665, 3.15291886,\n",
       "       3.13613821, 3.11968171, 3.10354624, 3.08772857, 3.07222533,\n",
       "       3.05703307, 3.04214823, 3.02756715, 3.01328611, 2.99930128,\n",
       "       2.98560881, 2.97220474, 2.95908508, 2.94624581, 2.93368282,\n",
       "       2.92139201, 2.90936924, 2.89761031, 2.88611106, 2.87486728,\n",
       "       2.86387474, 2.85312925, 2.84262658, 2.83236252, 2.82233287,\n",
       "       2.81253344, 2.80296005, 2.79360856, 2.78447483, 2.77555475,\n",
       "       2.76684425, 2.75833928, 2.75003583, 2.74192992, 2.7340176 ,\n",
       "       2.72629499, 2.71875821, 2.71140346, 2.70422696, 2.69722499,\n",
       "       2.69039387, 2.68372997, 2.67722971, 2.67088955, 2.66470603,\n",
       "       2.65867571, 2.65279521, 2.64706122, 2.64147046, 2.63601972,\n",
       "       2.63070583, 2.62552568, 2.62047621, 2.61555443, 2.61075738,\n",
       "       2.60608217, 2.60152596, 2.59708596, 2.59275942, 2.58854367,\n",
       "       2.58443608, 2.58043406, 2.57653508, 2.57273667, 2.56903641,\n",
       "       2.56543191, 2.56192084, 2.55850092, 2.55516993, 2.55192568,\n",
       "       2.54876603, 2.54568889, 2.54269221, 2.539774  , 2.53693229,\n",
       "       2.53416519, 2.5314708 , 2.52884732, 2.52629294, 2.52380594,\n",
       "       2.52138459, 2.51902724, 2.51673225, 2.51449805, 2.51232307,\n",
       "       2.5102058 , 2.50814476, 2.50613851, 2.50418563, 2.50228476,\n",
       "       2.50043454, 2.49863367, 2.49688087, 2.49517489, 2.49351451,\n",
       "       2.49189855, 2.49032585, 2.48879528, 2.48730573, 2.48585613,\n",
       "       2.48444545, 2.48307264, 2.48173673, 2.48043673, 2.4791717 ,\n",
       "       2.47794073, 2.4767429 , 2.47557735, 2.47444322, 2.47333968,\n",
       "       2.47226591, 2.47122113, 2.47020457, 2.46921547, 2.46825311,\n",
       "       2.46731678, 2.46640577, 2.46551942, 2.46465707, 2.46381807,\n",
       "       2.4630018 , 2.46220765, 2.46143504, 2.46068338, 2.45995211,\n",
       "       2.45924068, 2.45854857, 2.45787525, 2.45722022, 2.45658298,\n",
       "       2.45596307, 2.45536   , 2.45477333, 2.45420262, 2.45364743,\n",
       "       2.45310735, 2.45258197, 2.45207089, 2.45157373, 2.4510901 ,\n",
       "       2.45061965, 2.45016202, 2.44971686, 2.44928383, 2.4488626 ,\n",
       "       2.44845286, 2.4480543 , 2.4476666 , 2.44728948, 2.44692265,\n",
       "       2.44656583, 2.44621875, 2.44588114, 2.44555275, 2.44523332,\n",
       "       2.44492262, 2.4446204 , 2.44432644, 2.4440405 , 2.44376238,\n",
       "       2.44349186, 2.44322873, 2.44297279, 2.44272385, 2.44248171,\n",
       "       2.4422462 , 2.44201712, 2.4417943 , 2.44157758, 2.44136679,\n",
       "       2.44116176, 2.44096234, 2.44076838, 2.44057972, 2.44039622,\n",
       "       2.44021775, 2.44004415, 2.43987531, 2.43971109, 2.43955137,\n",
       "       2.43939602, 2.43924492, 2.43909795, 2.43895501, 2.43881598,\n",
       "       2.43868076, 2.43854925, 2.43842133, 2.43829692, 2.43817591,\n",
       "       2.43805822, 2.43794375, 2.43783242, 2.43772414, 2.43761882,\n",
       "       2.43751639, 2.43741676, 2.43731987, 2.43722563, 2.43713397,\n",
       "       2.43704482, 2.43695811, 2.43687379, 2.43679177, 2.436712  ,\n",
       "       2.43663441, 2.43655896, 2.43648557, 2.43641419, 2.43634476,\n",
       "       2.43627725, 2.43621158, 2.43614771, 2.43608559, 2.43602518,\n",
       "       2.43596642, 2.43590927, 2.43585369, 2.43579963, 2.43574705,\n",
       "       2.43569592, 2.43564619, 2.43559782, 2.43555078, 2.43550502,\n",
       "       2.43546053, 2.43541725, 2.43537516, 2.43533422, 2.4352944 ,\n",
       "       2.43525568])"
      ]
     },
     "execution_count": 7,
     "metadata": {},
     "output_type": "execute_result"
    }
   ],
   "source": [
    "galaxy_test.get_age_profile ()"
   ]
  },
  {
   "cell_type": "code",
   "execution_count": 8,
   "metadata": {},
   "outputs": [
    {
     "ename": "TypeError",
     "evalue": "'numpy.ndarray' object is not callable",
     "output_type": "error",
     "traceback": [
      "\u001b[0;31m---------------------------------------------------------------------------\u001b[0m",
      "\u001b[0;31mTypeError\u001b[0m                                 Traceback (most recent call last)",
      "\u001b[0;32m<ipython-input-8-8a7decbcd2f1>\u001b[0m in \u001b[0;36m<module>\u001b[0;34m()\u001b[0m\n\u001b[0;32m----> 1\u001b[0;31m \u001b[0mgalaxy_test\u001b[0m\u001b[0;34m.\u001b[0m\u001b[0mscale_factor\u001b[0m \u001b[0;34m(\u001b[0m\u001b[0;34m)\u001b[0m\u001b[0;34m\u001b[0m\u001b[0m\n\u001b[0m",
      "\u001b[0;31mTypeError\u001b[0m: 'numpy.ndarray' object is not callable"
     ]
    }
   ],
   "source": [
    "galaxy_test.scale_factor ()"
   ]
  },
  {
   "cell_type": "markdown",
   "metadata": {},
   "source": [
    "# Test with SFH"
   ]
  },
  {
   "cell_type": "markdown",
   "metadata": {},
   "source": [
    "## Read in table"
   ]
  },
  {
   "cell_type": "code",
   "execution_count": 9,
   "metadata": {
    "ExecuteTime": {
     "end_time": "2018-11-26T16:44:23.009008Z",
     "start_time": "2018-11-26T16:44:22.976764Z"
    }
   },
   "outputs": [],
   "source": [
    "SFH_table = Table.read(path_SFH_table + 'sfh_sm10.50_a1.002310.dat', format='ascii', names=('scale_factor', 'SFH_all', 'SFH_all_up', 'SFH_all_dw', 'SFH_SF', 'SFH_SF_up', 'SFH_SF_dw', 'SFH_Q', 'SFH_Q_up', 'SFH_Q_dw', 'SFH_Cen', 'SFH_Cen_up', 'SFH_Cen_dw', 'SFH_Sat', 'SFH_Sat_up', 'SFH_Sat_dw', 'scale_factor_begin', 'scale_factor_end')) \n"
   ]
  },
  {
   "cell_type": "code",
   "execution_count": 10,
   "metadata": {
    "ExecuteTime": {
     "end_time": "2018-11-26T17:10:10.800529Z",
     "start_time": "2018-11-26T17:10:10.793463Z"
    }
   },
   "outputs": [
    {
     "name": "stdout",
     "output_type": "stream",
     "text": [
      "scale_factor   SFH_all    SFH_all_up  ... scale_factor_begin scale_factor_end\n",
      "------------ ----------- ------------ ... ------------------ ----------------\n",
      "    0.028936 7.57188e-05 -3.50351e-05 ...                0.0         0.057873\n",
      "    0.059561  0.00112787  8.33206e-05 ...           0.057873         0.061248\n",
      "    0.062373  0.00364916  0.000763607 ...           0.061248         0.063498\n",
      "    0.064623  0.00479807   0.00179845 ...           0.063498         0.065748\n",
      "    0.066873  0.00825626   0.00246062 ...           0.065748         0.067998\n",
      "    0.069123    0.011718   0.00284543 ...           0.067998         0.070248\n",
      "    0.071373   0.0142628   0.00683206 ...           0.070248         0.072498\n",
      "    0.073623   0.0209673    0.0091823 ...           0.072498         0.074748\n",
      "    0.075873   0.0296027    0.0124159 ...           0.074748         0.076998\n",
      "    0.078123   0.0407726    0.0155405 ...           0.076998         0.079248\n",
      "         ...         ...          ... ...                ...              ...\n",
      "    0.926373    0.821078      0.37057 ...           0.922576          0.93017\n",
      "    0.933967    0.797693     0.349379 ...            0.93017         0.937763\n",
      "     0.94156    0.769389     0.326947 ...           0.937763         0.945357\n",
      "    0.949154    0.744505     0.315384 ...           0.945357         0.952951\n",
      "    0.956748    0.726237     0.319031 ...           0.952951         0.960545\n",
      "    0.964342    0.704849     0.308941 ...           0.960545         0.968138\n",
      "    0.971935    0.681664     0.298943 ...           0.968138         0.975732\n",
      "    0.979529    0.664115     0.292557 ...           0.975732         0.983326\n",
      "    0.987123    0.641895     0.289016 ...           0.983326          0.99092\n",
      "    0.994717    0.622458     0.278378 ...            0.99092         0.998514\n",
      "    1.000412    0.600031     0.256596 ...           0.998514          1.00231\n",
      "Length = 178 rows\n"
     ]
    }
   ],
   "source": [
    "print(SFH_table)"
   ]
  },
  {
   "cell_type": "code",
   "execution_count": null,
   "metadata": {},
   "outputs": [],
   "source": []
  },
  {
   "cell_type": "markdown",
   "metadata": {},
   "source": [
    "# Look at galaxy"
   ]
  },
  {
   "cell_type": "code",
   "execution_count": 11,
   "metadata": {
    "ExecuteTime": {
     "end_time": "2018-11-26T16:44:26.165048Z",
     "start_time": "2018-11-26T16:44:25.814543Z"
    }
   },
   "outputs": [
    {
     "name": "stderr",
     "output_type": "stream",
     "text": [
      "/home/wolbach/Desktop/SRMP/morph_project/morph_tools/toolbox_morph.py:74: RuntimeWarning: divide by zero encountered in true_divide\n",
      "  self.time_boundary = cosmo.age(1.0/self.scale_factor_boundary-1.0).value\n",
      "/home/wolbach/Desktop/SRMP/morph_project/morph_tools/toolbox_morph.py:75: RuntimeWarning: divide by zero encountered in true_divide\n",
      "  self.time_dt = np.diff(cosmo.age(1.0/self.scale_factor_boundary-1.0).value)\n"
     ]
    }
   ],
   "source": [
    "galaxy_1 = toolbox_morph.galaxy(radius_kpc, SFH_table['scale_factor'], SFH_table['SFH_all'], [5.0, 0.3, -0.5, 0.2])\n",
    "galaxy_2 = toolbox_morph.galaxy(radius_kpc, SFH_table['scale_factor'], SFH_table['SFH_Q'], [5.0, 0.3, -0.5, 0.2])\n",
    "galaxy_3 = toolbox_morph.galaxy(radius_kpc, SFH_table['scale_factor'], SFH_table['SFH_SF'], [5.0, 0.3, -0.5, 0.2])\n"
   ]
  },
  {
   "cell_type": "code",
   "execution_count": 12,
   "metadata": {
    "ExecuteTime": {
     "end_time": "2018-11-26T17:10:21.498747Z",
     "start_time": "2018-11-26T17:10:21.492689Z"
    }
   },
   "outputs": [
    {
     "name": "stdout",
     "output_type": "stream",
     "text": [
      "[ 3.35590268e+01  1.57895099e+01  1.50325782e+01  1.44743667e+01\n",
      "  1.39537182e+01  1.34669647e+01  1.30109005e+01  1.25827119e+01\n",
      "  1.21799191e+01  1.18003277e+01  1.14419892e+01  1.10621442e+01\n",
      "  1.06281774e+01  1.01890616e+01  9.78190365e+00  9.40333739e+00\n",
      "  9.05045328e+00  8.72072361e+00  8.41194187e+00  8.12217327e+00\n",
      "  7.84971415e+00  7.59305853e+00  7.35087016e+00  7.12195934e+00\n",
      "  6.90526332e+00  6.69982983e+00  6.50480307e+00  6.29687329e+00\n",
      "  6.05791015e+00  5.81440292e+00  5.58718135e+00  5.37458326e+00\n",
      "  5.17531726e+00  4.98809567e+00  4.81192607e+00  4.64579417e+00\n",
      "  4.48892609e+00  4.34051098e+00  4.19993760e+00  4.06654912e+00\n",
      "  3.93985724e+00  3.81932356e+00  3.70455401e+00  3.59510254e+00\n",
      "  3.49064823e+00  3.39081792e+00  3.29534814e+00  3.20392394e+00\n",
      "  3.11632741e+00  3.03229058e+00  2.95163202e+00  2.87412203e+00\n",
      "  2.79960864e+00  2.72789359e+00  2.65884893e+00  2.59230241e+00\n",
      "  2.52814578e+00  2.46622854e+00  2.40645865e+00  2.34870388e+00\n",
      "  2.29288572e+00  2.23888738e+00  2.18664160e+00  2.13604476e+00\n",
      "  2.08703907e+00  2.03954139e+00  1.99347423e+00  1.94879129e+00\n",
      "  1.90541424e+00  1.86330305e+00  1.82238718e+00  1.78263192e+00\n",
      "  1.74397355e+00  1.70638192e+00  1.66979923e+00  1.63419928e+00\n",
      "  1.59952949e+00  1.56576702e+00  1.53286391e+00  1.50080026e+00\n",
      "  1.46953215e+00  1.43904224e+00  1.40929022e+00  1.38026097e+00\n",
      "  1.35191740e+00  1.32424631e+00  1.29721348e+00  1.27080741e+00\n",
      "  1.24499646e+00  1.21977061e+00  1.19510054e+00  1.17097750e+00\n",
      "  1.14737430e+00  1.12428332e+00  1.10167924e+00  1.07955547e+00\n",
      "  1.05788840e+00  1.03667232e+00  1.01588518e+00  9.95522049e-01\n",
      "  9.75562294e-01  9.56001698e-01  9.36820902e-01  9.18016311e-01\n",
      "  8.99569747e-01  8.81478165e-01  8.63724467e-01  8.46306095e-01\n",
      "  8.29206947e-01  8.12424898e-01  7.95944757e-01  7.79764786e-01\n",
      "  7.63870638e-01  7.48260917e-01  7.32922053e-01  7.17850008e-01\n",
      "  7.03040779e-01  6.88481852e-01  6.74172540e-01  6.60100967e-01\n",
      "  6.46266679e-01  6.32658392e-01  6.19275860e-01  6.06108351e-01\n",
      "  5.93155803e-01  5.80407998e-01  5.67865038e-01  5.55517186e-01\n",
      "  5.43364689e-01  5.31398258e-01  5.19618272e-01  5.08015858e-01\n",
      "  4.96591513e-01  4.85336756e-01  4.74252186e-01  4.61975480e-01\n",
      "  4.47247119e-01  4.31516262e-01  4.16121696e-01  4.01054714e-01\n",
      "  3.86304970e-01  3.71864432e-01  3.57719791e-01  3.43863850e-01\n",
      "  3.30287861e-01  3.16985158e-01  3.03944170e-01  2.91158918e-01\n",
      "  2.78621952e-01  2.66327713e-01  2.54266072e-01  2.42432036e-01\n",
      "  2.30819221e-01  2.19422969e-01  2.08234359e-01  1.97249200e-01\n",
      "  1.86461994e-01  1.75868820e-01  1.65461773e-01  1.55237326e-01\n",
      "  1.45190714e-01  1.35318627e-01  1.25614022e-01  1.16073920e-01\n",
      "  1.06694172e-01  9.74719733e-02  8.84010192e-02  7.94787845e-02\n",
      "  7.07016415e-02  6.20672076e-02  5.35698106e-02  4.52073064e-02\n",
      "  3.69765083e-02  2.88753878e-02  2.08988197e-02  1.30449802e-02\n",
      "  5.31105832e-03 -4.11830326e-04]\n"
     ]
    }
   ],
   "source": [
    "print(galaxy_1.redshift)\n"
   ]
  },
  {
   "cell_type": "code",
   "execution_count": 13,
   "metadata": {
    "ExecuteTime": {
     "end_time": "2018-11-26T17:10:44.069664Z",
     "start_time": "2018-11-26T17:10:37.129622Z"
    }
   },
   "outputs": [
    {
     "name": "stdout",
     "output_type": "stream",
     "text": [
      "[0.10191967 0.10760438 0.10650073 0.10597234 0.10571225 0.10655973\n",
      " 0.10883106 0.11147612 0.11479671 0.1188477  0.12440876 0.13231321\n",
      " 0.14137291 0.15162457 0.16251271 0.17406512 0.18628616 0.19920033\n",
      " 0.21808563 0.23633311 0.25400809 0.27139226 0.28870279 0.30775998\n",
      " 0.3293443  0.35021746 0.37209615 0.39790189 0.43283141 0.46839975\n",
      " 0.50347267 0.54233508 0.57983661 0.618577   0.65861359 0.69755339\n",
      " 0.73941548 0.7803984  0.82248079 0.86526659 0.907888   0.95245742\n",
      " 0.99610054 1.04182717 1.08687037 1.13328739 1.17971597 1.22692392\n",
      " 1.27447953 1.32242557 1.37096223 1.41971901 1.46923594 1.51890274\n",
      " 1.5693345  1.61993911 1.67122268 1.72276451 1.77484131 1.82733641\n",
      " 1.88009242 1.93342558 1.9868599  2.04112542 2.09520707 2.15039731\n",
      " 2.20532196 2.26127671 2.31716174 2.37364317 2.43042227 2.48740187\n",
      " 2.54509433 2.60264058 2.66112585 2.71957715 2.77848939 2.83781511\n",
      " 2.89712908 2.95728808 3.01738278 3.07792905 3.13880306 3.19962415\n",
      " 3.26124111 3.32279612 3.38461478 3.44684212 3.50897229 3.57157731\n",
      " 3.63424593 3.69686843 3.75999713 3.82298462 3.88606227 3.94936046\n",
      " 4.01244422 4.07569994 4.13884784 4.20166503 4.26473827 4.32743589\n",
      " 4.3898097  4.4521118  4.51385407 4.57540226 4.6365271  4.69711526\n",
      " 4.75754235 4.81719069 4.87642778 4.93508536 4.99294893 5.05044977\n",
      " 5.10697157 5.16292475 5.21789597 5.27209893 5.32530775 5.37758587\n",
      " 5.42887131 5.47901414 5.52818202 5.57582978 5.62201494 5.66679994\n",
      " 5.71001718 5.75201389 5.79230234 5.83138817 5.86905242 5.90517187\n",
      " 5.94018685 5.97367411 6.0078936  6.04673368 6.08891053 6.13050478\n",
      " 6.16935233 6.20594164 6.2406296  6.27311011 6.30364594 6.33252193\n",
      " 6.35968369 6.38524082 6.40952975 6.43268203 6.45450344 6.47525596\n",
      " 6.49482907 6.51349139 6.53124925 6.54810472 6.56414921 6.57936527\n",
      " 6.59386128 6.60772421 6.62098793 6.63359567 6.64555326 6.65695114\n",
      " 6.66781886 6.67818521 6.68806927 6.69745756 6.70652915 6.71517448\n",
      " 6.72345726 6.7313147  6.73879981 6.74600653 6.75289594 6.75944893\n",
      " 6.76574474 6.77172556 6.77672029 6.78077276]\n"
     ]
    }
   ],
   "source": [
    "print(galaxy_1.get_size())\n",
    "\n",
    "\n"
   ]
  },
  {
   "cell_type": "code",
   "execution_count": 14,
   "metadata": {
    "ExecuteTime": {
     "end_time": "2018-11-26T17:10:44.091447Z",
     "start_time": "2018-11-26T17:10:44.084750Z"
    }
   },
   "outputs": [
    {
     "data": {
      "text/plain": [
       "array([1.21007968e+04, 1.24008182e+05, 1.83705032e+05, 2.54813648e+05,\n",
       "       3.79289938e+05, 5.58910264e+05, 7.81073651e+05, 1.11278271e+06,\n",
       "       1.58821406e+06, 2.25268052e+06, 3.11170619e+06, 4.17231384e+06,\n",
       "       6.07043681e+06, 8.64898588e+06, 1.18963362e+07, 1.58542439e+07,\n",
       "       2.05937764e+07, 2.62015413e+07, 3.28506173e+07, 4.06961871e+07,\n",
       "       4.97006237e+07, 5.97284643e+07, 7.11241815e+07, 8.37065255e+07,\n",
       "       9.77649728e+07, 1.13283018e+08, 1.31801552e+08, 1.55459480e+08,\n",
       "       1.86041210e+08, 2.22541603e+08, 2.63477418e+08, 3.09667632e+08,\n",
       "       3.60468619e+08, 4.16338780e+08, 4.77597993e+08, 5.43528598e+08,\n",
       "       6.14882574e+08, 6.92090490e+08, 7.75513290e+08, 8.64621897e+08,\n",
       "       9.61938007e+08, 1.06685056e+09, 1.17858131e+09, 1.29761478e+09,\n",
       "       1.42316468e+09, 1.55749113e+09, 1.70058705e+09, 1.85105038e+09,\n",
       "       2.00912034e+09, 2.17383812e+09, 2.34679611e+09, 2.52770349e+09,\n",
       "       2.71888405e+09, 2.91892760e+09, 3.12985349e+09, 3.35062658e+09,\n",
       "       3.58270419e+09, 3.82520292e+09, 4.07976752e+09, 4.34603326e+09,\n",
       "       4.62125014e+09, 4.90735806e+09, 5.20685776e+09, 5.51957729e+09,\n",
       "       5.84553201e+09, 6.18704011e+09, 6.54500144e+09, 6.91904897e+09,\n",
       "       7.30838801e+09, 7.71187144e+09, 8.12895212e+09, 8.56342315e+09,\n",
       "       9.01572885e+09, 9.48500373e+09, 9.96953914e+09, 1.04752195e+10,\n",
       "       1.09973550e+10, 1.15394472e+10, 1.20986553e+10, 1.26750695e+10,\n",
       "       1.32712815e+10, 1.38817755e+10, 1.45077158e+10, 1.51509822e+10,\n",
       "       1.58112461e+10, 1.64886730e+10, 1.71812420e+10, 1.78894585e+10,\n",
       "       1.86093023e+10, 1.93403567e+10, 2.00830803e+10, 2.08389086e+10,\n",
       "       2.16034209e+10, 2.23790716e+10, 2.31632262e+10, 2.39540242e+10,\n",
       "       2.47514341e+10, 2.55521477e+10, 2.63528663e+10, 2.71545811e+10,\n",
       "       2.79566698e+10, 2.87570704e+10, 2.95517952e+10, 3.03403003e+10,\n",
       "       3.11220381e+10, 3.18964134e+10, 3.26619643e+10, 3.34218865e+10,\n",
       "       3.41709468e+10, 3.49083924e+10, 3.56351603e+10, 3.63495957e+10,\n",
       "       3.70506899e+10, 3.77393623e+10, 3.84136672e+10, 3.90710476e+10,\n",
       "       3.97128950e+10, 4.03379383e+10, 4.09450537e+10, 4.15352229e+10,\n",
       "       4.21070048e+10, 4.26596983e+10, 4.31951764e+10, 4.37058706e+10,\n",
       "       4.41931499e+10, 4.46583964e+10, 4.51024796e+10, 4.55265307e+10,\n",
       "       4.59304443e+10, 4.63156963e+10, 4.66841741e+10, 4.70349746e+10,\n",
       "       4.73697479e+10, 4.76886628e+10, 4.80127147e+10, 4.83760166e+10,\n",
       "       4.87697598e+10, 4.91538144e+10, 4.95111345e+10, 4.98475233e+10,\n",
       "       5.01637234e+10, 5.04608291e+10, 5.07409286e+10, 5.10041534e+10,\n",
       "       5.12532177e+10, 5.14891026e+10, 5.17136530e+10, 5.19275422e+10,\n",
       "       5.21307611e+10, 5.23254772e+10, 5.25107576e+10, 5.26873620e+10,\n",
       "       5.28563027e+10, 5.30181218e+10, 5.31735345e+10, 5.33223718e+10,\n",
       "       5.34654814e+10, 5.36027382e+10, 5.37346207e+10, 5.38612876e+10,\n",
       "       5.39827569e+10, 5.40997296e+10, 5.42124211e+10, 5.43210385e+10,\n",
       "       5.44257118e+10, 5.45263092e+10, 5.46235865e+10, 5.47170883e+10,\n",
       "       5.48075775e+10, 5.48945227e+10, 5.49783370e+10, 5.50597768e+10,\n",
       "       5.51385032e+10, 5.52143391e+10, 5.52879334e+10, 5.53587802e+10,\n",
       "       5.54186643e+10, 5.54679786e+10])"
      ]
     },
     "execution_count": 14,
     "metadata": {},
     "output_type": "execute_result"
    }
   ],
   "source": [
    "galaxy_1.mass"
   ]
  },
  {
   "cell_type": "code",
   "execution_count": null,
   "metadata": {},
   "outputs": [],
   "source": []
  },
  {
   "cell_type": "markdown",
   "metadata": {},
   "source": [
    "# Observations"
   ]
  },
  {
   "cell_type": "code",
   "execution_count": 15,
   "metadata": {
    "ExecuteTime": {
     "end_time": "2018-11-26T21:34:17.047850Z",
     "start_time": "2018-11-26T21:34:17.042142Z"
    }
   },
   "outputs": [],
   "source": [
    "def Mosleh2013_SF(mass):\n",
    "    alpha, beta, gamma, M0 = 0.109, 0.263, 10**-0.743, 10**10.204\n",
    "    return(gamma*mass**alpha*(1+mass/M0)**(beta-alpha))\n",
    "\n",
    "def Mosleh2013_Q(mass):\n",
    "    alpha, beta, gamma, M0 = 0.014, 0.912, 10**-0.058, 10**10.555\n",
    "    return(gamma*mass**alpha*(1+mass/M0)**(beta-alpha))\n",
    "\n"
   ]
  },
  {
   "cell_type": "code",
   "execution_count": 16,
   "metadata": {
    "ExecuteTime": {
     "end_time": "2018-11-26T21:38:59.668197Z",
     "start_time": "2018-11-26T21:38:59.664796Z"
    }
   },
   "outputs": [],
   "source": [
    "log_mass_plot = np.linspace(9.0, 11.5)"
   ]
  },
  {
   "cell_type": "code",
   "execution_count": 27,
   "metadata": {
    "ExecuteTime": {
     "end_time": "2018-11-26T21:39:57.874444Z",
     "start_time": "2018-11-26T21:39:57.526589Z"
    }
   },
   "outputs": [
    {
     "data": {
      "image/png": "[encoded data removed]",
      "text/plain": [
       "<Figure size 684x612 with 1 Axes>"
      ]
     },
     "metadata": {},
     "output_type": "display_data"
    }
   ],
   "source": [
    "\n",
    "\n",
    "fig, ax = plt.subplots(nrows=1, ncols=1, figsize=(9.5, 8.5))\n",
    "\n",
    "ax.plot(np.log10(galaxy_1.mass[-1]), np.log10(galaxy_1.get_size()[-1]), 'o', color='orange', label='galaxy 1')\n",
    "\n",
    "# plot model\n",
    "sc = ax.plot(log_mass_plot, np.log10(Mosleh2013_SF(10**log_mass_plot)), '-', lw=3, color='C0', label='SF')\n",
    "sc = ax.plot(log_mass_plot, np.log10(Mosleh2013_Q(10**log_mass_plot)), '-', lw=3, color='C3', label='Q')\n",
    "\n",
    "\n",
    "# set axes\n",
    "\n",
    "ax.set_xlabel(r'$\\log\\/\\/\\/\\mathrm{M_{\\star}}\\/\\/\\/[\\mathrm{M_{\\odot}}]$', fontsize=18)\n",
    "ax.set_ylabel(r'$\\log\\/\\/\\/R_{\\rm e}\\/\\/\\/[\\mathrm{kpc}]$', fontsize=18)\n",
    "\n",
    "ax.set_xlim([9.0, 11.5])\n",
    "ax.set_ylim([-0.3, 1.5])\n",
    "\n",
    "ax.legend(frameon=False, fontsize=14)\n",
    "\n",
    "plt.show()"
   ]
  },
  {
   "cell_type": "code",
   "execution_count": null,
   "metadata": {},
   "outputs": [],
   "source": []
  },
  {
   "cell_type": "code",
   "execution_count": 28,
   "metadata": {},
   "outputs": [],
   "source": [
    "alpha_list = [2, 0.8, 9.4]\n",
    "beta_list = [3 ,8, 2.5]\n",
    "gamma_list = [5, 3, 8]\n",
    "delta_list = [4.7, 7, 8]\n",
    "\n"
   ]
  },
  {
   "cell_type": "code",
   "execution_count": 41,
   "metadata": {},
   "outputs": [
    {
     "name": "stdout",
     "output_type": "stream",
     "text": [
      "2 3 5 4.7\n"
     ]
    },
    {
     "name": "stderr",
     "output_type": "stream",
     "text": [
      "/home/wolbach/Desktop/SRMP/morph_project/morph_tools/toolbox_morph.py:74: RuntimeWarning: divide by zero encountered in true_divide\n",
      "  self.time_boundary = cosmo.age(1.0/self.scale_factor_boundary-1.0).value\n",
      "/home/wolbach/Desktop/SRMP/morph_project/morph_tools/toolbox_morph.py:75: RuntimeWarning: divide by zero encountered in true_divide\n",
      "  self.time_dt = np.diff(cosmo.age(1.0/self.scale_factor_boundary-1.0).value)\n"
     ]
    },
    {
     "name": "stdout",
     "output_type": "stream",
     "text": [
      "2 3 5 7\n",
      "2 3 5 8\n",
      "2 3 3 4.7\n",
      "2 3 3 7\n",
      "2 3 3 8\n",
      "2 3 8 4.7\n",
      "2 3 8 7\n",
      "2 3 8 8\n",
      "2 8 5 4.7\n",
      "2 8 5 7\n",
      "2 8 5 8\n",
      "2 8 3 4.7\n",
      "2 8 3 7\n",
      "2 8 3 8\n",
      "2 8 8 4.7\n",
      "2 8 8 7\n",
      "2 8 8 8\n",
      "2 2.5 5 4.7\n",
      "2 2.5 5 7\n",
      "2 2.5 5 8\n",
      "2 2.5 3 4.7\n",
      "2 2.5 3 7\n",
      "2 2.5 3 8\n",
      "2 2.5 8 4.7\n",
      "2 2.5 8 7\n",
      "2 2.5 8 8\n",
      "0.8 3 5 4.7\n",
      "0.8 3 5 7\n",
      "0.8 3 5 8\n",
      "0.8 3 3 4.7\n",
      "0.8 3 3 7\n",
      "0.8 3 3 8\n",
      "0.8 3 8 4.7\n",
      "0.8 3 8 7\n",
      "0.8 3 8 8\n",
      "0.8 8 5 4.7\n",
      "0.8 8 5 7\n",
      "0.8 8 5 8\n",
      "0.8 8 3 4.7\n",
      "0.8 8 3 7\n",
      "0.8 8 3 8\n",
      "0.8 8 8 4.7\n",
      "0.8 8 8 7\n",
      "0.8 8 8 8\n",
      "0.8 2.5 5 4.7\n",
      "0.8 2.5 5 7\n",
      "0.8 2.5 5 8\n",
      "0.8 2.5 3 4.7\n",
      "0.8 2.5 3 7\n",
      "0.8 2.5 3 8\n",
      "0.8 2.5 8 4.7\n",
      "0.8 2.5 8 7\n",
      "0.8 2.5 8 8\n",
      "9.4 3 5 4.7\n",
      "9.4 3 5 7\n",
      "9.4 3 5 8\n",
      "9.4 3 3 4.7\n",
      "9.4 3 3 7\n",
      "9.4 3 3 8\n",
      "9.4 3 8 4.7\n",
      "9.4 3 8 7\n",
      "9.4 3 8 8\n",
      "9.4 8 5 4.7\n",
      "9.4 8 5 7\n",
      "9.4 8 5 8\n",
      "9.4 8 3 4.7\n",
      "9.4 8 3 7\n",
      "9.4 8 3 8\n",
      "9.4 8 8 4.7\n",
      "9.4 8 8 7\n",
      "9.4 8 8 8\n",
      "9.4 2.5 5 4.7\n",
      "9.4 2.5 5 7\n",
      "9.4 2.5 5 8\n",
      "9.4 2.5 3 4.7\n",
      "9.4 2.5 3 7\n",
      "9.4 2.5 3 8\n",
      "9.4 2.5 8 4.7\n",
      "9.4 2.5 8 7\n",
      "9.4 2.5 8 8\n"
     ]
    }
   ],
   "source": [
    "RM_list = []\n",
    "a_list = []\n",
    "b_list = []\n",
    "c_list = []\n",
    "d_list = []\n",
    "\n",
    "for ii_a in alpha_list:\n",
    "    for ii_b in beta_list:\n",
    "        for ii_c in gamma_list:\n",
    "            for ii_d in delta_list:\n",
    "                print(ii_a,ii_b,ii_c,ii_d)\n",
    "                gal = toolbox_morph.galaxy(radius_kpc, SFH_table['scale_factor'], SFH_table['SFH_Q'], [ii_a,ii_b,ii_c,ii_d])\n",
    "                RM_list.append(gal.get_size()[-1])\n",
    "                a_list.append(ii_a)\n",
    "                b_list.append(ii_b)\n",
    "                c_list.append(ii_c)\n",
    "                d_list.append(ii_d)\n"
   ]
  },
  {
   "cell_type": "code",
   "execution_count": 42,
   "metadata": {},
   "outputs": [
    {
     "data": {
      "image/png": "[encoded data removed]",
      "text/plain": [
       "<Figure size 684x612 with 1 Axes>"
      ]
     },
     "metadata": {},
     "output_type": "display_data"
    }
   ],
   "source": [
    "\n",
    "\n",
    "fig, ax = plt.subplots(nrows=1, ncols=1, figsize=(9.5, 8.5))\n",
    "\n",
    "ax.plot(np.log10(gal.mass[-1])*np.ones(len(RM_list)), np.log10(RM_list), '.', color='orange', label='__no_label__')\n",
    "\n",
    "# plot model\n",
    "sc = ax.plot(log_mass_plot, np.log10(Mosleh2013_SF(10**log_mass_plot)), '-', lw=3, color='C0', label='SF')\n",
    "sc = ax.plot(log_mass_plot, np.log10(Mosleh2013_Q(10**log_mass_plot)), '-', lw=3, color='C3', label='Q')\n",
    "\n",
    "\n",
    "# set axes\n",
    "\n",
    "ax.set_xlabel(r'$\\log\\/\\/\\/\\mathrm{M_{\\star}}\\/\\/\\/[\\mathrm{M_{\\odot}}]$', fontsize=18)\n",
    "ax.set_ylabel(r'$\\log\\/\\/\\/R_{\\rm e}\\/\\/\\/[\\mathrm{kpc}]$', fontsize=18)\n",
    "\n",
    "ax.set_xlim([10.0, 11.5])\n",
    "ax.set_ylim([0.0, 1.4])\n",
    "\n",
    "ax.legend(frameon=False, fontsize=14)\n",
    "\n",
    "plt.show()"
   ]
  },
  {
   "cell_type": "code",
   "execution_count": 43,
   "metadata": {},
   "outputs": [],
   "source": [
    "idx_min = np.abs(np.log10(Mosleh2013_Q(gal.mass[-1]))-np.log10(RM_list)).argmin()"
   ]
  },
  {
   "cell_type": "code",
   "execution_count": 44,
   "metadata": {},
   "outputs": [
    {
     "name": "stdout",
     "output_type": "stream",
     "text": [
      "45\n"
     ]
    }
   ],
   "source": [
    "print (idx_min)"
   ]
  },
  {
   "cell_type": "code",
   "execution_count": 50,
   "metadata": {
    "scrolled": true
   },
   "outputs": [
    {
     "name": "stdout",
     "output_type": "stream",
     "text": [
      "0.8\n",
      "2.5\n",
      "5\n",
      "4.7\n"
     ]
    },
    {
     "name": "stderr",
     "output_type": "stream",
     "text": [
      "/home/wolbach/Desktop/SRMP/morph_project/morph_tools/toolbox_morph.py:74: RuntimeWarning: divide by zero encountered in true_divide\n",
      "  self.time_boundary = cosmo.age(1.0/self.scale_factor_boundary-1.0).value\n",
      "/home/wolbach/Desktop/SRMP/morph_project/morph_tools/toolbox_morph.py:75: RuntimeWarning: divide by zero encountered in true_divide\n",
      "  self.time_dt = np.diff(cosmo.age(1.0/self.scale_factor_boundary-1.0).value)\n"
     ]
    }
   ],
   "source": [
    "print (a_list[idx_min])\n",
    "print (b_list[idx_min])\n",
    "print (c_list[idx_min])\n",
    "print (d_list[idx_min])\n",
    "\n",
    "galaxy_SF = toolbox_morph.galaxy(radius_kpc, SFH_table['scale_factor'], SFH_table['SFH_SF'], [0.8, 2.5, 5, 4.7])\n"
   ]
  },
  {
   "cell_type": "code",
   "execution_count": 51,
   "metadata": {},
   "outputs": [
    {
     "data": {
      "image/png": "[encoded data removed]",
      "text/plain": [
       "<Figure size 684x612 with 1 Axes>"
      ]
     },
     "metadata": {},
     "output_type": "display_data"
    }
   ],
   "source": [
    "\n",
    "\n",
    "fig, ax = plt.subplots(nrows=1, ncols=1, figsize=(9.5, 8.5))\n",
    "\n",
    "ax.plot(np.log10(galaxy_SF.mass[-1]), np.log10(galaxy_SF.get_size()[-1]), 'o', color='blue', label='SF galaxy')\n",
    "ax.plot(np.log10(gal.mass[-1]), np.log10(RM_list[idx_min]), 'o', color='red', label='Q galaxy')\n",
    "\n",
    "# plot model\n",
    "sc = ax.plot(log_mass_plot, np.log10(Mosleh2013_SF(10**log_mass_plot)), '-', lw=3, color='C0', label='SF')\n",
    "sc = ax.plot(log_mass_plot, np.log10(Mosleh2013_Q(10**log_mass_plot)), '-', lw=3, color='C3', label='Q')\n",
    "\n",
    "\n",
    "# set axes\n",
    "\n",
    "ax.set_xlabel(r'$\\log\\/\\/\\/\\mathrm{M_{\\star}}\\/\\/\\/[\\mathrm{M_{\\odot}}]$', fontsize=18)\n",
    "ax.set_ylabel(r'$\\log\\/\\/\\/R_{\\rm e}\\/\\/\\/[\\mathrm{kpc}]$', fontsize=18)\n",
    "\n",
    "ax.set_xlim([10.0, 11.5])\n",
    "ax.set_ylim([0.0, 1.4])\n",
    "\n",
    "ax.legend(frameon=False, fontsize=14)\n",
    "\n",
    "plt.show()"
   ]
  },
  {
   "cell_type": "code",
   "execution_count": null,
   "metadata": {},
   "outputs": [],
   "source": []
  },
  {
   "cell_type": "code",
   "execution_count": null,
   "metadata": {},
   "outputs": [],
   "source": []
  },
  {
   "cell_type": "code",
   "execution_count": null,
   "metadata": {},
   "outputs": [],
   "source": []
  }
 ],
 "metadata": {
  "kernelspec": {
   "display_name": "Python 3",
   "language": "python",
   "name": "python3"
  },
  "language_info": {
   "codemirror_mode": {
    "name": "ipython",
    "version": 3
   },
   "file_extension": ".py",
   "mimetype": "text/x-python",
   "name": "python",
   "nbconvert_exporter": "python",
   "pygments_lexer": "ipython3",
   "version": "3.6.5"
  },
  "toc": {
   "nav_menu": {},
   "number_sections": true,
   "sideBar": true,
   "skip_h1_title": false,
   "toc_cell": false,
   "toc_position": {},
   "toc_section_display": "block",
   "toc_window_display": false
  },
  "varInspector": {
   "cols": {
    "lenName": 16,
    "lenType": 16,
    "lenVar": 40
   },
   "kernels_config": {
    "python": {
     "delete_cmd_postfix": "",
     "delete_cmd_prefix": "del ",
     "library": "var_list.py",
     "varRefreshCmd": "print(var_dic_list())"
    },
    "r": {
     "delete_cmd_postfix": ") ",
     "delete_cmd_prefix": "rm(",
     "library": "var_list.r",
     "varRefreshCmd": "cat(var_dic_list()) "
    }
   },
   "types_to_exclude": [
    "module",
    "function",
    "builtin_function_or_method",
    "instance",
    "_Feature"
   ],
   "window_display": false
  }
 },
 "nbformat": 4,
 "nbformat_minor": 2
}
