{
 "cells": [
  {
   "cell_type": "code",
   "execution_count": 18,
   "metadata": {
    "ExecuteTime": {
     "end_time": "2018-12-02T22:32:58.190633Z",
     "start_time": "2018-12-02T22:32:58.186817Z"
    },
    "collapsed": true
   },
   "outputs": [],
   "source": [
    "import numpy as np\n",
    "import fsps\n",
    "from astropy.io import ascii\n",
    "import matplotlib.pyplot as plt\n"
   ]
  },
  {
   "cell_type": "code",
   "execution_count": 19,
   "metadata": {
    "ExecuteTime": {
     "end_time": "2018-12-02T22:32:58.501657Z",
     "start_time": "2018-12-02T22:32:58.498228Z"
    },
    "collapsed": true
   },
   "outputs": [],
   "source": [
    "path_main_directory = '/Users/sandrotacchella/ASTRO/SRMP/morph_project/'\n",
    "path_data = path_main_directory + 'data/'\n"
   ]
  },
  {
   "cell_type": "code",
   "execution_count": 2,
   "metadata": {
    "ExecuteTime": {
     "end_time": "2018-12-02T22:29:19.903343Z",
     "start_time": "2018-12-02T22:29:05.680852Z"
    },
    "collapsed": true
   },
   "outputs": [],
   "source": [
    "sp = fsps.StellarPopulation(compute_vega_mags=False, zcontinuous=1,\n",
    "                                sfh=0, logzsol=0.0, dust_type=2, dust2=0.2)\n"
   ]
  },
  {
   "cell_type": "code",
   "execution_count": 21,
   "metadata": {
    "ExecuteTime": {
     "end_time": "2018-12-02T22:35:33.548683Z",
     "start_time": "2018-12-02T22:35:33.541988Z"
    },
    "collapsed": false
   },
   "outputs": [
    {
     "name": "stdout",
     "output_type": "stream",
     "text": [
      "[1.00000000e-03 1.05101288e-03 1.10462808e-03 1.16097835e-03\n",
      " 1.22020320e-03 1.28244929e-03 1.34787073e-03 1.41662950e-03\n",
      " 1.48889586e-03 1.56484873e-03 1.64467618e-03 1.72857585e-03\n",
      " 1.81675549e-03 1.90943343e-03 2.00683914e-03 2.10921379e-03\n",
      " 2.21681087e-03 2.32989679e-03 2.44875155e-03 2.57366943e-03\n",
      " 2.70495973e-03 2.84294753e-03 2.98797448e-03 3.14039968e-03\n",
      " 3.30060053e-03 3.46897368e-03 3.64593604e-03 3.83192575e-03\n",
      " 4.02740334e-03 4.23285280e-03 4.44878283e-03 4.67572808e-03\n",
      " 4.91425045e-03 5.16494055e-03 5.42841906e-03 5.70533838e-03\n",
      " 5.99638415e-03 6.30227700e-03 6.62377433e-03 6.96167216e-03\n",
      " 7.31680714e-03 7.69005858e-03 8.08235065e-03 8.49465468e-03\n",
      " 8.92799151e-03 9.38343412e-03 9.86211016e-03 1.03652048e-02\n",
      " 1.08939638e-02 1.14496964e-02 1.20337784e-02 1.26476562e-02\n",
      " 1.32928496e-02 1.39709562e-02 1.46836550e-02 1.54327106e-02\n",
      " 1.62199776e-02 1.70474055e-02 1.79170428e-02 1.88310429e-02\n",
      " 1.97916687e-02 2.08012988e-02 2.18624330e-02 2.29776988e-02\n",
      " 2.41498575e-02 2.53818114e-02 2.66766108e-02 2.80374617e-02\n",
      " 2.94677335e-02 3.09709676e-02 3.25508860e-02 3.42114006e-02\n",
      " 3.59566228e-02 3.77908739e-02 3.97186954e-02 4.17448606e-02\n",
      " 4.38743864e-02 4.61125454e-02 4.84648793e-02 5.09372126e-02\n",
      " 5.35356668e-02 5.62666756e-02 5.91370010e-02 6.21537500e-02\n",
      " 6.53243921e-02 6.86567778e-02 7.21591581e-02 7.58402049e-02\n",
      " 7.97090325e-02 8.37752202e-02 8.80488358e-02 9.25404609e-02\n",
      " 9.72612168e-02 1.02222792e-01 1.07437472e-01 1.12918167e-01\n",
      " 1.18678448e-01 1.24732578e-01 1.31095547e-01 1.37783109e-01\n",
      " 1.44811823e-01 1.52199092e-01 1.59963206e-01 1.68123391e-01\n",
      " 1.76699850e-01 1.85713819e-01 1.95187617e-01 2.05144700e-01\n",
      " 2.15609723e-01 2.26608597e-01 2.38168555e-01 2.50318220e-01\n",
      " 2.63087675e-01 2.76508536e-01 2.90614034e-01 3.05439094e-01\n",
      " 3.21020423e-01 3.37396601e-01 3.54608175e-01 3.72697761e-01\n",
      " 3.91710149e-01 4.11692414e-01 4.32694031e-01 4.54767002e-01\n",
      " 4.77965979e-01 5.02348402e-01 5.27974643e-01 5.54908153e-01\n",
      " 5.83215618e-01 6.12967129e-01 6.44236351e-01 6.77100706e-01\n",
      " 7.11641566e-01 7.47944455e-01 7.86099259e-01 8.26200450e-01\n",
      " 8.68347318e-01 9.12644220e-01 9.59200834e-01 1.00813244e+00\n",
      " 1.05956018e+00 1.11361140e+00 1.17041993e+00 1.23012643e+00\n",
      " 1.29287872e+00 1.35883220e+00 1.42815015e+00 1.50100421e+00\n",
      " 1.57757476e+00 1.65805140e+00 1.74263339e+00 1.83153014e+00\n",
      " 1.92496178e+00 2.02315963e+00 2.12636684e+00 2.23483895e+00\n",
      " 2.34884453e+00 2.46866586e+00 2.59459963e+00 2.72695764e+00\n",
      " 2.86606762e+00 3.01227399e+00 3.16593878e+00 3.32744245e+00\n",
      " 3.49718489e+00 3.67558638e+00 3.86308864e+00 4.06015594e+00\n",
      " 4.26727620e+00 4.48496227e+00 4.71375313e+00 4.95421528e+00\n",
      " 5.20694409e+00 5.47256533e+00 5.75173667e+00 6.04514935e+00\n",
      " 6.35352986e+00 6.67764175e+00 7.01828751e+00 7.37631061e+00\n",
      " 7.75259749e+00 8.14807985e+00 8.56373691e+00 9.00059783e+00\n",
      " 9.45974429e+00 9.94231313e+00 1.04494992e+01 1.09825583e+01\n",
      " 1.15428103e+01 1.21316423e+01 1.27505124e+01 1.34009528e+01\n",
      " 1.40845741e+01 1.48030688e+01 1.55582161e+01 1.63518856e+01\n",
      " 1.71860424e+01 1.80627520e+01 1.89841851e+01 1.99526231e+01]\n"
     ]
    }
   ],
   "source": [
    "age_list = np.logspace(-3.0, 1.3, num=200)\n",
    "#np.linspace(0.1, 14.0, num=140)\n",
    "print age_list\n"
   ]
  },
  {
   "cell_type": "code",
   "execution_count": 22,
   "metadata": {
    "ExecuteTime": {
     "end_time": "2018-12-02T22:35:36.935886Z",
     "start_time": "2018-12-02T22:35:36.367617Z"
    },
    "collapsed": false
   },
   "outputs": [],
   "source": [
    "stellar_mass_list = []\n",
    "\n",
    "for ii_age in age_list:\n",
    "    wave, spec = sp.get_spectrum(tage=ii_age)\n",
    "    stellar_mass_list = np.append(stellar_mass_list, sp.stellar_mass)\n",
    "\n"
   ]
  },
  {
   "cell_type": "code",
   "execution_count": 23,
   "metadata": {
    "ExecuteTime": {
     "end_time": "2018-12-02T22:35:37.729643Z",
     "start_time": "2018-12-02T22:35:37.725641Z"
    },
    "collapsed": true
   },
   "outputs": [],
   "source": [
    "age_list = np.append(0.0, age_list)\n",
    "stellar_mass_list = np.append(1.0, stellar_mass_list)\n"
   ]
  },
  {
   "cell_type": "code",
   "execution_count": null,
   "metadata": {
    "collapsed": true
   },
   "outputs": [],
   "source": []
  },
  {
   "cell_type": "code",
   "execution_count": 24,
   "metadata": {
    "ExecuteTime": {
     "end_time": "2018-12-02T22:35:38.862933Z",
     "start_time": "2018-12-02T22:35:38.614047Z"
    },
    "collapsed": false
   },
   "outputs": [
    {
     "data": {
      "image/png": "[encoded data removed]",
      "text/plain": [
       "<matplotlib.figure.Figure at 0x1482c0450>"
      ]
     },
     "metadata": {},
     "output_type": "display_data"
    }
   ],
   "source": [
    "plt.plot(age_list, stellar_mass_list, '-')\n",
    "plt.show()\n"
   ]
  },
  {
   "cell_type": "code",
   "execution_count": 25,
   "metadata": {
    "ExecuteTime": {
     "end_time": "2018-12-02T22:35:43.062639Z",
     "start_time": "2018-12-02T22:35:43.043954Z"
    },
    "collapsed": false
   },
   "outputs": [
    {
     "name": "stderr",
     "output_type": "stream",
     "text": [
      "WARNING: AstropyDeprecationWarning: /Users/sandrotacchella/ASTRO/SRMP/morph_project/data/mass_loss_table.dat already exists. Automatically overwriting ASCII files is deprecated. Use the argument 'overwrite=True' in the future. [astropy.io.ascii.ui]\n"
     ]
    }
   ],
   "source": [
    "ascii.write([age_list, stellar_mass_list], path_data + 'mass_loss_table.dat', names=['time', 'mass_frac'])"
   ]
  },
  {
   "cell_type": "code",
   "execution_count": null,
   "metadata": {
    "collapsed": true
   },
   "outputs": [],
   "source": []
  }
 ],
 "metadata": {
  "kernelspec": {
   "display_name": "Python 2",
   "language": "python",
   "name": "python2"
  },
  "language_info": {
   "codemirror_mode": {
    "name": "ipython",
    "version": 2
   },
   "file_extension": ".py",
   "mimetype": "text/x-python",
   "name": "python",
   "nbconvert_exporter": "python",
   "pygments_lexer": "ipython2",
   "version": "2.7.13"
  },
  "toc": {
   "nav_menu": {},
   "number_sections": true,
   "sideBar": true,
   "skip_h1_title": false,
   "toc_cell": false,
   "toc_position": {},
   "toc_section_display": "block",
   "toc_window_display": false
  },
  "varInspector": {
   "cols": {
    "lenName": 16,
    "lenType": 16,
    "lenVar": 40
   },
   "kernels_config": {
    "python": {
     "delete_cmd_postfix": "",
     "delete_cmd_prefix": "del ",
     "library": "var_list.py",
     "varRefreshCmd": "print(var_dic_list())"
    },
    "r": {
     "delete_cmd_postfix": ") ",
     "delete_cmd_prefix": "rm(",
     "library": "var_list.r",
     "varRefreshCmd": "cat(var_dic_list()) "
    }
   },
   "types_to_exclude": [
    "module",
    "function",
    "builtin_function_or_method",
    "instance",
    "_Feature"
   ],
   "window_display": false
  }
 },
 "nbformat": 4,
 "nbformat_minor": 2
}
