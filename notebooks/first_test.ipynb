{
 "cells": [
  {
   "cell_type": "markdown",
   "metadata": {},
   "source": [
    "# Modules"
   ]
  },
  {
   "cell_type": "code",
   "execution_count": 1,
   "metadata": {
    "ExecuteTime": {
     "end_time": "2018-12-02T22:55:08.119419Z",
     "start_time": "2018-12-02T22:55:07.517800Z"
    },
    "collapsed": false
   },
   "outputs": [],
   "source": [
    "import toolbox_morph\n",
    "import numpy as np\n",
    "import matplotlib.pyplot as plt\n",
    "from astropy.table import Table\n"
   ]
  },
  {
   "cell_type": "code",
   "execution_count": null,
   "metadata": {
    "collapsed": true
   },
   "outputs": [],
   "source": []
  },
  {
   "cell_type": "code",
   "execution_count": null,
   "metadata": {
    "ExecuteTime": {
     "end_time": "2018-11-26T16:12:16.382257Z",
     "start_time": "2018-11-26T16:12:16.378227Z"
    },
    "collapsed": false
   },
   "outputs": [],
   "source": []
  },
  {
   "cell_type": "markdown",
   "metadata": {},
   "source": [
    "# Define paths"
   ]
  },
  {
   "cell_type": "code",
   "execution_count": 2,
   "metadata": {
    "ExecuteTime": {
     "end_time": "2018-12-02T22:55:08.773716Z",
     "start_time": "2018-12-02T22:55:08.771026Z"
    },
    "collapsed": true
   },
   "outputs": [],
   "source": [
    "path_main_directory = '/Users/sandrotacchella/ASTRO/SRMP/morph_project/'\n",
    "path_SFH_table = path_main_directory + 'SFH/'\n"
   ]
  },
  {
   "cell_type": "code",
   "execution_count": null,
   "metadata": {
    "collapsed": true
   },
   "outputs": [],
   "source": []
  },
  {
   "cell_type": "markdown",
   "metadata": {},
   "source": [
    "# Basic test"
   ]
  },
  {
   "cell_type": "code",
   "execution_count": 3,
   "metadata": {
    "ExecuteTime": {
     "end_time": "2018-12-02T22:55:09.817089Z",
     "start_time": "2018-12-02T22:55:09.666849Z"
    },
    "collapsed": false
   },
   "outputs": [
    {
     "name": "stderr",
     "output_type": "stream",
     "text": [
      "/Users/sandrotacchella/ASTRO/SRMP/morph_project/morph_tools/toolbox_morph.py:74: RuntimeWarning: divide by zero encountered in divide\n",
      "  self.time_boundary = cosmo.age(1.0/self.scale_factor_boundary-1.0).value\n",
      "/Users/sandrotacchella/ASTRO/SRMP/morph_project/morph_tools/toolbox_morph.py:75: RuntimeWarning: divide by zero encountered in divide\n",
      "  self.time_dt = np.diff(cosmo.age(1.0/self.scale_factor_boundary-1.0).value)\n"
     ]
    }
   ],
   "source": [
    "a = [0.1, 0.4, 0.7]\n",
    "SFR = [20.0, 100.0, 5.0]\n",
    "\n",
    "radius_kpc = np.linspace(0.0, 50.0, num=501)\n",
    "\n",
    "galaxy_test = toolbox_morph.galaxy(radius_kpc, a, SFR, [1.0, 0.3, -0.5, 0.2])\n",
    "\n"
   ]
  },
  {
   "cell_type": "code",
   "execution_count": 4,
   "metadata": {
    "ExecuteTime": {
     "end_time": "2018-12-02T22:55:10.020142Z",
     "start_time": "2018-12-02T22:55:10.014521Z"
    },
    "collapsed": false
   },
   "outputs": [
    {
     "data": {
      "text/plain": [
       "['scale_factor',\n",
       " 'redshift',\n",
       " 'Rs',\n",
       " 'age',\n",
       " 'Rs_params',\n",
       " 'SFR',\n",
       " 'time_dt',\n",
       " 'radius',\n",
       " 'time_boundary',\n",
       " 'time',\n",
       " 'scale_factor_boundary',\n",
       " 'mass']"
      ]
     },
     "execution_count": 4,
     "metadata": {},
     "output_type": "execute_result"
    }
   ],
   "source": [
    "galaxy_test.__dict__.keys()"
   ]
  },
  {
   "cell_type": "code",
   "execution_count": 5,
   "metadata": {
    "ExecuteTime": {
     "end_time": "2018-12-02T22:55:10.430346Z",
     "start_time": "2018-12-02T22:55:10.418186Z"
    },
    "collapsed": false,
    "scrolled": false
   },
   "outputs": [
    {
     "data": {
      "text/plain": [
       "{'Rs': array([ 1.13770201,  2.72926798, 11.33949745]),\n",
       " 'Rs_params': array([ 1. ,  0.3, -0.5,  0.2]),\n",
       " 'SFR': array([ 20., 100.,   5.]),\n",
       " 'age': array([ 2.43388269,  7.13342839, 10.47337617]),\n",
       " 'mass': array([4.29713904e+10, 4.96103994e+11, 5.20442821e+11]),\n",
       " 'radius': array([ 0. ,  0.1,  0.2,  0.3,  0.4,  0.5,  0.6,  0.7,  0.8,  0.9,  1. ,\n",
       "         1.1,  1.2,  1.3,  1.4,  1.5,  1.6,  1.7,  1.8,  1.9,  2. ,  2.1,\n",
       "         2.2,  2.3,  2.4,  2.5,  2.6,  2.7,  2.8,  2.9,  3. ,  3.1,  3.2,\n",
       "         3.3,  3.4,  3.5,  3.6,  3.7,  3.8,  3.9,  4. ,  4.1,  4.2,  4.3,\n",
       "         4.4,  4.5,  4.6,  4.7,  4.8,  4.9,  5. ,  5.1,  5.2,  5.3,  5.4,\n",
       "         5.5,  5.6,  5.7,  5.8,  5.9,  6. ,  6.1,  6.2,  6.3,  6.4,  6.5,\n",
       "         6.6,  6.7,  6.8,  6.9,  7. ,  7.1,  7.2,  7.3,  7.4,  7.5,  7.6,\n",
       "         7.7,  7.8,  7.9,  8. ,  8.1,  8.2,  8.3,  8.4,  8.5,  8.6,  8.7,\n",
       "         8.8,  8.9,  9. ,  9.1,  9.2,  9.3,  9.4,  9.5,  9.6,  9.7,  9.8,\n",
       "         9.9, 10. , 10.1, 10.2, 10.3, 10.4, 10.5, 10.6, 10.7, 10.8, 10.9,\n",
       "        11. , 11.1, 11.2, 11.3, 11.4, 11.5, 11.6, 11.7, 11.8, 11.9, 12. ,\n",
       "        12.1, 12.2, 12.3, 12.4, 12.5, 12.6, 12.7, 12.8, 12.9, 13. , 13.1,\n",
       "        13.2, 13.3, 13.4, 13.5, 13.6, 13.7, 13.8, 13.9, 14. , 14.1, 14.2,\n",
       "        14.3, 14.4, 14.5, 14.6, 14.7, 14.8, 14.9, 15. , 15.1, 15.2, 15.3,\n",
       "        15.4, 15.5, 15.6, 15.7, 15.8, 15.9, 16. , 16.1, 16.2, 16.3, 16.4,\n",
       "        16.5, 16.6, 16.7, 16.8, 16.9, 17. , 17.1, 17.2, 17.3, 17.4, 17.5,\n",
       "        17.6, 17.7, 17.8, 17.9, 18. , 18.1, 18.2, 18.3, 18.4, 18.5, 18.6,\n",
       "        18.7, 18.8, 18.9, 19. , 19.1, 19.2, 19.3, 19.4, 19.5, 19.6, 19.7,\n",
       "        19.8, 19.9, 20. , 20.1, 20.2, 20.3, 20.4, 20.5, 20.6, 20.7, 20.8,\n",
       "        20.9, 21. , 21.1, 21.2, 21.3, 21.4, 21.5, 21.6, 21.7, 21.8, 21.9,\n",
       "        22. , 22.1, 22.2, 22.3, 22.4, 22.5, 22.6, 22.7, 22.8, 22.9, 23. ,\n",
       "        23.1, 23.2, 23.3, 23.4, 23.5, 23.6, 23.7, 23.8, 23.9, 24. , 24.1,\n",
       "        24.2, 24.3, 24.4, 24.5, 24.6, 24.7, 24.8, 24.9, 25. , 25.1, 25.2,\n",
       "        25.3, 25.4, 25.5, 25.6, 25.7, 25.8, 25.9, 26. , 26.1, 26.2, 26.3,\n",
       "        26.4, 26.5, 26.6, 26.7, 26.8, 26.9, 27. , 27.1, 27.2, 27.3, 27.4,\n",
       "        27.5, 27.6, 27.7, 27.8, 27.9, 28. , 28.1, 28.2, 28.3, 28.4, 28.5,\n",
       "        28.6, 28.7, 28.8, 28.9, 29. , 29.1, 29.2, 29.3, 29.4, 29.5, 29.6,\n",
       "        29.7, 29.8, 29.9, 30. , 30.1, 30.2, 30.3, 30.4, 30.5, 30.6, 30.7,\n",
       "        30.8, 30.9, 31. , 31.1, 31.2, 31.3, 31.4, 31.5, 31.6, 31.7, 31.8,\n",
       "        31.9, 32. , 32.1, 32.2, 32.3, 32.4, 32.5, 32.6, 32.7, 32.8, 32.9,\n",
       "        33. , 33.1, 33.2, 33.3, 33.4, 33.5, 33.6, 33.7, 33.8, 33.9, 34. ,\n",
       "        34.1, 34.2, 34.3, 34.4, 34.5, 34.6, 34.7, 34.8, 34.9, 35. , 35.1,\n",
       "        35.2, 35.3, 35.4, 35.5, 35.6, 35.7, 35.8, 35.9, 36. , 36.1, 36.2,\n",
       "        36.3, 36.4, 36.5, 36.6, 36.7, 36.8, 36.9, 37. , 37.1, 37.2, 37.3,\n",
       "        37.4, 37.5, 37.6, 37.7, 37.8, 37.9, 38. , 38.1, 38.2, 38.3, 38.4,\n",
       "        38.5, 38.6, 38.7, 38.8, 38.9, 39. , 39.1, 39.2, 39.3, 39.4, 39.5,\n",
       "        39.6, 39.7, 39.8, 39.9, 40. , 40.1, 40.2, 40.3, 40.4, 40.5, 40.6,\n",
       "        40.7, 40.8, 40.9, 41. , 41.1, 41.2, 41.3, 41.4, 41.5, 41.6, 41.7,\n",
       "        41.8, 41.9, 42. , 42.1, 42.2, 42.3, 42.4, 42.5, 42.6, 42.7, 42.8,\n",
       "        42.9, 43. , 43.1, 43.2, 43.3, 43.4, 43.5, 43.6, 43.7, 43.8, 43.9,\n",
       "        44. , 44.1, 44.2, 44.3, 44.4, 44.5, 44.6, 44.7, 44.8, 44.9, 45. ,\n",
       "        45.1, 45.2, 45.3, 45.4, 45.5, 45.6, 45.7, 45.8, 45.9, 46. , 46.1,\n",
       "        46.2, 46.3, 46.4, 46.5, 46.6, 46.7, 46.8, 46.9, 47. , 47.1, 47.2,\n",
       "        47.3, 47.4, 47.5, 47.6, 47.7, 47.8, 47.9, 48. , 48.1, 48.2, 48.3,\n",
       "        48.4, 48.5, 48.6, 48.7, 48.8, 48.9, 49. , 49.1, 49.2, 49.3, 49.4,\n",
       "        49.5, 49.6, 49.7, 49.8, 49.9, 50. ]),\n",
       " 'redshift': array([9.        , 1.5       , 0.42857143]),\n",
       " 'scale_factor': array([0.1, 0.4, 0.7]),\n",
       " 'scale_factor_boundary': array([0.  , 0.25, 0.55, 0.85]),\n",
       " 'time': array([0.54526208, 4.27775734, 9.15045508]),\n",
       " 'time_boundary': array([ 0.        ,  2.14856952,  6.67989556, 11.54766093]),\n",
       " 'time_dt': array([2.14856952, 4.53132604, 4.86776537])}"
      ]
     },
     "execution_count": 5,
     "metadata": {},
     "output_type": "execute_result"
    }
   ],
   "source": [
    "galaxy_test.__dict__"
   ]
  },
  {
   "cell_type": "code",
   "execution_count": 8,
   "metadata": {
    "ExecuteTime": {
     "end_time": "2018-12-02T22:55:26.949265Z",
     "start_time": "2018-12-02T22:55:26.944851Z"
    },
    "collapsed": false
   },
   "outputs": [
    {
     "data": {
      "text/plain": [
       "array([10.63317941, 11.69557272, 11.71637302])"
      ]
     },
     "execution_count": 8,
     "metadata": {},
     "output_type": "execute_result"
    }
   ],
   "source": [
    "np.log10(galaxy_test.mass)"
   ]
  },
  {
   "cell_type": "code",
   "execution_count": 9,
   "metadata": {
    "ExecuteTime": {
     "end_time": "2018-12-02T22:55:27.772744Z",
     "start_time": "2018-12-02T22:55:27.766702Z"
    },
    "collapsed": false
   },
   "outputs": [
    {
     "name": "stdout",
     "output_type": "stream",
     "text": [
      "[9.         1.5        0.42857143]\n",
      "0.0\n",
      "2\n",
      "[0.60412933 0.62189568 1.        ]\n"
     ]
    },
    {
     "data": {
      "text/plain": [
       "11.488214270361029"
      ]
     },
     "execution_count": 9,
     "metadata": {},
     "output_type": "execute_result"
    }
   ],
   "source": [
    "np.log10(galaxy_test.get_mass_after_mass_loss(redshift_in=0.0))"
   ]
  },
  {
   "cell_type": "code",
   "execution_count": null,
   "metadata": {
    "collapsed": true
   },
   "outputs": [],
   "source": []
  },
  {
   "cell_type": "markdown",
   "metadata": {},
   "source": [
    "# Test with SFH"
   ]
  },
  {
   "cell_type": "markdown",
   "metadata": {},
   "source": [
    "## Read in table"
   ]
  },
  {
   "cell_type": "code",
   "execution_count": 8,
   "metadata": {
    "ExecuteTime": {
     "end_time": "2018-12-02T22:54:10.221484Z",
     "start_time": "2018-12-02T22:54:10.196954Z"
    },
    "collapsed": false
   },
   "outputs": [],
   "source": [
    "SFH_table = Table.read(path_SFH_table + 'sfh_sm10.50_a1.002310.dat', format='ascii', names=('scale_factor', 'SFH_all', 'SFH_all_up', 'SFH_all_dw', 'SFH_SF', 'SFH_SF_up', 'SFH_SF_dw', 'SFH_Q', 'SFH_Q_up', 'SFH_Q_dw', 'SFH_Cen', 'SFH_Cen_up', 'SFH_Cen_dw', 'SFH_Sat', 'SFH_Sat_up', 'SFH_Sat_dw', 'scale_factor_begin', 'scale_factor_end')) \n"
   ]
  },
  {
   "cell_type": "code",
   "execution_count": 9,
   "metadata": {
    "ExecuteTime": {
     "end_time": "2018-12-02T22:54:10.532299Z",
     "start_time": "2018-12-02T22:54:10.524479Z"
    },
    "collapsed": false
   },
   "outputs": [
    {
     "name": "stdout",
     "output_type": "stream",
     "text": [
      "scale_factor   SFH_all    SFH_all_up  ... scale_factor_begin scale_factor_end\n",
      "------------ ----------- ------------ ... ------------------ ----------------\n",
      "    0.028936 7.57188e-05 -3.50351e-05 ...                0.0         0.057873\n",
      "    0.059561  0.00112787  8.33206e-05 ...           0.057873         0.061248\n",
      "    0.062373  0.00364916  0.000763607 ...           0.061248         0.063498\n",
      "    0.064623  0.00479807   0.00179845 ...           0.063498         0.065748\n",
      "    0.066873  0.00825626   0.00246062 ...           0.065748         0.067998\n",
      "    0.069123    0.011718   0.00284543 ...           0.067998         0.070248\n",
      "    0.071373   0.0142628   0.00683206 ...           0.070248         0.072498\n",
      "    0.073623   0.0209673    0.0091823 ...           0.072498         0.074748\n",
      "    0.075873   0.0296027    0.0124159 ...           0.074748         0.076998\n",
      "    0.078123   0.0407726    0.0155405 ...           0.076998         0.079248\n",
      "         ...         ...          ... ...                ...              ...\n",
      "    0.926373    0.821078      0.37057 ...           0.922576          0.93017\n",
      "    0.933967    0.797693     0.349379 ...            0.93017         0.937763\n",
      "     0.94156    0.769389     0.326947 ...           0.937763         0.945357\n",
      "    0.949154    0.744505     0.315384 ...           0.945357         0.952951\n",
      "    0.956748    0.726237     0.319031 ...           0.952951         0.960545\n",
      "    0.964342    0.704849     0.308941 ...           0.960545         0.968138\n",
      "    0.971935    0.681664     0.298943 ...           0.968138         0.975732\n",
      "    0.979529    0.664115     0.292557 ...           0.975732         0.983326\n",
      "    0.987123    0.641895     0.289016 ...           0.983326          0.99092\n",
      "    0.994717    0.622458     0.278378 ...            0.99092         0.998514\n",
      "    1.000412    0.600031     0.256596 ...           0.998514          1.00231\n",
      "Length = 178 rows\n"
     ]
    }
   ],
   "source": [
    "print(SFH_table)"
   ]
  },
  {
   "cell_type": "code",
   "execution_count": null,
   "metadata": {
    "collapsed": true
   },
   "outputs": [],
   "source": []
  },
  {
   "cell_type": "markdown",
   "metadata": {},
   "source": [
    "# Look at galaxy"
   ]
  },
  {
   "cell_type": "code",
   "execution_count": 10,
   "metadata": {
    "ExecuteTime": {
     "end_time": "2018-12-02T22:54:12.717191Z",
     "start_time": "2018-12-02T22:54:12.331279Z"
    },
    "collapsed": true
   },
   "outputs": [],
   "source": [
    "galaxy_1 = toolbox_morph.galaxy(radius_kpc, SFH_table['scale_factor'], SFH_table['SFH_all'], [5.0, 0.3, -0.5, 0.2])\n",
    "galaxy_2 = toolbox_morph.galaxy(radius_kpc, SFH_table['scale_factor'], SFH_table['SFH_Q'], [5.0, 0.3, -0.5, 0.2])\n",
    "galaxy_3 = toolbox_morph.galaxy(radius_kpc, SFH_table['scale_factor'], SFH_table['SFH_SF'], [5.0, 0.3, -0.5, 0.2])\n"
   ]
  },
  {
   "cell_type": "code",
   "execution_count": 21,
   "metadata": {
    "ExecuteTime": {
     "end_time": "2018-11-26T17:10:21.498747Z",
     "start_time": "2018-11-26T17:10:21.492689Z"
    },
    "collapsed": false
   },
   "outputs": [
    {
     "name": "stdout",
     "output_type": "stream",
     "text": [
      "[ 3.35590268e+01  1.57895099e+01  1.50325782e+01  1.44743667e+01\n",
      "  1.39537182e+01  1.34669647e+01  1.30109005e+01  1.25827119e+01\n",
      "  1.21799191e+01  1.18003277e+01  1.14419892e+01  1.10621442e+01\n",
      "  1.06281774e+01  1.01890616e+01  9.78190365e+00  9.40333739e+00\n",
      "  9.05045328e+00  8.72072361e+00  8.41194187e+00  8.12217327e+00\n",
      "  7.84971415e+00  7.59305853e+00  7.35087016e+00  7.12195934e+00\n",
      "  6.90526332e+00  6.69982983e+00  6.50480307e+00  6.29687329e+00\n",
      "  6.05791015e+00  5.81440292e+00  5.58718135e+00  5.37458326e+00\n",
      "  5.17531726e+00  4.98809567e+00  4.81192607e+00  4.64579417e+00\n",
      "  4.48892609e+00  4.34051098e+00  4.19993760e+00  4.06654912e+00\n",
      "  3.93985724e+00  3.81932356e+00  3.70455401e+00  3.59510254e+00\n",
      "  3.49064823e+00  3.39081792e+00  3.29534814e+00  3.20392394e+00\n",
      "  3.11632741e+00  3.03229058e+00  2.95163202e+00  2.87412203e+00\n",
      "  2.79960864e+00  2.72789359e+00  2.65884893e+00  2.59230241e+00\n",
      "  2.52814578e+00  2.46622854e+00  2.40645865e+00  2.34870388e+00\n",
      "  2.29288572e+00  2.23888738e+00  2.18664160e+00  2.13604476e+00\n",
      "  2.08703907e+00  2.03954139e+00  1.99347423e+00  1.94879129e+00\n",
      "  1.90541424e+00  1.86330305e+00  1.82238718e+00  1.78263192e+00\n",
      "  1.74397355e+00  1.70638192e+00  1.66979923e+00  1.63419928e+00\n",
      "  1.59952949e+00  1.56576702e+00  1.53286391e+00  1.50080026e+00\n",
      "  1.46953215e+00  1.43904224e+00  1.40929022e+00  1.38026097e+00\n",
      "  1.35191740e+00  1.32424631e+00  1.29721348e+00  1.27080741e+00\n",
      "  1.24499646e+00  1.21977061e+00  1.19510054e+00  1.17097750e+00\n",
      "  1.14737430e+00  1.12428332e+00  1.10167924e+00  1.07955547e+00\n",
      "  1.05788840e+00  1.03667232e+00  1.01588518e+00  9.95522049e-01\n",
      "  9.75562294e-01  9.56001698e-01  9.36820902e-01  9.18016311e-01\n",
      "  8.99569747e-01  8.81478165e-01  8.63724467e-01  8.46306095e-01\n",
      "  8.29206947e-01  8.12424898e-01  7.95944757e-01  7.79764786e-01\n",
      "  7.63870638e-01  7.48260917e-01  7.32922053e-01  7.17850008e-01\n",
      "  7.03040779e-01  6.88481852e-01  6.74172540e-01  6.60100967e-01\n",
      "  6.46266679e-01  6.32658392e-01  6.19275860e-01  6.06108351e-01\n",
      "  5.93155803e-01  5.80407998e-01  5.67865038e-01  5.55517186e-01\n",
      "  5.43364689e-01  5.31398258e-01  5.19618272e-01  5.08015858e-01\n",
      "  4.96591513e-01  4.85336756e-01  4.74252186e-01  4.61975480e-01\n",
      "  4.47247119e-01  4.31516262e-01  4.16121696e-01  4.01054714e-01\n",
      "  3.86304970e-01  3.71864432e-01  3.57719791e-01  3.43863850e-01\n",
      "  3.30287861e-01  3.16985158e-01  3.03944170e-01  2.91158918e-01\n",
      "  2.78621952e-01  2.66327713e-01  2.54266072e-01  2.42432036e-01\n",
      "  2.30819221e-01  2.19422969e-01  2.08234359e-01  1.97249200e-01\n",
      "  1.86461994e-01  1.75868820e-01  1.65461773e-01  1.55237326e-01\n",
      "  1.45190714e-01  1.35318627e-01  1.25614022e-01  1.16073920e-01\n",
      "  1.06694172e-01  9.74719733e-02  8.84010192e-02  7.94787845e-02\n",
      "  7.07016415e-02  6.20672076e-02  5.35698106e-02  4.52073064e-02\n",
      "  3.69765083e-02  2.88753878e-02  2.08988197e-02  1.30449802e-02\n",
      "  5.31105832e-03 -4.11830326e-04]\n"
     ]
    }
   ],
   "source": [
    "print(galaxy_1.redshift)\n"
   ]
  },
  {
   "cell_type": "code",
   "execution_count": 22,
   "metadata": {
    "ExecuteTime": {
     "end_time": "2018-11-26T17:10:44.069664Z",
     "start_time": "2018-11-26T17:10:37.129622Z"
    },
    "collapsed": false
   },
   "outputs": [
    {
     "name": "stdout",
     "output_type": "stream",
     "text": [
      "[0.10191967 0.10760438 0.10650073 0.10597234 0.10571225 0.10655973\n",
      " 0.10883106 0.11147612 0.11479671 0.1188477  0.12440876 0.13231321\n",
      " 0.14137291 0.15162457 0.16251271 0.17406512 0.18628616 0.19920033\n",
      " 0.21808563 0.23633311 0.25400809 0.27139226 0.28870279 0.30775998\n",
      " 0.3293443  0.35021746 0.37209615 0.39790189 0.43283141 0.46839975\n",
      " 0.50347267 0.54233508 0.57983661 0.618577   0.65861359 0.69755339\n",
      " 0.73941548 0.7803984  0.82248079 0.86526659 0.907888   0.95245742\n",
      " 0.99610054 1.04182717 1.08687037 1.13328739 1.17971597 1.22692392\n",
      " 1.27447953 1.32242557 1.37096223 1.41971901 1.46923594 1.51890274\n",
      " 1.5693345  1.61993911 1.67122268 1.72276451 1.77484131 1.82733641\n",
      " 1.88009242 1.93342558 1.9868599  2.04112542 2.09520707 2.15039731\n",
      " 2.20532196 2.26127671 2.31716174 2.37364317 2.43042227 2.48740187\n",
      " 2.54509433 2.60264058 2.66112585 2.71957715 2.77848939 2.83781511\n",
      " 2.89712908 2.95728808 3.01738278 3.07792905 3.13880306 3.19962415\n",
      " 3.26124111 3.32279612 3.38461478 3.44684212 3.50897229 3.57157731\n",
      " 3.63424593 3.69686843 3.75999713 3.82298462 3.88606227 3.94936046\n",
      " 4.01244422 4.07569994 4.13884784 4.20166503 4.26473827 4.32743589\n",
      " 4.3898097  4.4521118  4.51385407 4.57540226 4.6365271  4.69711526\n",
      " 4.75754235 4.81719069 4.87642778 4.93508536 4.99294893 5.05044977\n",
      " 5.10697157 5.16292475 5.21789597 5.27209893 5.32530775 5.37758587\n",
      " 5.42887131 5.47901414 5.52818202 5.57582978 5.62201494 5.66679994\n",
      " 5.71001718 5.75201389 5.79230234 5.83138817 5.86905242 5.90517187\n",
      " 5.94018685 5.97367411 6.0078936  6.04673368 6.08891053 6.13050478\n",
      " 6.16935233 6.20594164 6.2406296  6.27311011 6.30364594 6.33252193\n",
      " 6.35968369 6.38524082 6.40952975 6.43268203 6.45450344 6.47525596\n",
      " 6.49482907 6.51349139 6.53124925 6.54810472 6.56414921 6.57936527\n",
      " 6.59386128 6.60772421 6.62098793 6.63359567 6.64555326 6.65695114\n",
      " 6.66781886 6.67818521 6.68806927 6.69745756 6.70652915 6.71517448\n",
      " 6.72345726 6.7313147  6.73879981 6.74600653 6.75289594 6.75944893\n",
      " 6.76574474 6.77172556 6.77672029 6.78077276]\n",
      "[0.10476217 0.11387565 0.11197884 0.11172476 0.11176019 0.11270273\n",
      " 0.11485788 0.11740211 0.12092838 0.12538289 0.13155471 0.13996773\n",
      " 0.14995533 0.16135745 0.17349676 0.18642575 0.20027171 0.22068584\n",
      " 0.24005758 0.25891248 0.27758842 0.29625727 0.31893767 0.34171746\n",
      " 0.36385476 0.38560376 0.41049476 0.44264678 0.47891902 0.51862439\n",
      " 0.559936   0.60006755 0.64407368 0.68671736 0.7313951  0.77607482\n",
      " 0.82153639 0.86797156 0.91451663 0.96248222 1.0102698  1.05981447\n",
      " 1.10891752 1.15968943 1.21008431 1.26198664 1.31377682 1.36672039\n",
      " 1.41971285 1.473443   1.52757463 1.58206019 1.63738174 1.69262944\n",
      " 1.74915955 1.80538322 1.86287603 1.92034517 1.9784766  2.03718553\n",
      " 2.09583824 2.15558245 2.21523419 2.27559595 2.33635357 2.39716405\n",
      " 2.45904214 2.52089917 2.58321612 2.64606787 2.70888581 2.77248382\n",
      " 2.83636144 2.90027671 2.9650702  3.02994431 3.0949654  3.16073844\n",
      " 3.22654047 3.29252526 3.35911462 3.42568474 3.49240017 3.55964185\n",
      " 3.62685951 3.69418945 3.76197727 3.82969497 3.897331   3.96535853\n",
      " 4.03318789 4.10085473 4.16883361 4.23657765 4.30396014 4.37146665\n",
      " 4.43870059 4.50548543 4.57216582 4.63840474 4.70402656 4.76946253\n",
      " 4.83413286 4.89798775 4.96147933 5.02408338 5.08591776 5.14726704\n",
      " 5.20752997 5.26717596 5.32578261 5.38343016 5.44021251 5.49584355\n",
      " 5.55069245 5.60403024 5.65651322 5.7074751  5.75724461 5.80544824\n",
      " 5.85248227 5.89773278 5.94190869 5.98408052 6.0246737  6.06367632\n",
      " 6.10091653 6.13687647 6.17112934 6.20378268 6.23529859 6.26520527\n",
      " 6.2936878  6.3208592  6.34845918 6.37910109 6.41222191 6.4445477\n",
      " 6.47428184 6.50189682 6.52799476 6.55216594 6.57452492 6.59529185\n",
      " 6.61478985 6.63310735 6.65031826 6.66643807 6.68148694 6.69579333\n",
      " 6.70922701 6.72168803 6.73329839 6.74416244 6.75441934 6.76394164\n",
      " 6.77287047 6.78124657 6.78911513 6.79643507 6.8032673  6.80959835\n",
      " 6.81545332 6.8208621  6.82584036 6.83034735 6.83454205 6.83840758\n",
      " 6.84189793 6.84505234 6.84791617 6.8505035  6.85282267 6.85483959\n",
      " 6.8565919  6.8580188  6.85896723 6.85939971]\n",
      "[0.10000331 0.10033935 0.10030721 0.10022074 0.10027247 0.10125056\n",
      " 0.10354531 0.10594482 0.10849646 0.11161797 0.11602416 0.12340599\n",
      " 0.13133163 0.14020381 0.14972082 0.15981743 0.17044865 0.18154665\n",
      " 0.19307893 0.20748873 0.22456131 0.24089506 0.25680361 0.27253381\n",
      " 0.28822149 0.30512026 0.32623151 0.350594   0.37825421 0.4081044\n",
      " 0.44114238 0.47304575 0.50476073 0.53957425 0.57331962 0.60705797\n",
      " 0.64327697 0.67852499 0.71451112 0.75185949 0.78845974 0.82670082\n",
      " 0.86513523 0.90311026 0.94311157 0.98241418 1.02265132 1.06338317\n",
      " 1.1037231  1.1457413  1.1870846  1.22950349 1.27209057 1.31487188\n",
      " 1.35858573 1.40177887 1.44655627 1.49069638 1.53595664 1.58105246\n",
      " 1.62673317 1.67269126 1.7189259  1.76578534 1.81262426 1.86034552\n",
      " 1.90787613 1.95642411 2.00465943 2.05399387 2.10296613 2.15305868\n",
      " 2.2027879  2.25360229 2.30409753 2.3555962  2.40687089 2.4590425\n",
      " 2.5111166  2.56393663 2.6167959  2.67026564 2.72398697 2.77809955\n",
      " 2.83264775 2.88736898 2.94274862 2.99804683 3.05424324 3.11033936\n",
      " 3.16708595 3.22396549 3.2811764  3.338808   3.39642436 3.45476215\n",
      " 3.51300564 3.57171873 3.63055963 3.68945727 3.74878547 3.80792331\n",
      " 3.86745024 3.9268597  3.9862262  4.0457393  4.10487575 4.1642755\n",
      " 4.22330621 4.28212678 4.34085226 4.39902244 4.45724076 4.51481658\n",
      " 4.57214576 4.62891128 4.68510193 4.74088715 4.7958434  4.85049814\n",
      " 4.90412267 4.95729755 5.00944341 5.06063727 5.1103713  5.1590625\n",
      " 5.20623833 5.25244533 5.29699111 5.34055915 5.38267316 5.42355107\n",
      " 5.4631391  5.50130917 5.54090222 5.58570967 5.63518047 5.68400543\n",
      " 5.73024162 5.7742698  5.8159345  5.85558451 5.89314766 5.92884808\n",
      " 5.96277563 5.9948298  6.02563667 6.05502582 6.08290719 6.10959517\n",
      " 6.13520235 6.15969836 6.18315817 6.20569241 6.22748121 6.24838727\n",
      " 6.26848023 6.28769402 6.30619    6.32413439 6.34134898 6.35803071\n",
      " 6.37416493 6.38977951 6.40496655 6.4198179  6.4342034  6.44803636\n",
      " 6.46157837 6.47465593 6.48732583 6.4997716  6.51207059 6.52407423\n",
      " 6.53590664 6.54755404 6.55771963 6.5666595 ]\n"
     ]
    }
   ],
   "source": [
    "print(galaxy_1.get_size())\n",
    "print(galaxy_2.get_size())\n",
    "print(galaxy_3.get_size())\n",
    "\n"
   ]
  },
  {
   "cell_type": "code",
   "execution_count": 23,
   "metadata": {
    "ExecuteTime": {
     "end_time": "2018-11-26T17:10:44.091447Z",
     "start_time": "2018-11-26T17:10:44.084750Z"
    },
    "collapsed": false
   },
   "outputs": [
    {
     "data": {
      "text/plain": [
       "array([1.21007968e+04, 1.24008182e+05, 1.83705032e+05, 2.54813648e+05,\n",
       "       3.79289938e+05, 5.58910264e+05, 7.81073651e+05, 1.11278271e+06,\n",
       "       1.58821406e+06, 2.25268052e+06, 3.11170619e+06, 4.17231384e+06,\n",
       "       6.07043681e+06, 8.64898588e+06, 1.18963362e+07, 1.58542439e+07,\n",
       "       2.05937764e+07, 2.62015413e+07, 3.28506173e+07, 4.06961871e+07,\n",
       "       4.97006237e+07, 5.97284643e+07, 7.11241815e+07, 8.37065255e+07,\n",
       "       9.77649728e+07, 1.13283018e+08, 1.31801552e+08, 1.55459480e+08,\n",
       "       1.86041210e+08, 2.22541603e+08, 2.63477418e+08, 3.09667632e+08,\n",
       "       3.60468619e+08, 4.16338780e+08, 4.77597993e+08, 5.43528598e+08,\n",
       "       6.14882574e+08, 6.92090490e+08, 7.75513290e+08, 8.64621897e+08,\n",
       "       9.61938007e+08, 1.06685056e+09, 1.17858131e+09, 1.29761478e+09,\n",
       "       1.42316468e+09, 1.55749113e+09, 1.70058705e+09, 1.85105038e+09,\n",
       "       2.00912034e+09, 2.17383812e+09, 2.34679611e+09, 2.52770349e+09,\n",
       "       2.71888405e+09, 2.91892760e+09, 3.12985349e+09, 3.35062658e+09,\n",
       "       3.58270419e+09, 3.82520292e+09, 4.07976752e+09, 4.34603326e+09,\n",
       "       4.62125014e+09, 4.90735806e+09, 5.20685776e+09, 5.51957729e+09,\n",
       "       5.84553201e+09, 6.18704011e+09, 6.54500144e+09, 6.91904897e+09,\n",
       "       7.30838801e+09, 7.71187144e+09, 8.12895212e+09, 8.56342315e+09,\n",
       "       9.01572885e+09, 9.48500373e+09, 9.96953914e+09, 1.04752195e+10,\n",
       "       1.09973550e+10, 1.15394472e+10, 1.20986553e+10, 1.26750695e+10,\n",
       "       1.32712815e+10, 1.38817755e+10, 1.45077158e+10, 1.51509822e+10,\n",
       "       1.58112461e+10, 1.64886730e+10, 1.71812420e+10, 1.78894585e+10,\n",
       "       1.86093023e+10, 1.93403567e+10, 2.00830803e+10, 2.08389086e+10,\n",
       "       2.16034209e+10, 2.23790716e+10, 2.31632262e+10, 2.39540242e+10,\n",
       "       2.47514341e+10, 2.55521477e+10, 2.63528663e+10, 2.71545811e+10,\n",
       "       2.79566698e+10, 2.87570704e+10, 2.95517952e+10, 3.03403003e+10,\n",
       "       3.11220381e+10, 3.18964134e+10, 3.26619643e+10, 3.34218865e+10,\n",
       "       3.41709468e+10, 3.49083924e+10, 3.56351603e+10, 3.63495957e+10,\n",
       "       3.70506899e+10, 3.77393623e+10, 3.84136672e+10, 3.90710476e+10,\n",
       "       3.97128950e+10, 4.03379383e+10, 4.09450537e+10, 4.15352229e+10,\n",
       "       4.21070048e+10, 4.26596983e+10, 4.31951764e+10, 4.37058706e+10,\n",
       "       4.41931499e+10, 4.46583964e+10, 4.51024796e+10, 4.55265307e+10,\n",
       "       4.59304443e+10, 4.63156963e+10, 4.66841741e+10, 4.70349746e+10,\n",
       "       4.73697479e+10, 4.76886628e+10, 4.80127147e+10, 4.83760166e+10,\n",
       "       4.87697598e+10, 4.91538144e+10, 4.95111345e+10, 4.98475233e+10,\n",
       "       5.01637234e+10, 5.04608291e+10, 5.07409286e+10, 5.10041534e+10,\n",
       "       5.12532177e+10, 5.14891026e+10, 5.17136530e+10, 5.19275422e+10,\n",
       "       5.21307611e+10, 5.23254772e+10, 5.25107576e+10, 5.26873620e+10,\n",
       "       5.28563027e+10, 5.30181218e+10, 5.31735345e+10, 5.33223718e+10,\n",
       "       5.34654814e+10, 5.36027382e+10, 5.37346207e+10, 5.38612876e+10,\n",
       "       5.39827569e+10, 5.40997296e+10, 5.42124211e+10, 5.43210385e+10,\n",
       "       5.44257118e+10, 5.45263092e+10, 5.46235865e+10, 5.47170883e+10,\n",
       "       5.48075775e+10, 5.48945227e+10, 5.49783370e+10, 5.50597768e+10,\n",
       "       5.51385032e+10, 5.52143391e+10, 5.52879334e+10, 5.53587802e+10,\n",
       "       5.54186643e+10, 5.54679786e+10])"
      ]
     },
     "execution_count": 23,
     "metadata": {},
     "output_type": "execute_result"
    }
   ],
   "source": [
    "galaxy_1.mass"
   ]
  },
  {
   "cell_type": "code",
   "execution_count": null,
   "metadata": {
    "collapsed": true
   },
   "outputs": [],
   "source": []
  },
  {
   "cell_type": "markdown",
   "metadata": {},
   "source": [
    "# Observations"
   ]
  },
  {
   "cell_type": "code",
   "execution_count": 29,
   "metadata": {
    "ExecuteTime": {
     "end_time": "2018-11-26T21:34:17.047850Z",
     "start_time": "2018-11-26T21:34:17.042142Z"
    },
    "collapsed": true
   },
   "outputs": [],
   "source": [
    "def Mosleh2013_SF(mass):\n",
    "    alpha, beta, gamma, M0 = 0.109, 0.263, 10**-0.743, 10**10.204\n",
    "    return(gamma*mass**alpha*(1+mass/M0)**(beta-alpha))\n",
    "\n",
    "def Mosleh2013_Q(mass):\n",
    "    alpha, beta, gamma, M0 = 0.014, 0.912, 10**-0.058, 10**10.555\n",
    "    return(gamma*mass**alpha*(1+mass/M0)**(beta-alpha))\n",
    "\n"
   ]
  },
  {
   "cell_type": "code",
   "execution_count": 36,
   "metadata": {
    "ExecuteTime": {
     "end_time": "2018-11-26T21:38:59.668197Z",
     "start_time": "2018-11-26T21:38:59.664796Z"
    },
    "collapsed": false
   },
   "outputs": [],
   "source": [
    "log_mass_plot = np.linspace(9.0, 11.5)"
   ]
  },
  {
   "cell_type": "code",
   "execution_count": 40,
   "metadata": {
    "ExecuteTime": {
     "end_time": "2018-11-26T21:39:57.874444Z",
     "start_time": "2018-11-26T21:39:57.526589Z"
    },
    "collapsed": false
   },
   "outputs": [
    {
     "data": {
      "image/png": "[encoded data removed]",
      "text/plain": [
       "<matplotlib.figure.Figure at 0x1199be290>"
      ]
     },
     "metadata": {},
     "output_type": "display_data"
    }
   ],
   "source": [
    "\n",
    "\n",
    "fig, ax = plt.subplots(nrows=1, ncols=1, figsize=(5.5, 4.5))\n",
    "\n",
    "# plot model\n",
    "sc = ax.plot(log_mass_plot, np.log10(Mosleh2013_SF(10**log_mass_plot)), '-', lw=3, color='C0', label='SF')\n",
    "sc = ax.plot(log_mass_plot, np.log10(Mosleh2013_Q(10**log_mass_plot)), '-', lw=3, color='C3', label='Q')\n",
    "\n",
    "\n",
    "# set axes\n",
    "\n",
    "ax.set_xlabel(r'$\\log\\/\\/\\/\\mathrm{M_{\\star}}\\/\\/\\/[\\mathrm{M_{\\odot}}]$', fontsize=18)\n",
    "ax.set_ylabel(r'$\\log\\/\\/\\/R_{\\rm e}\\/\\/\\/[\\mathrm{kpc}]$', fontsize=18)\n",
    "\n",
    "ax.set_xlim([9.0, 11.5])\n",
    "ax.set_ylim([-0.3, 1.5])\n",
    "\n",
    "ax.legend(frameon=False, fontsize=14)\n",
    "\n",
    "plt.show()"
   ]
  },
  {
   "cell_type": "code",
   "execution_count": null,
   "metadata": {
    "collapsed": true
   },
   "outputs": [],
   "source": []
  },
  {
   "cell_type": "code",
   "execution_count": null,
   "metadata": {
    "collapsed": true
   },
   "outputs": [],
   "source": []
  },
  {
   "cell_type": "code",
   "execution_count": null,
   "metadata": {
    "collapsed": true
   },
   "outputs": [],
   "source": []
  },
  {
   "cell_type": "code",
   "execution_count": null,
   "metadata": {
    "collapsed": true
   },
   "outputs": [],
   "source": []
  }
 ],
 "metadata": {
  "kernelspec": {
   "display_name": "Python 2",
   "language": "python",
   "name": "python2"
  },
  "language_info": {
   "codemirror_mode": {
    "name": "ipython",
    "version": 2
   },
   "file_extension": ".py",
   "mimetype": "text/x-python",
   "name": "python",
   "nbconvert_exporter": "python",
   "pygments_lexer": "ipython2",
   "version": "2.7.13"
  },
  "toc": {
   "nav_menu": {},
   "number_sections": true,
   "sideBar": true,
   "skip_h1_title": false,
   "toc_cell": false,
   "toc_position": {},
   "toc_section_display": "block",
   "toc_window_display": false
  },
  "varInspector": {
   "cols": {
    "lenName": 16,
    "lenType": 16,
    "lenVar": 40
   },
   "kernels_config": {
    "python": {
     "delete_cmd_postfix": "",
     "delete_cmd_prefix": "del ",
     "library": "var_list.py",
     "varRefreshCmd": "print(var_dic_list())"
    },
    "r": {
     "delete_cmd_postfix": ") ",
     "delete_cmd_prefix": "rm(",
     "library": "var_list.r",
     "varRefreshCmd": "cat(var_dic_list()) "
    }
   },
   "types_to_exclude": [
    "module",
    "function",
    "builtin_function_or_method",
    "instance",
    "_Feature"
   ],
   "window_display": false
  }
 },
 "nbformat": 4,
 "nbformat_minor": 2
}
